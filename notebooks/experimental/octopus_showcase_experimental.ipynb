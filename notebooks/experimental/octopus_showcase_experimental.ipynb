{
 "cells": [
  {
   "cell_type": "markdown",
   "metadata": {
    "toc": true
   },
   "source": [
    "<h1>Table of Contents<span class=\"tocSkip\"></span></h1>\n",
    "<div class=\"toc\"><ul class=\"toc-item\"><li><span><a href=\"#EDA-and-pre-processing\" data-toc-modified-id=\"EDA-and-pre-processing-1\"><span class=\"toc-item-num\">1&nbsp;&nbsp;</span>EDA and pre-processing</a></span><ul class=\"toc-item\"><li><span><a href=\"#Descriptive-statistics-(data-shape,-balance,-etc)\" data-toc-modified-id=\"Descriptive-statistics-(data-shape,-balance,-etc)-1.1\"><span class=\"toc-item-num\">1.1&nbsp;&nbsp;</span>Descriptive statistics (data shape, balance, etc)</a></span></li><li><span><a href=\"#Data-pre-processing\" data-toc-modified-id=\"Data-pre-processing-1.2\"><span class=\"toc-item-num\">1.2&nbsp;&nbsp;</span>Data pre-processing</a></span></li></ul></li><li><span><a href=\"#ML-template-starts---training-session\" data-toc-modified-id=\"ML-template-starts---training-session-2\"><span class=\"toc-item-num\">2&nbsp;&nbsp;</span>ML template starts - training session</a></span><ul class=\"toc-item\"><li><span><a href=\"#Training-model-(LGBM)-with-stratisfied-CV\" data-toc-modified-id=\"Training-model-(LGBM)-with-stratisfied-CV-2.1\"><span class=\"toc-item-num\">2.1&nbsp;&nbsp;</span>Training model (LGBM) with stratisfied CV</a></span></li></ul></li><li><span><a href=\"#Model-evaluation\" data-toc-modified-id=\"Model-evaluation-3\"><span class=\"toc-item-num\">3&nbsp;&nbsp;</span>Model evaluation</a></span><ul class=\"toc-item\"><li><span><a href=\"#Plot-of-the-CV-folds---F1-macro-and-F1-for-the-positive-class\" data-toc-modified-id=\"Plot-of-the-CV-folds---F1-macro-and-F1-for-the-positive-class-3.1\"><span class=\"toc-item-num\">3.1&nbsp;&nbsp;</span>Plot of the CV folds - F1 macro and F1 for the positive class</a></span></li><li><span><a href=\"#Scikit-learn---Classification-report\" data-toc-modified-id=\"Scikit-learn---Classification-report-3.2\"><span class=\"toc-item-num\">3.2&nbsp;&nbsp;</span>Scikit learn - Classification report</a></span></li><li><span><a href=\"#ROC-curve-with-AUC\" data-toc-modified-id=\"ROC-curve-with-AUC-3.3\"><span class=\"toc-item-num\">3.3&nbsp;&nbsp;</span>ROC curve with AUC</a></span></li><li><span><a href=\"#Confusion-Matrix-plot-(normalized-and-with-absolute-values)\" data-toc-modified-id=\"Confusion-Matrix-plot-(normalized-and-with-absolute-values)-3.4\"><span class=\"toc-item-num\">3.4&nbsp;&nbsp;</span>Confusion Matrix plot (normalized and with absolute values)</a></span></li><li><span><a href=\"#Feature-Importance-plot\" data-toc-modified-id=\"Feature-Importance-plot-3.5\"><span class=\"toc-item-num\">3.5&nbsp;&nbsp;</span>Feature Importance plot</a></span></li><li><span><a href=\"#Correlations-analysis-(on-top-features)\" data-toc-modified-id=\"Correlations-analysis-(on-top-features)-3.6\"><span class=\"toc-item-num\">3.6&nbsp;&nbsp;</span>Correlations analysis (on top features)</a></span></li><li><span><a href=\"#Anomaly-detection-on-the-training-set-(on-top-features-alone)\" data-toc-modified-id=\"Anomaly-detection-on-the-training-set-(on-top-features-alone)-3.7\"><span class=\"toc-item-num\">3.7&nbsp;&nbsp;</span>Anomaly detection on the training set (on top features alone)</a></span></li><li><span><a href=\"#Data-leakage-test\" data-toc-modified-id=\"Data-leakage-test-3.8\"><span class=\"toc-item-num\">3.8&nbsp;&nbsp;</span>Data leakage test</a></span></li>\n",
    "<li><span><a href=\"##-Analysis-of-FPs/FNs\" data-toc-modified-id=\"##-Analysis-of-FPs/FNs\"><span class=\"toc-item-num\">3.9&nbsp;&nbsp;</span>Analysis of FPs/FNs</a></span></li></ul></li></ul></div>"
   ]
  },
  {
   "cell_type": "code",
   "execution_count": 40,
   "metadata": {
    "ExecuteTime": {
     "end_time": "2020-12-15T06:57:35.530610Z",
     "start_time": "2020-12-15T06:57:35.525511Z"
    }
   },
   "outputs": [
    {
     "ename": "NameError",
     "evalue": "name 'study' is not defined",
     "output_type": "error",
     "traceback": [
      "\u001b[0;31m---------------------------------------------------------------------------\u001b[0m",
      "\u001b[0;31mNameError\u001b[0m                                 Traceback (most recent call last)",
      "\u001b[0;32m<ipython-input-40-96e0ff3b81a6>\u001b[0m in \u001b[0;36m<module>\u001b[0;34m\u001b[0m\n\u001b[1;32m     10\u001b[0m \u001b[0;32mimport\u001b[0m \u001b[0moptuna\u001b[0m\u001b[0;34m\u001b[0m\u001b[0;34m\u001b[0m\u001b[0m\n\u001b[1;32m     11\u001b[0m \u001b[0;32mfrom\u001b[0m \u001b[0moptuna\u001b[0m\u001b[0;34m.\u001b[0m\u001b[0mvisualization\u001b[0m \u001b[0;32mimport\u001b[0m \u001b[0mplot_optimization_history\u001b[0m\u001b[0;34m,\u001b[0m \u001b[0mplot_param_importances\u001b[0m\u001b[0;34m\u001b[0m\u001b[0;34m\u001b[0m\u001b[0m\n\u001b[0;32m---> 12\u001b[0;31m \u001b[0mplot_optimization_history\u001b[0m\u001b[0;34m(\u001b[0m\u001b[0mstudy\u001b[0m\u001b[0;34m)\u001b[0m\u001b[0;34m\u001b[0m\u001b[0;34m\u001b[0m\u001b[0m\n\u001b[0m\u001b[1;32m     13\u001b[0m \u001b[0;34m\u001b[0m\u001b[0m\n\u001b[1;32m     14\u001b[0m \u001b[0mpd\u001b[0m\u001b[0;34m.\u001b[0m\u001b[0mset_option\u001b[0m\u001b[0;34m(\u001b[0m\u001b[0;34m'display.max_columns'\u001b[0m\u001b[0;34m,\u001b[0m \u001b[0;32mNone\u001b[0m\u001b[0;34m)\u001b[0m  \u001b[0;31m# or 1000\u001b[0m\u001b[0;34m\u001b[0m\u001b[0;34m\u001b[0m\u001b[0m\n",
      "\u001b[0;31mNameError\u001b[0m: name 'study' is not defined"
     ]
    }
   ],
   "source": [
    "import warnings\n",
    "import pandas as pd \n",
    "import numpy as np\n",
    "from pandas_summary import DataFrameSummary\n",
    "import octopus_ml as oc \n",
    "from sklearn.metrics import classification_report\n",
    "import matplotlib.pyplot as plt\n",
    "import seaborn as sns\n",
    "import re\n",
    "import optuna \n",
    "from optuna.visualization import plot_optimization_history, plot_param_importances\n",
    "plot_optimization_history(study)\n",
    "\n",
    "pd.set_option('display.max_columns', None)  # or 1000\n",
    "pd.set_option('display.max_rows', None)  # or 1000\n",
    "pd.set_option('display.max_colwidth', -1)  # or 199\n",
    "%matplotlib inline\n",
    "warnings.simplefilter(\"ignore\")"
   ]
  },
  {
   "cell_type": "markdown",
   "metadata": {},
   "source": [
    "### Read the Kaggle Titanic competition dataset \n",
    "https://www.kaggle.com/c/titanic"
   ]
  },
  {
   "cell_type": "code",
   "execution_count": 2,
   "metadata": {
    "ExecuteTime": {
     "end_time": "2020-12-15T06:27:56.795757Z",
     "start_time": "2020-12-15T06:27:55.520746Z"
    }
   },
   "outputs": [],
   "source": [
    "XY_df=pd.read_csv('../datasets/Kaggle_titanic_train.csv')"
   ]
  },
  {
   "cell_type": "markdown",
   "metadata": {},
   "source": [
    "# EDA and pre-processing "
   ]
  },
  {
   "cell_type": "markdown",
   "metadata": {},
   "source": [
    "## Descriptive statistics (data shape, balance, etc)"
   ]
  },
  {
   "cell_type": "code",
   "execution_count": 3,
   "metadata": {
    "ExecuteTime": {
     "end_time": "2020-12-15T06:27:56.802314Z",
     "start_time": "2020-12-15T06:27:56.798297Z"
    }
   },
   "outputs": [
    {
     "data": {
      "text/plain": [
       "(891, 12)"
      ]
     },
     "execution_count": 3,
     "metadata": {},
     "output_type": "execute_result"
    }
   ],
   "source": [
    "XY_df.shape"
   ]
  },
  {
   "cell_type": "code",
   "execution_count": 4,
   "metadata": {
    "ExecuteTime": {
     "end_time": "2020-12-15T06:27:56.921276Z",
     "start_time": "2020-12-15T06:27:56.804964Z"
    }
   },
   "outputs": [
    {
     "data": {
      "text/html": [
       "<div>\n",
       "<style scoped>\n",
       "    .dataframe tbody tr th:only-of-type {\n",
       "        vertical-align: middle;\n",
       "    }\n",
       "\n",
       "    .dataframe tbody tr th {\n",
       "        vertical-align: top;\n",
       "    }\n",
       "\n",
       "    .dataframe thead th {\n",
       "        text-align: right;\n",
       "    }\n",
       "</style>\n",
       "<table border=\"1\" class=\"dataframe\">\n",
       "  <thead>\n",
       "    <tr style=\"text-align: right;\">\n",
       "      <th></th>\n",
       "      <th>PassengerId</th>\n",
       "      <th>Survived</th>\n",
       "      <th>Pclass</th>\n",
       "      <th>Name</th>\n",
       "      <th>Sex</th>\n",
       "      <th>Age</th>\n",
       "      <th>SibSp</th>\n",
       "      <th>Parch</th>\n",
       "      <th>Ticket</th>\n",
       "      <th>Fare</th>\n",
       "      <th>Cabin</th>\n",
       "      <th>Embarked</th>\n",
       "    </tr>\n",
       "  </thead>\n",
       "  <tbody>\n",
       "    <tr>\n",
       "      <th>0</th>\n",
       "      <td>1</td>\n",
       "      <td>0</td>\n",
       "      <td>3</td>\n",
       "      <td>Braund, Mr. Owen Harris</td>\n",
       "      <td>male</td>\n",
       "      <td>22.0</td>\n",
       "      <td>1</td>\n",
       "      <td>0</td>\n",
       "      <td>A/5 21171</td>\n",
       "      <td>7.2500</td>\n",
       "      <td>NaN</td>\n",
       "      <td>S</td>\n",
       "    </tr>\n",
       "    <tr>\n",
       "      <th>1</th>\n",
       "      <td>2</td>\n",
       "      <td>1</td>\n",
       "      <td>1</td>\n",
       "      <td>Cumings, Mrs. John Bradley (Florence Briggs Thayer)</td>\n",
       "      <td>female</td>\n",
       "      <td>38.0</td>\n",
       "      <td>1</td>\n",
       "      <td>0</td>\n",
       "      <td>PC 17599</td>\n",
       "      <td>71.2833</td>\n",
       "      <td>C85</td>\n",
       "      <td>C</td>\n",
       "    </tr>\n",
       "    <tr>\n",
       "      <th>2</th>\n",
       "      <td>3</td>\n",
       "      <td>1</td>\n",
       "      <td>3</td>\n",
       "      <td>Heikkinen, Miss. Laina</td>\n",
       "      <td>female</td>\n",
       "      <td>26.0</td>\n",
       "      <td>0</td>\n",
       "      <td>0</td>\n",
       "      <td>STON/O2. 3101282</td>\n",
       "      <td>7.9250</td>\n",
       "      <td>NaN</td>\n",
       "      <td>S</td>\n",
       "    </tr>\n",
       "    <tr>\n",
       "      <th>3</th>\n",
       "      <td>4</td>\n",
       "      <td>1</td>\n",
       "      <td>1</td>\n",
       "      <td>Futrelle, Mrs. Jacques Heath (Lily May Peel)</td>\n",
       "      <td>female</td>\n",
       "      <td>35.0</td>\n",
       "      <td>1</td>\n",
       "      <td>0</td>\n",
       "      <td>113803</td>\n",
       "      <td>53.1000</td>\n",
       "      <td>C123</td>\n",
       "      <td>S</td>\n",
       "    </tr>\n",
       "    <tr>\n",
       "      <th>4</th>\n",
       "      <td>5</td>\n",
       "      <td>0</td>\n",
       "      <td>3</td>\n",
       "      <td>Allen, Mr. William Henry</td>\n",
       "      <td>male</td>\n",
       "      <td>35.0</td>\n",
       "      <td>0</td>\n",
       "      <td>0</td>\n",
       "      <td>373450</td>\n",
       "      <td>8.0500</td>\n",
       "      <td>NaN</td>\n",
       "      <td>S</td>\n",
       "    </tr>\n",
       "  </tbody>\n",
       "</table>\n",
       "</div>"
      ],
      "text/plain": [
       "   PassengerId  Survived  Pclass  \\\n",
       "0  1            0         3        \n",
       "1  2            1         1        \n",
       "2  3            1         3        \n",
       "3  4            1         1        \n",
       "4  5            0         3        \n",
       "\n",
       "                                                  Name     Sex   Age  SibSp  \\\n",
       "0  Braund, Mr. Owen Harris                              male    22.0  1       \n",
       "1  Cumings, Mrs. John Bradley (Florence Briggs Thayer)  female  38.0  1       \n",
       "2  Heikkinen, Miss. Laina                               female  26.0  0       \n",
       "3  Futrelle, Mrs. Jacques Heath (Lily May Peel)         female  35.0  1       \n",
       "4  Allen, Mr. William Henry                             male    35.0  0       \n",
       "\n",
       "   Parch            Ticket     Fare Cabin Embarked  \n",
       "0  0      A/5 21171         7.2500   NaN   S        \n",
       "1  0      PC 17599          71.2833  C85   C        \n",
       "2  0      STON/O2. 3101282  7.9250   NaN   S        \n",
       "3  0      113803            53.1000  C123  S        \n",
       "4  0      373450            8.0500   NaN   S        "
      ]
     },
     "execution_count": 4,
     "metadata": {},
     "output_type": "execute_result"
    }
   ],
   "source": [
    "XY_df.head(5)"
   ]
  },
  {
   "cell_type": "markdown",
   "metadata": {},
   "source": [
    "### Target distribution"
   ]
  },
  {
   "cell_type": "code",
   "execution_count": 5,
   "metadata": {
    "ExecuteTime": {
     "end_time": "2020-12-15T06:27:56.927779Z",
     "start_time": "2020-12-15T06:27:56.922950Z"
    }
   },
   "outputs": [
    {
     "data": {
      "text/plain": [
       "0    549\n",
       "1    342\n",
       "Name: Survived, dtype: int64"
      ]
     },
     "execution_count": 5,
     "metadata": {},
     "output_type": "execute_result"
    }
   ],
   "source": [
    "XY_df['Survived'].value_counts()"
   ]
  },
  {
   "cell_type": "code",
   "execution_count": 6,
   "metadata": {},
   "outputs": [
    {
     "data": {
      "image/png": "[encoded data removed]",
      "text/plain": [
       "<Figure size 288x216 with 1 Axes>"
      ]
     },
     "metadata": {},
     "output_type": "display_data"
    }
   ],
   "source": [
    "oc.target_pie(XY_df,'Survived')"
   ]
  },
  {
   "cell_type": "markdown",
   "metadata": {},
   "source": [
    "### Selected features vs target historgrams "
   ]
  },
  {
   "cell_type": "code",
   "execution_count": 7,
   "metadata": {},
   "outputs": [
    {
     "data": {
      "image/png": "[encoded data removed]",
      "text/plain": [
       "<Figure size 437.84x216 with 1 Axes>"
      ]
     },
     "metadata": {},
     "output_type": "display_data"
    }
   ],
   "source": [
    "oc.hist_target(XY_df, 'Sex', 'Survived')"
   ]
  },
  {
   "cell_type": "code",
   "execution_count": 8,
   "metadata": {},
   "outputs": [
    {
     "data": {
      "image/png": "[encoded data removed]",
      "text/plain": [
       "<Figure size 437.84x216 with 1 Axes>"
      ]
     },
     "metadata": {},
     "output_type": "display_data"
    }
   ],
   "source": [
    "oc.hist_target(XY_df, 'Fare', 'Survived')"
   ]
  },
  {
   "cell_type": "markdown",
   "metadata": {},
   "source": [
    "### Data summary - and missing values analysis"
   ]
  },
  {
   "cell_type": "code",
   "execution_count": 9,
   "metadata": {
    "ExecuteTime": {
     "end_time": "2020-12-15T06:28:11.003524Z",
     "start_time": "2020-12-15T06:27:56.928971Z"
    }
   },
   "outputs": [
    {
     "data": {
      "text/html": [
       "<div>\n",
       "<style scoped>\n",
       "    .dataframe tbody tr th:only-of-type {\n",
       "        vertical-align: middle;\n",
       "    }\n",
       "\n",
       "    .dataframe tbody tr th {\n",
       "        vertical-align: top;\n",
       "    }\n",
       "\n",
       "    .dataframe thead th {\n",
       "        text-align: right;\n",
       "    }\n",
       "</style>\n",
       "<table border=\"1\" class=\"dataframe\">\n",
       "  <thead>\n",
       "    <tr style=\"text-align: right;\">\n",
       "      <th></th>\n",
       "      <th>PassengerId</th>\n",
       "      <th>Survived</th>\n",
       "      <th>Pclass</th>\n",
       "      <th>Name</th>\n",
       "      <th>Sex</th>\n",
       "      <th>Age</th>\n",
       "      <th>SibSp</th>\n",
       "      <th>Parch</th>\n",
       "      <th>Ticket</th>\n",
       "      <th>Fare</th>\n",
       "      <th>Cabin</th>\n",
       "      <th>Embarked</th>\n",
       "    </tr>\n",
       "  </thead>\n",
       "  <tbody>\n",
       "    <tr>\n",
       "      <th>count</th>\n",
       "      <td>891</td>\n",
       "      <td>891</td>\n",
       "      <td>891</td>\n",
       "      <td>NaN</td>\n",
       "      <td>NaN</td>\n",
       "      <td>714</td>\n",
       "      <td>891</td>\n",
       "      <td>891</td>\n",
       "      <td>NaN</td>\n",
       "      <td>891</td>\n",
       "      <td>NaN</td>\n",
       "      <td>NaN</td>\n",
       "    </tr>\n",
       "    <tr>\n",
       "      <th>mean</th>\n",
       "      <td>446</td>\n",
       "      <td>0.383838</td>\n",
       "      <td>2.30864</td>\n",
       "      <td>NaN</td>\n",
       "      <td>NaN</td>\n",
       "      <td>29.6991</td>\n",
       "      <td>0.523008</td>\n",
       "      <td>0.381594</td>\n",
       "      <td>NaN</td>\n",
       "      <td>32.2042</td>\n",
       "      <td>NaN</td>\n",
       "      <td>NaN</td>\n",
       "    </tr>\n",
       "    <tr>\n",
       "      <th>std</th>\n",
       "      <td>257.354</td>\n",
       "      <td>0.486592</td>\n",
       "      <td>0.836071</td>\n",
       "      <td>NaN</td>\n",
       "      <td>NaN</td>\n",
       "      <td>14.5265</td>\n",
       "      <td>1.10274</td>\n",
       "      <td>0.806057</td>\n",
       "      <td>NaN</td>\n",
       "      <td>49.6934</td>\n",
       "      <td>NaN</td>\n",
       "      <td>NaN</td>\n",
       "    </tr>\n",
       "    <tr>\n",
       "      <th>min</th>\n",
       "      <td>1</td>\n",
       "      <td>0</td>\n",
       "      <td>1</td>\n",
       "      <td>NaN</td>\n",
       "      <td>NaN</td>\n",
       "      <td>0.42</td>\n",
       "      <td>0</td>\n",
       "      <td>0</td>\n",
       "      <td>NaN</td>\n",
       "      <td>0</td>\n",
       "      <td>NaN</td>\n",
       "      <td>NaN</td>\n",
       "    </tr>\n",
       "    <tr>\n",
       "      <th>25%</th>\n",
       "      <td>223.5</td>\n",
       "      <td>0</td>\n",
       "      <td>2</td>\n",
       "      <td>NaN</td>\n",
       "      <td>NaN</td>\n",
       "      <td>20.125</td>\n",
       "      <td>0</td>\n",
       "      <td>0</td>\n",
       "      <td>NaN</td>\n",
       "      <td>7.9104</td>\n",
       "      <td>NaN</td>\n",
       "      <td>NaN</td>\n",
       "    </tr>\n",
       "    <tr>\n",
       "      <th>50%</th>\n",
       "      <td>446</td>\n",
       "      <td>0</td>\n",
       "      <td>3</td>\n",
       "      <td>NaN</td>\n",
       "      <td>NaN</td>\n",
       "      <td>28</td>\n",
       "      <td>0</td>\n",
       "      <td>0</td>\n",
       "      <td>NaN</td>\n",
       "      <td>14.4542</td>\n",
       "      <td>NaN</td>\n",
       "      <td>NaN</td>\n",
       "    </tr>\n",
       "    <tr>\n",
       "      <th>75%</th>\n",
       "      <td>668.5</td>\n",
       "      <td>1</td>\n",
       "      <td>3</td>\n",
       "      <td>NaN</td>\n",
       "      <td>NaN</td>\n",
       "      <td>38</td>\n",
       "      <td>1</td>\n",
       "      <td>0</td>\n",
       "      <td>NaN</td>\n",
       "      <td>31</td>\n",
       "      <td>NaN</td>\n",
       "      <td>NaN</td>\n",
       "    </tr>\n",
       "    <tr>\n",
       "      <th>max</th>\n",
       "      <td>891</td>\n",
       "      <td>1</td>\n",
       "      <td>3</td>\n",
       "      <td>NaN</td>\n",
       "      <td>NaN</td>\n",
       "      <td>80</td>\n",
       "      <td>8</td>\n",
       "      <td>6</td>\n",
       "      <td>NaN</td>\n",
       "      <td>512.329</td>\n",
       "      <td>NaN</td>\n",
       "      <td>NaN</td>\n",
       "    </tr>\n",
       "    <tr>\n",
       "      <th>counts</th>\n",
       "      <td>891</td>\n",
       "      <td>891</td>\n",
       "      <td>891</td>\n",
       "      <td>891</td>\n",
       "      <td>891</td>\n",
       "      <td>714</td>\n",
       "      <td>891</td>\n",
       "      <td>891</td>\n",
       "      <td>891</td>\n",
       "      <td>891</td>\n",
       "      <td>204</td>\n",
       "      <td>889</td>\n",
       "    </tr>\n",
       "    <tr>\n",
       "      <th>uniques</th>\n",
       "      <td>891</td>\n",
       "      <td>2</td>\n",
       "      <td>3</td>\n",
       "      <td>891</td>\n",
       "      <td>2</td>\n",
       "      <td>88</td>\n",
       "      <td>7</td>\n",
       "      <td>7</td>\n",
       "      <td>681</td>\n",
       "      <td>248</td>\n",
       "      <td>147</td>\n",
       "      <td>3</td>\n",
       "    </tr>\n",
       "    <tr>\n",
       "      <th>missing</th>\n",
       "      <td>0</td>\n",
       "      <td>0</td>\n",
       "      <td>0</td>\n",
       "      <td>0</td>\n",
       "      <td>0</td>\n",
       "      <td>177</td>\n",
       "      <td>0</td>\n",
       "      <td>0</td>\n",
       "      <td>0</td>\n",
       "      <td>0</td>\n",
       "      <td>687</td>\n",
       "      <td>2</td>\n",
       "    </tr>\n",
       "    <tr>\n",
       "      <th>missing_perc</th>\n",
       "      <td>0%</td>\n",
       "      <td>0%</td>\n",
       "      <td>0%</td>\n",
       "      <td>0%</td>\n",
       "      <td>0%</td>\n",
       "      <td>19.87%</td>\n",
       "      <td>0%</td>\n",
       "      <td>0%</td>\n",
       "      <td>0%</td>\n",
       "      <td>0%</td>\n",
       "      <td>77.10%</td>\n",
       "      <td>0.22%</td>\n",
       "    </tr>\n",
       "    <tr>\n",
       "      <th>types</th>\n",
       "      <td>numeric</td>\n",
       "      <td>bool</td>\n",
       "      <td>numeric</td>\n",
       "      <td>unique</td>\n",
       "      <td>bool</td>\n",
       "      <td>numeric</td>\n",
       "      <td>numeric</td>\n",
       "      <td>numeric</td>\n",
       "      <td>categorical</td>\n",
       "      <td>numeric</td>\n",
       "      <td>categorical</td>\n",
       "      <td>categorical</td>\n",
       "    </tr>\n",
       "  </tbody>\n",
       "</table>\n",
       "</div>"
      ],
      "text/plain": [
       "             PassengerId  Survived    Pclass    Name   Sex      Age     SibSp  \\\n",
       "count         891         891       891       NaN     NaN   714      891        \n",
       "mean          446         0.383838  2.30864   NaN     NaN   29.6991  0.523008   \n",
       "std           257.354     0.486592  0.836071  NaN     NaN   14.5265  1.10274    \n",
       "min           1           0         1         NaN     NaN   0.42     0          \n",
       "25%           223.5       0         2         NaN     NaN   20.125   0          \n",
       "50%           446         0         3         NaN     NaN   28       0          \n",
       "75%           668.5       1         3         NaN     NaN   38       1          \n",
       "max           891         1         3         NaN     NaN   80       8          \n",
       "counts        891         891       891       891     891   714      891        \n",
       "uniques       891         2         3         891     2     88       7          \n",
       "missing       0           0         0         0       0     177      0          \n",
       "missing_perc  0%          0%        0%        0%      0%    19.87%   0%         \n",
       "types         numeric     bool      numeric   unique  bool  numeric  numeric    \n",
       "\n",
       "                 Parch       Ticket     Fare        Cabin     Embarked  \n",
       "count         891       NaN          891      NaN          NaN          \n",
       "mean          0.381594  NaN          32.2042  NaN          NaN          \n",
       "std           0.806057  NaN          49.6934  NaN          NaN          \n",
       "min           0         NaN          0        NaN          NaN          \n",
       "25%           0         NaN          7.9104   NaN          NaN          \n",
       "50%           0         NaN          14.4542  NaN          NaN          \n",
       "75%           0         NaN          31       NaN          NaN          \n",
       "max           6         NaN          512.329  NaN          NaN          \n",
       "counts        891       891          891      204          889          \n",
       "uniques       7         681          248      147          3            \n",
       "missing       0         0            0        687          2            \n",
       "missing_perc  0%        0%           0%       77.10%       0.22%        \n",
       "types         numeric   categorical  numeric  categorical  categorical  "
      ]
     },
     "execution_count": 9,
     "metadata": {},
     "output_type": "execute_result"
    }
   ],
   "source": [
    "import missingno as msno\n",
    "from pandas_summary import DataFrameSummary\n",
    "dfs = DataFrameSummary(XY_df)\n",
    "dfs.summary()"
   ]
  },
  {
   "cell_type": "code",
   "execution_count": 10,
   "metadata": {},
   "outputs": [
    {
     "data": {
      "text/plain": [
       "Cabin       0.771044\n",
       "Age         0.198653\n",
       "Embarked    0.002245\n",
       "Fare        0.000000\n",
       "Ticket      0.000000\n",
       "dtype: float64"
      ]
     },
     "execution_count": 10,
     "metadata": {},
     "output_type": "execute_result"
    }
   ],
   "source": [
    "# Top 5 sparse features, mainly labs results \n",
    "pd.Series(1 - XY_df.count() / len(XY_df)).sort_values(ascending=False).head(5)"
   ]
  },
  {
   "cell_type": "markdown",
   "metadata": {
    "ExecuteTime": {
     "end_time": "2020-12-15T05:43:14.766390Z",
     "start_time": "2020-12-15T05:43:14.764512Z"
    }
   },
   "source": [
    "## Data pre-processing "
   ]
  },
  {
   "cell_type": "code",
   "execution_count": 11,
   "metadata": {},
   "outputs": [],
   "source": [
    "XY_df['Cabin'] = XY_df['Cabin'].astype('str').fillna(\"U0\")\n",
    "deck = {\"A\": 1, \"B\": 2, \"C\": 3, \"D\": 4, \"E\": 5, \"F\": 6, \"G\": 7, \"U\": 8}\n",
    "XY_df['Deck'] = XY_df['Cabin'].map(lambda x: re.compile(\"([a-zA-Z]+)\").search(x).group())\n",
    "XY_df['Deck'] = XY_df['Deck'].map(deck)\n",
    "XY_df['Deck'] = XY_df['Deck'].fillna(0)\n",
    "XY_df['Deck'] = XY_df['Deck'].astype('category')\n",
    "\n",
    "XY_df['relatives'] = XY_df['SibSp'] + XY_df['Parch']\n",
    "XY_df.loc[XY_df['relatives'] > 0, 'not_alone'] = 0\n",
    "XY_df.loc[XY_df['relatives'] == 0, 'not_alone'] = 1\n",
    "XY_df['not_alone'] = XY_df['not_alone'].astype(int)\n",
    "\n",
    "def encodeAgeFare(train):\n",
    "    train.loc[train['Age'] <= 16, 'Age_fare'] = 0\n",
    "    train.loc[(train['Age'] > 16) & (train['Age'] <= 32), 'Age_fare'] = 1\n",
    "    train.loc[(train['Age'] > 32) & (train['Age'] <= 48), 'Age_fare'] = 2\n",
    "    train.loc[(train['Age'] > 48) & (train['Age'] <= 64), 'Age_fare'] = 3\n",
    "    train.loc[ (train['Age'] > 48) & (train['Age'] <= 80), 'Age_fare'] = 4\n",
    "    \n",
    "    train.loc[train['Fare'] <= 7.91, 'Fare'] = 0\n",
    "    train.loc[(train['Fare'] > 7.91) & (train['Fare'] <= 14.454), 'Fare_adj'] = 1\n",
    "    train.loc[(train['Fare'] > 14.454) & (train['Fare'] <= 31.0), 'Fare_adj'] = 2\n",
    "    train.loc[(train['Fare'] > 31.0) & (train['Fare'] <= 512.329), 'Fare_adj'] = 3\n",
    "\n",
    "encodeAgeFare(XY_df)\n"
   ]
  },
  {
   "cell_type": "code",
   "execution_count": 12,
   "metadata": {},
   "outputs": [
    {
     "name": "stdout",
     "output_type": "stream",
     "text": [
      "['Name', 'Sex', 'Ticket', 'Cabin', 'Embarked', 'Deck']\n"
     ]
    }
   ],
   "source": [
    "# Categorical features pre-proccesing  \n",
    "cat_list ,XY_df=oc.cat_features_proccessing(XY_df)\n",
    "print (cat_list)"
   ]
  },
  {
   "cell_type": "code",
   "execution_count": 13,
   "metadata": {
    "ExecuteTime": {
     "end_time": "2020-12-15T06:28:11.015383Z",
     "start_time": "2020-12-15T06:28:11.013262Z"
    }
   },
   "outputs": [
    {
     "name": "stdout",
     "output_type": "stream",
     "text": [
      "number of features  17\n"
     ]
    }
   ],
   "source": [
    "features=XY_df.columns.to_list()\n",
    "print ('number of features ', len(features))\n",
    "\n",
    "features_remove=['PassengerId','Survived']\n",
    "for f in features_remove:\n",
    "    features.remove(f)"
   ]
  },
  {
   "cell_type": "code",
   "execution_count": 14,
   "metadata": {
    "ExecuteTime": {
     "end_time": "2020-12-15T06:28:11.115768Z",
     "start_time": "2020-12-15T06:28:11.017872Z"
    }
   },
   "outputs": [],
   "source": [
    "X=XY_df[features]\n",
    "y=XY_df['Survived']"
   ]
  },
  {
   "cell_type": "code",
   "execution_count": 15,
   "metadata": {
    "ExecuteTime": {
     "end_time": "2020-12-15T06:28:11.203536Z",
     "start_time": "2020-12-15T06:28:11.195213Z"
    }
   },
   "outputs": [
    {
     "data": {
      "image/png": "[encoded data removed]",
      "text/plain": [
       "<IPython.core.display.Image object>"
      ]
     },
     "execution_count": 15,
     "metadata": {
      "image/png": {
       "height": 600,
       "width": 600
      }
     },
     "output_type": "execute_result"
    }
   ],
   "source": [
    "from IPython.display import Image\n",
    "Image(\"../images/octopus_know_your_data.PNG\", width=600, height=600)"
   ]
  },
  {
   "cell_type": "code",
   "execution_count": 16,
   "metadata": {
    "ExecuteTime": {
     "end_time": "2020-12-15T06:28:11.420608Z",
     "start_time": "2020-12-15T06:28:11.205275Z"
    }
   },
   "outputs": [
    {
     "name": "stdout",
     "output_type": "stream",
     "text": [
      "number of positive instances: 342 \n",
      "number of negative instance :  549\n",
      "new dataset shape:  (542, 17)\n",
      "Method Name       :\u001b[35;1m sampling\u001b[0m\n",
      "Current memory usage:\u001b[36m 0.078669MB\u001b[0m\n",
      "Peak                :\u001b[36m 0.092296MB\u001b[0m\n",
      "Total time taken:  \u001b[36m 13.501 ms \u001b[0m\n"
     ]
    }
   ],
   "source": [
    "XY_sampled=oc.sampling(XY_df,'Survived',200)"
   ]
  },
  {
   "cell_type": "markdown",
   "metadata": {},
   "source": [
    "# ML template starts - training session "
   ]
  },
  {
   "cell_type": "markdown",
   "metadata": {
    "ExecuteTime": {
     "end_time": "2020-12-02T15:19:29.187274Z",
     "start_time": "2020-12-02T15:19:29.182176Z"
    }
   },
   "source": [
    "## Training model (LGBM) with stratisfied CV "
   ]
  },
  {
   "cell_type": "code",
   "execution_count": 17,
   "metadata": {},
   "outputs": [],
   "source": [
    "from tqdm import tqdm\n",
    "from sklearn.metrics import confusion_matrix, accuracy_score, roc_curve, auc\n",
    "from sklearn.metrics import accuracy_score, precision_score, recall_score, f1_score\n",
    "from sklearn.metrics import classification_report\n",
    "from sklearn.metrics import roc_auc_score\n",
    "from sklearn.ensemble import IsolationForest\n",
    "from sklearn.model_selection import train_test_split\n",
    "from sklearn.model_selection import KFold\n",
    "from sklearn.metrics import f1_score\n",
    "from sklearn.model_selection import StratifiedKFold\n",
    "\n",
    "import matplotlib.pyplot as plt\n",
    "import seaborn as sns\n",
    "import warnings\n",
    "import time\n",
    "import pandas as pd\n",
    "import numpy as np\n",
    "import lightgbm as lgb\n",
    "import tracemalloc\n",
    "\n",
    "\n",
    "def cv_adv(X, y, threshold, iterations, shuffle=True, params=None, mode=\"classification\"):\n",
    "\n",
    "    # Cross Validation - stratified with and without shuffeling\n",
    "    arr_f1_weighted = np.array([])\n",
    "    arr_f1_macro = np.array([])\n",
    "    arr_f1_positive = np.array([])\n",
    "    arr_recall = np.array([])\n",
    "    arr_precision = np.array([])\n",
    "    prediction_folds = []\n",
    "    preds_folds = []\n",
    "    y_folds = []\n",
    "    stacked_models =[]\n",
    "    index_column=[]\n",
    "\n",
    "    if mode==\"regression\":\n",
    "        skf = KFold(n_splits=5)\n",
    "    else:\n",
    "        skf = StratifiedKFold(n_splits=5, random_state=2, shuffle=shuffle)\n",
    "\n",
    "    for train_index, test_index in tqdm(skf.split(X, y)):\n",
    "        X_train, X_test = X.iloc[train_index], X.iloc[test_index]\n",
    "        y_train, y_test = y.iloc[train_index], y.iloc[test_index]\n",
    "\n",
    "        clf = lgbm(X_train, y_train, X_test, y_test, iterations, params)\n",
    "        preds = clf.predict(X_test)\n",
    "\n",
    "        predictions = []\n",
    "        predictions = adjusted_classes(preds, threshold)\n",
    "        stacked_models.append(clf)\n",
    "        index_column.extend(X_test.index.values.tolist())\n",
    "        #index_column=np.append(index_column,X_test.index.values.astype(int))\n",
    "    \n",
    "        \"\"\" Multiclass \n",
    "        predictions = clf.predict(X_test)\n",
    "        predictions_classes = []\n",
    "        for i in predictions:   \n",
    "            print (np.argmax(i))\n",
    "            predictions_classes.append(np.argmax(i))  \n",
    "        \"\"\"\n",
    "                               \n",
    "        if mode==\"regression\":\n",
    "            prediction_folds.extend(predictions)\n",
    "            preds_folds.extend(preds)\n",
    "            y_folds.extend(y_test) \n",
    "            final_clf = lgbm(X, y, X_test, y_test, iterations, params)\n",
    "\n",
    "        else:\n",
    "            prediction_folds.extend(predictions)\n",
    "            preds_folds.extend(preds)\n",
    "            y_folds.extend(y_test)\n",
    "            arr_f1_weighted = np.append(\n",
    "                arr_f1_weighted, f1_score(y_test, predictions, average=\"weighted\")\n",
    "            )\n",
    "            arr_f1_macro = np.append(\n",
    "                arr_f1_macro, f1_score(y_test, predictions, average=\"macro\")\n",
    "            )\n",
    "            arr_f1_positive = np.append(\n",
    "                arr_f1_positive, f1_score(y_test, predictions, average=\"binary\")\n",
    "            )\n",
    "            final_clf = lgbm(X, y, X_test, y_test, iterations, params)\n",
    "\n",
    "    return (\n",
    "        {'final_clf': final_clf,\n",
    "        'f1_weighted':arr_f1_weighted,\n",
    "        'f1_macro':arr_f1_macro,\n",
    "        'f1_positive': arr_f1_positive,\n",
    "        'predictions_folds':prediction_folds,\n",
    "        'predictions_proba': preds_folds,\n",
    "        'y':y_folds,\n",
    "        'index':index_column,\n",
    "        'stacked_models': stacked_models}\n",
    "    )\n",
    "\n",
    "def lgbm(X_train, y_train, X_test, y_test, num, params=None):\n",
    "    # Training function for LGBM with basic categorical features treatment and close to default params\n",
    "\n",
    "    categorical_features = []\n",
    "    for c in X_train.columns:\n",
    "        col_type = X_train[c].dtype\n",
    "        if col_type == \"object\" or col_type.name == \"category\":\n",
    "            # an option in case the data(pandas dataframe) isn't passed with the categorical column type\n",
    "            # X[c] = X[c].astype('category')\n",
    "            categorical_features.append(c)\n",
    "\n",
    "    lgb_train = lgb.Dataset(X_train, y_train, categorical_feature=categorical_features)\n",
    "    lgb_valid = lgb.Dataset(X_test, y_test, categorical_feature=categorical_features)\n",
    "\n",
    "    if params == None:\n",
    "        params = {\n",
    "            \"objective\": \"binary\",\n",
    "            \"boosting\": \"gbdt\",\n",
    "            \"scale_pos_weight\": 0.02,\n",
    "            \"learning_rate\": 0.005,\n",
    "            \"seed\": 100\n",
    "            # 'categorical_feature': 'auto',\n",
    "            # 'metric': 'auc',\n",
    "            # 'scale_pos_weight':0.1,\n",
    "            # 'learning_rate': 0.02,\n",
    "            # 'num_boost_round':2000,\n",
    "            # \"min_sum_hessian_in_leaf\":1,\n",
    "            # 'max_depth' : 100,\n",
    "            # \"bagging_freq\": 2,\n",
    "            # \"num_leaves\":31,\n",
    "            # \"bagging_fraction\" : 0.4,\n",
    "            # \"feature_fraction\" : 0.05,\n",
    "        }\n",
    "\n",
    "    clf = lgb.train(params, lgb_train, num)\n",
    "\n",
    "    return clf\n",
    "\n",
    "\n",
    "def adjusted_classes(y_scores, t):\n",
    "    # transformation from prediction probabolity to class given the threshold\n",
    "    return [1 if y >= t else 0 for y in y_scores]\n",
    "\n"
   ]
  },
  {
   "cell_type": "code",
   "execution_count": 42,
   "metadata": {},
   "outputs": [],
   "source": [
    "def create(hyperparams):\n",
    "    \"\"\"Create LGBM Classifier for a given set of hyper-parameters.\"\"\"\n",
    "    model = LGBMClassifier(**hyperparams)\n",
    "    return model\n",
    "\n",
    "def kfold_evaluation(X, y, k, hyperparams, esr=100):\n",
    "    scores = []\n",
    " \n",
    "    kf = KFold(k)\n",
    "    for i, (train_idx, test_idx) in enumerate(kf.split(X)):\n",
    "        print(f\"\\n-------- FOLD {i} --------\")\n",
    "        \n",
    "        X_train = X.iloc[train_idx]\n",
    "        y_train = y.iloc[train_idx]\n",
    "        X_val = X.iloc[test_idx]\n",
    "        y_val = y.iloc[test_idx]\n",
    "        \n",
    "        model = create(hyperparams)\n",
    "        model = fit_with_stop(model, X_train, y_train, X_val, y_val, esr)\n",
    "        train_score = evaluate(model, X_train, y_train)\n",
    "        val_score = evaluate(model, X_val, y_val)\n",
    "        scores.append((train_score, val_score))\n",
    "        \n",
    "        #print(f\"Fold {i} | Eval AUC: {val_score}\")    \n",
    "        \n",
    "    scores = pd.DataFrame(scores, columns=['train score', 'validation score']) \n",
    "    return scores\n",
    "\n",
    "# Constant\n",
    "K = 3\n",
    "# Objective function\n",
    "def objective(trial):\n",
    "    # Search spaces\n",
    "    hyperparams = {\n",
    "        'reg_alpha': trial.suggest_float('reg_alpha', 0.001, 10.0),\n",
    "        'reg_lambda': trial.suggest_float('reg_lambda', 0.001, 10.0),\n",
    "        'num_leaves': trial.suggest_int('num_leaves', 5, 1000),\n",
    "        'min_child_samples': trial.suggest_int('min_child_samples', 5, 100),\n",
    "        'max_depth': trial.suggest_int('max_depth', 5, 64),\n",
    "        'colsample_bytree': trial.suggest_float('colsample_bytree', 0.1, 0.5),\n",
    "        'cat_smooth' : trial.suggest_int('cat_smooth', 10, 100),\n",
    "        'cat_l2': trial.suggest_int('cat_l2', 1, 20),\n",
    "        'min_data_per_group': trial.suggest_int('min_data_per_group', 50, 200)\n",
    "    }\n",
    "    \n",
    "    hyperparams.update(best_params)\n",
    "    scores = kfold_evaluation(X, y, K, hyperparams, 100)\n",
    "    return scores['validation score'].mean()\n",
    "\n",
    "def create(hyperparams):\n",
    "    model = LGBMClassifier(**hyperparams)\n",
    "    return model\n",
    "\n",
    "def fit(model, X, y):\n",
    "    model.fit(X, y)\n",
    "    return model\n",
    "\n",
    "def fit_with_stop(model, X, y, X_val, y_val, esr):\n",
    "    model.fit(X, y,\n",
    "              eval_set=(X_val, y_val),\n",
    "              early_stopping_rounds=esr, \n",
    "              verbose=200)\n",
    "    return model\n",
    "\n",
    "def evaluate(model, X, y):\n",
    "    yp = model.predict_proba(X)[:, 1]\n",
    "    auc_score = roc_auc_score(y, yp)\n",
    "    return auc_score\n"
   ]
  },
  {
   "cell_type": "markdown",
   "metadata": {},
   "source": [
    "## Hyper Parameter Optimization\n"
   ]
  },
  {
   "cell_type": "code",
   "execution_count": 43,
   "metadata": {},
   "outputs": [
    {
     "name": "stderr",
     "output_type": "stream",
     "text": [
      "\u001b[32m[I 2021-04-12 18:00:55,625]\u001b[0m A new study created in memory with name: no-name-51c32856-2da7-459f-b3df-3e5fd6ba1684\u001b[0m\n"
     ]
    },
    {
     "name": "stdout",
     "output_type": "stream",
     "text": [
      "\n",
      "-------- FOLD 0 --------\n",
      "Training until validation scores don't improve for 100 rounds\n",
      "[200]\tvalid_0's auc: 0.805863\n",
      "[400]\tvalid_0's auc: 0.816112\n",
      "[600]\tvalid_0's auc: 0.818977\n",
      "[800]\tvalid_0's auc: 0.820063\n",
      "Early stopping, best iteration is:\n",
      "[838]\tvalid_0's auc: 0.820211\n",
      "\n",
      "-------- FOLD 1 --------\n",
      "Training until validation scores don't improve for 100 rounds\n",
      "[200]\tvalid_0's auc: 0.862796\n",
      "Early stopping, best iteration is:\n",
      "[256]\tvalid_0's auc: 0.863443\n",
      "\n",
      "-------- FOLD 2 --------\n",
      "Training until validation scores don't improve for 100 rounds\n"
     ]
    },
    {
     "name": "stderr",
     "output_type": "stream",
     "text": [
      "\u001b[32m[I 2021-04-12 18:00:56,328]\u001b[0m Trial 0 finished with value: 0.8508852693636412 and parameters: {'reg_alpha': 7.083105901552592, 'reg_lambda': 3.671845169499529, 'num_leaves': 100, 'min_child_samples': 57, 'max_depth': 52, 'colsample_bytree': 0.2773992631290695, 'cat_smooth': 58, 'cat_l2': 9, 'min_data_per_group': 90}. Best is trial 0 with value: 0.8508852693636412.\u001b[0m\n"
     ]
    },
    {
     "name": "stdout",
     "output_type": "stream",
     "text": [
      "Early stopping, best iteration is:\n",
      "[30]\tvalid_0's auc: 0.869513\n",
      "\n",
      "-------- FOLD 0 --------\n",
      "Training until validation scores don't improve for 100 rounds\n",
      "[200]\tvalid_0's auc: 0.834881\n",
      "Early stopping, best iteration is:\n",
      "[237]\tvalid_0's auc: 0.837128\n",
      "\n",
      "-------- FOLD 1 --------\n",
      "Training until validation scores don't improve for 100 rounds\n",
      "[200]\tvalid_0's auc: 0.883575\n",
      "Early stopping, best iteration is:\n",
      "[148]\tvalid_0's auc: 0.884962\n",
      "\n",
      "-------- FOLD 2 --------\n",
      "Training until validation scores don't improve for 100 rounds\n",
      "[200]\tvalid_0's auc: 0.882618\n"
     ]
    },
    {
     "name": "stderr",
     "output_type": "stream",
     "text": [
      "\u001b[32m[I 2021-04-12 18:00:57,374]\u001b[0m Trial 1 finished with value: 0.8688240503575453 and parameters: {'reg_alpha': 0.3491424177084913, 'reg_lambda': 2.9385399799790353, 'num_leaves': 721, 'min_child_samples': 52, 'max_depth': 20, 'colsample_bytree': 0.4758898058150408, 'cat_smooth': 56, 'cat_l2': 7, 'min_data_per_group': 136}. Best is trial 1 with value: 0.8688240503575453.\u001b[0m\n"
     ]
    },
    {
     "name": "stdout",
     "output_type": "stream",
     "text": [
      "Early stopping, best iteration is:\n",
      "[152]\tvalid_0's auc: 0.884382\n",
      "\n",
      "-------- FOLD 0 --------\n",
      "Training until validation scores don't improve for 100 rounds\n",
      "[200]\tvalid_0's auc: 0.804356\n",
      "[400]\tvalid_0's auc: 0.810975\n",
      "[600]\tvalid_0's auc: 0.811617\n",
      "[800]\tvalid_0's auc: 0.812605\n",
      "Early stopping, best iteration is:\n",
      "[789]\tvalid_0's auc: 0.812605\n",
      "\n",
      "-------- FOLD 1 --------\n",
      "Training until validation scores don't improve for 100 rounds\n",
      "[200]\tvalid_0's auc: 0.858936\n",
      "Early stopping, best iteration is:\n",
      "[111]\tvalid_0's auc: 0.859421\n",
      "\n",
      "-------- FOLD 2 --------\n",
      "Training until validation scores don't improve for 100 rounds\n"
     ]
    },
    {
     "name": "stderr",
     "output_type": "stream",
     "text": [
      "\u001b[32m[I 2021-04-12 18:00:58,091]\u001b[0m Trial 2 finished with value: 0.846219016902683 and parameters: {'reg_alpha': 7.22629895893493, 'reg_lambda': 0.8794432283474658, 'num_leaves': 723, 'min_child_samples': 91, 'max_depth': 56, 'colsample_bytree': 0.2552625702063128, 'cat_smooth': 61, 'cat_l2': 7, 'min_data_per_group': 86}. Best is trial 1 with value: 0.8688240503575453.\u001b[0m\n"
     ]
    },
    {
     "name": "stdout",
     "output_type": "stream",
     "text": [
      "Early stopping, best iteration is:\n",
      "[55]\tvalid_0's auc: 0.86677\n",
      "\n",
      "-------- FOLD 0 --------\n",
      "Training until validation scores don't improve for 100 rounds\n",
      "[200]\tvalid_0's auc: 0.818853\n",
      "[400]\tvalid_0's auc: 0.83093\n",
      "[600]\tvalid_0's auc: 0.836264\n",
      "Early stopping, best iteration is:\n",
      "[568]\tvalid_0's auc: 0.836412\n",
      "\n",
      "-------- FOLD 1 --------\n",
      "Training until validation scores don't improve for 100 rounds\n",
      "[200]\tvalid_0's auc: 0.877196\n",
      "[400]\tvalid_0's auc: 0.880617\n",
      "Early stopping, best iteration is:\n",
      "[356]\tvalid_0's auc: 0.881541\n",
      "\n",
      "-------- FOLD 2 --------\n",
      "Training until validation scores don't improve for 100 rounds\n",
      "[200]\tvalid_0's auc: 0.88982\n"
     ]
    },
    {
     "name": "stderr",
     "output_type": "stream",
     "text": [
      "\u001b[32m[I 2021-04-12 18:00:59,148]\u001b[0m Trial 3 finished with value: 0.8710283279890798 and parameters: {'reg_alpha': 2.567325409846061, 'reg_lambda': 8.020851867795816, 'num_leaves': 628, 'min_child_samples': 18, 'max_depth': 36, 'colsample_bytree': 0.19808892575600567, 'cat_smooth': 62, 'cat_l2': 16, 'min_data_per_group': 133}. Best is trial 3 with value: 0.8710283279890798.\u001b[0m\n"
     ]
    },
    {
     "name": "stdout",
     "output_type": "stream",
     "text": [
      "[400]\tvalid_0's auc: 0.895503\n",
      "Early stopping, best iteration is:\n",
      "[429]\tvalid_0's auc: 0.896042\n",
      "\n",
      "-------- FOLD 0 --------\n",
      "Training until validation scores don't improve for 100 rounds\n",
      "[200]\tvalid_0's auc: 0.816754\n",
      "[400]\tvalid_0's auc: 0.831448\n",
      "Early stopping, best iteration is:\n",
      "[403]\tvalid_0's auc: 0.831596\n",
      "\n",
      "-------- FOLD 1 --------\n",
      "Training until validation scores don't improve for 100 rounds\n",
      "[200]\tvalid_0's auc: 0.869152\n",
      "[400]\tvalid_0's auc: 0.871857\n",
      "[600]\tvalid_0's auc: 0.876387\n",
      "[800]\tvalid_0's auc: 0.876734\n",
      "Early stopping, best iteration is:\n",
      "[706]\tvalid_0's auc: 0.877011\n",
      "\n",
      "-------- FOLD 2 --------\n",
      "Training until validation scores don't improve for 100 rounds\n",
      "[200]\tvalid_0's auc: 0.874388\n",
      "[400]\tvalid_0's auc: 0.877058\n",
      "[600]\tvalid_0's auc: 0.878552\n",
      "[800]\tvalid_0's auc: 0.880413\n",
      "[1000]\tvalid_0's auc: 0.88105\n",
      "Did not meet early stopping. Best iteration is:\n",
      "[961]\tvalid_0's auc: 0.881834\n"
     ]
    },
    {
     "name": "stderr",
     "output_type": "stream",
     "text": [
      "\u001b[32m[I 2021-04-12 18:01:00,311]\u001b[0m Trial 4 finished with value: 0.8634034501972083 and parameters: {'reg_alpha': 0.87374875887037, 'reg_lambda': 9.369754460807714, 'num_leaves': 883, 'min_child_samples': 85, 'max_depth': 59, 'colsample_bytree': 0.2563307054719969, 'cat_smooth': 99, 'cat_l2': 16, 'min_data_per_group': 109}. Best is trial 3 with value: 0.8710283279890798.\u001b[0m\n"
     ]
    },
    {
     "name": "stdout",
     "output_type": "stream",
     "text": [
      "\n",
      "-------- FOLD 0 --------\n",
      "Training until validation scores don't improve for 100 rounds\n",
      "[200]\tvalid_0's auc: 0.813568\n",
      "[400]\tvalid_0's auc: 0.822212\n",
      "[600]\tvalid_0's auc: 0.823941\n",
      "[800]\tvalid_0's auc: 0.824237\n",
      "[1000]\tvalid_0's auc: 0.825768\n",
      "Did not meet early stopping. Best iteration is:\n",
      "[926]\tvalid_0's auc: 0.825966\n",
      "\n",
      "-------- FOLD 1 --------\n",
      "Training until validation scores don't improve for 100 rounds\n",
      "[200]\tvalid_0's auc: 0.876479\n",
      "[400]\tvalid_0's auc: 0.879345\n",
      "Early stopping, best iteration is:\n",
      "[432]\tvalid_0's auc: 0.879854\n",
      "\n",
      "-------- FOLD 2 --------\n",
      "Training until validation scores don't improve for 100 rounds\n",
      "[200]\tvalid_0's auc: 0.88056\n",
      "[400]\tvalid_0's auc: 0.881834\n",
      "[600]\tvalid_0's auc: 0.883132\n"
     ]
    },
    {
     "name": "stderr",
     "output_type": "stream",
     "text": [
      "\u001b[32m[I 2021-04-12 18:01:01,732]\u001b[0m Trial 5 finished with value: 0.8629803694371706 and parameters: {'reg_alpha': 4.172517351182977, 'reg_lambda': 3.422853798711023, 'num_leaves': 469, 'min_child_samples': 45, 'max_depth': 13, 'colsample_bytree': 0.20887320847912516, 'cat_smooth': 20, 'cat_l2': 7, 'min_data_per_group': 196}. Best is trial 3 with value: 0.8710283279890798.\u001b[0m\n"
     ]
    },
    {
     "name": "stdout",
     "output_type": "stream",
     "text": [
      "[800]\tvalid_0's auc: 0.883573\n",
      "Early stopping, best iteration is:\n",
      "[810]\tvalid_0's auc: 0.883622\n",
      "\n",
      "-------- FOLD 0 --------\n",
      "Training until validation scores don't improve for 100 rounds\n",
      "[200]\tvalid_0's auc: 0.825422\n",
      "Early stopping, best iteration is:\n",
      "[207]\tvalid_0's auc: 0.825521\n",
      "\n",
      "-------- FOLD 1 --------\n",
      "Training until validation scores don't improve for 100 rounds\n",
      "[200]\tvalid_0's auc: 0.869499\n",
      "[400]\tvalid_0's auc: 0.871648\n",
      "Early stopping, best iteration is:\n",
      "[332]\tvalid_0's auc: 0.871672\n",
      "\n",
      "-------- FOLD 2 --------\n"
     ]
    },
    {
     "name": "stderr",
     "output_type": "stream",
     "text": [
      "\u001b[32m[I 2021-04-12 18:01:02,729]\u001b[0m Trial 6 finished with value: 0.8558867456010176 and parameters: {'reg_alpha': 7.693871009647226, 'reg_lambda': 8.943772817828465, 'num_leaves': 981, 'min_child_samples': 51, 'max_depth': 40, 'colsample_bytree': 0.4677215485116376, 'cat_smooth': 43, 'cat_l2': 8, 'min_data_per_group': 87}. Best is trial 3 with value: 0.8710283279890798.\u001b[0m\n"
     ]
    },
    {
     "name": "stdout",
     "output_type": "stream",
     "text": [
      "Training until validation scores don't improve for 100 rounds\n",
      "[200]\tvalid_0's auc: 0.869929\n",
      "[400]\tvalid_0's auc: 0.870517\n",
      "Early stopping, best iteration is:\n",
      "[419]\tvalid_0's auc: 0.870566\n",
      "\n",
      "-------- FOLD 0 --------\n",
      "Training until validation scores don't improve for 100 rounds\n",
      "[200]\tvalid_0's auc: 0.833449\n",
      "Early stopping, best iteration is:\n",
      "[218]\tvalid_0's auc: 0.834585\n",
      "\n",
      "-------- FOLD 1 --------\n",
      "Training until validation scores don't improve for 100 rounds\n",
      "Early stopping, best iteration is:\n",
      "[14]\tvalid_0's auc: 0.882812\n",
      "\n",
      "-------- FOLD 2 --------\n",
      "Training until validation scores don't improve for 100 rounds\n"
     ]
    },
    {
     "name": "stderr",
     "output_type": "stream",
     "text": [
      "\u001b[32m[I 2021-04-12 18:01:03,551]\u001b[0m Trial 7 finished with value: 0.8711952086214763 and parameters: {'reg_alpha': 2.028341641327015, 'reg_lambda': 9.058848843938758, 'num_leaves': 725, 'min_child_samples': 33, 'max_depth': 13, 'colsample_bytree': 0.48606542396164654, 'cat_smooth': 51, 'cat_l2': 8, 'min_data_per_group': 199}. Best is trial 7 with value: 0.8711952086214763.\u001b[0m\n"
     ]
    },
    {
     "name": "stdout",
     "output_type": "stream",
     "text": [
      "[200]\tvalid_0's auc: 0.894915\n",
      "Early stopping, best iteration is:\n",
      "[244]\tvalid_0's auc: 0.896189\n",
      "\n",
      "-------- FOLD 0 --------\n",
      "Training until validation scores don't improve for 100 rounds\n",
      "[200]\tvalid_0's auc: 0.796503\n",
      "[400]\tvalid_0's auc: 0.806159\n",
      "[600]\tvalid_0's auc: 0.810654\n",
      "[800]\tvalid_0's auc: 0.811617\n",
      "Early stopping, best iteration is:\n",
      "[788]\tvalid_0's auc: 0.811667\n",
      "\n",
      "-------- FOLD 1 --------\n",
      "Training until validation scores don't improve for 100 rounds\n",
      "[200]\tvalid_0's auc: 0.858843\n",
      "[400]\tvalid_0's auc: 0.862241\n",
      "[600]\tvalid_0's auc: 0.863813\n",
      "[800]\tvalid_0's auc: 0.865431\n",
      "Early stopping, best iteration is:\n",
      "[779]\tvalid_0's auc: 0.865523\n",
      "\n",
      "-------- FOLD 2 --------\n",
      "Training until validation scores don't improve for 100 rounds\n",
      "Early stopping, best iteration is:\n",
      "[51]\tvalid_0's auc: 0.864198\n"
     ]
    },
    {
     "name": "stderr",
     "output_type": "stream",
     "text": [
      "\u001b[32m[I 2021-04-12 18:01:04,525]\u001b[0m Trial 8 finished with value: 0.8470303256234447 and parameters: {'reg_alpha': 4.830195886698662, 'reg_lambda': 4.325110586174375, 'num_leaves': 791, 'min_child_samples': 96, 'max_depth': 57, 'colsample_bytree': 0.14964647462877562, 'cat_smooth': 42, 'cat_l2': 12, 'min_data_per_group': 122}. Best is trial 7 with value: 0.8711952086214763.\u001b[0m\n"
     ]
    },
    {
     "name": "stdout",
     "output_type": "stream",
     "text": [
      "\n",
      "-------- FOLD 0 --------\n",
      "Training until validation scores don't improve for 100 rounds\n",
      "[200]\tvalid_0's auc: 0.834313\n",
      "Early stopping, best iteration is:\n",
      "[299]\tvalid_0's auc: 0.835202\n",
      "\n",
      "-------- FOLD 1 --------\n",
      "Training until validation scores don't improve for 100 rounds\n",
      "[200]\tvalid_0's auc: 0.878929\n",
      "Early stopping, best iteration is:\n",
      "[159]\tvalid_0's auc: 0.879623\n"
     ]
    },
    {
     "name": "stderr",
     "output_type": "stream",
     "text": [
      "\u001b[32m[I 2021-04-12 18:01:05,229]\u001b[0m Trial 9 finished with value: 0.8675452959309219 and parameters: {'reg_alpha': 1.796795578438417, 'reg_lambda': 1.64323633900942, 'num_leaves': 35, 'min_child_samples': 56, 'max_depth': 30, 'colsample_bytree': 0.46966113004539933, 'cat_smooth': 75, 'cat_l2': 1, 'min_data_per_group': 72}. Best is trial 7 with value: 0.8711952086214763.\u001b[0m\n"
     ]
    },
    {
     "name": "stdout",
     "output_type": "stream",
     "text": [
      "\n",
      "-------- FOLD 2 --------\n",
      "Training until validation scores don't improve for 100 rounds\n",
      "[200]\tvalid_0's auc: 0.887419\n",
      "Early stopping, best iteration is:\n",
      "[145]\tvalid_0's auc: 0.887811\n"
     ]
    }
   ],
   "source": [
    "best_params = {\n",
    "    'n_estimators': 1000,\n",
    "    'learning_rate': 0.05, \n",
    "    'metric': 'auc', \n",
    "    'verbose': -1\n",
    "\n",
    "}\n",
    "from lightgbm import LGBMClassifier\n",
    "\n",
    "from sklearn.model_selection import KFold\n",
    "from sklearn.metrics import roc_auc_score\n",
    "\n",
    "study = optuna.create_study(direction='maximize')\n",
    "#study.optimize(objective, timeout=360*7)\n",
    "study.optimize(objective, n_trials=10)\n"
   ]
  },
  {
   "cell_type": "code",
   "execution_count": 44,
   "metadata": {},
   "outputs": [
    {
     "data": {
      "text/plain": [
       "0.8711952086214763"
      ]
     },
     "execution_count": 44,
     "metadata": {},
     "output_type": "execute_result"
    }
   ],
   "source": [
    "study.best_value"
   ]
  },
  {
   "cell_type": "code",
   "execution_count": 45,
   "metadata": {},
   "outputs": [
    {
     "data": {
      "text/plain": [
       "{'reg_alpha': 2.028341641327015,\n",
       " 'reg_lambda': 9.058848843938758,\n",
       " 'num_leaves': 725,\n",
       " 'min_child_samples': 33,\n",
       " 'max_depth': 13,\n",
       " 'colsample_bytree': 0.48606542396164654,\n",
       " 'cat_smooth': 51,\n",
       " 'cat_l2': 8,\n",
       " 'min_data_per_group': 199}"
      ]
     },
     "execution_count": 45,
     "metadata": {},
     "output_type": "execute_result"
    }
   ],
   "source": [
    "study.best_params"
   ]
  },
  {
   "cell_type": "code",
   "execution_count": 46,
   "metadata": {},
   "outputs": [
    {
     "data": {
      "text/plain": [
       "{'n_estimators': 1000,\n",
       " 'learning_rate': 0.05,\n",
       " 'metric': 'auc',\n",
       " 'verbose': -1,\n",
       " 'reg_alpha': 2.028341641327015,\n",
       " 'reg_lambda': 9.058848843938758,\n",
       " 'num_leaves': 725,\n",
       " 'min_child_samples': 33,\n",
       " 'max_depth': 13,\n",
       " 'colsample_bytree': 0.48606542396164654,\n",
       " 'cat_smooth': 51,\n",
       " 'cat_l2': 8,\n",
       " 'min_data_per_group': 199}"
      ]
     },
     "execution_count": 46,
     "metadata": {},
     "output_type": "execute_result"
    }
   ],
   "source": [
    "best_params.update(study.best_params)\n",
    "best_params"
   ]
  },
  {
   "cell_type": "code",
   "execution_count": 64,
   "metadata": {},
   "outputs": [],
   "source": [
    "#plot_param_importances(study)\n",
    "#plot_optimization_history(study)"
   ]
  },
  {
   "cell_type": "code",
   "execution_count": 65,
   "metadata": {
    "ExecuteTime": {
     "end_time": "2020-12-15T06:31:00.687777Z",
     "start_time": "2020-12-15T06:28:11.422417Z"
    }
   },
   "outputs": [
    {
     "name": "stderr",
     "output_type": "stream",
     "text": [
      "5it [00:04,  1.17it/s]"
     ]
    },
    {
     "name": "stdout",
     "output_type": "stream",
     "text": [
      "Method Name       :\u001b[35;1m cv_adv\u001b[0m\n",
      "Current memory usage:\u001b[36m 1.020297MB\u001b[0m\n",
      "Peak                :\u001b[36m 3.172319MB\u001b[0m\n",
      "Total time taken:  \u001b[36m 4284.856 ms \u001b[0m\n"
     ]
    },
    {
     "name": "stderr",
     "output_type": "stream",
     "text": [
      "\n"
     ]
    }
   ],
   "source": [
    "params = {\n",
    "        'boosting_type': 'gbdt',\n",
    "        'objective': 'binary',\n",
    "        'metric': 'auc',\n",
    "        'learning_rate': 0.1,\n",
    "        'n_estimators': 500,\n",
    "        'verbose': -1,\n",
    "        'max_depth': -1,\n",
    "        'seed':100,      \n",
    "        'min_split_gain': 0.01, \n",
    "        'num_leaves': 18, \n",
    "        'reg_alpha': 0.01, \n",
    "        'reg_lambda': 1.50,\n",
    "        'feature_fraction':0.2,\n",
    "        'bagging_fraction':0.84\n",
    "\n",
    "}\n",
    "    \n",
    "metrics= oc.cv_adv(X,y,0.5,1000,shuffle=True,params=best_params)"
   ]
  },
  {
   "cell_type": "markdown",
   "metadata": {
    "ExecuteTime": {
     "end_time": "2020-12-02T15:25:11.912037Z",
     "start_time": "2020-12-02T15:25:11.909920Z"
    }
   },
   "source": [
    "# Model evaluation "
   ]
  },
  {
   "cell_type": "markdown",
   "metadata": {
    "ExecuteTime": {
     "end_time": "2020-12-02T15:20:22.653814Z",
     "start_time": "2020-12-02T15:20:22.649169Z"
    }
   },
   "source": [
    "### Plot of the CV folds - F1 macro and F1 for the positive class \n",
    "(in this case it's an unbalanced dataset)"
   ]
  },
  {
   "cell_type": "code",
   "execution_count": 48,
   "metadata": {
    "ExecuteTime": {
     "end_time": "2020-12-15T06:31:00.944005Z",
     "start_time": "2020-12-15T06:31:00.690109Z"
    }
   },
   "outputs": [
    {
     "data": {
      "image/png": "[encoded data removed]",
      "text/plain": [
       "<Figure size 936x504 with 1 Axes>"
      ]
     },
     "metadata": {},
     "output_type": "display_data"
    }
   ],
   "source": [
    "oc.cv_plot(metrics['f1_weighted'],metrics['f1_macro'],metrics['f1_positive'],'Titanic Kaggle competition')"
   ]
  },
  {
   "cell_type": "markdown",
   "metadata": {
    "ExecuteTime": {
     "end_time": "2020-12-02T15:21:35.818585Z",
     "start_time": "2020-12-02T15:21:35.816225Z"
    }
   },
   "source": [
    "## Scikit learn - Classification report "
   ]
  },
  {
   "cell_type": "code",
   "execution_count": 49,
   "metadata": {
    "ExecuteTime": {
     "end_time": "2020-12-15T06:31:01.132424Z",
     "start_time": "2020-12-15T06:31:00.946470Z"
    }
   },
   "outputs": [
    {
     "name": "stdout",
     "output_type": "stream",
     "text": [
      "              precision    recall  f1-score   support\n",
      "\n",
      "           0       0.84      0.91      0.87       549\n",
      "           1       0.82      0.71      0.76       342\n",
      "\n",
      "    accuracy                           0.83       891\n",
      "   macro avg       0.83      0.81      0.82       891\n",
      "weighted avg       0.83      0.83      0.83       891\n",
      "\n"
     ]
    }
   ],
   "source": [
    "print(classification_report(metrics['y'], metrics['predictions_folds']))"
   ]
  },
  {
   "cell_type": "markdown",
   "metadata": {
    "ExecuteTime": {
     "end_time": "2020-12-02T15:22:37.837746Z",
     "start_time": "2020-12-02T15:22:37.834540Z"
    }
   },
   "source": [
    "## ROC curve with AUC"
   ]
  },
  {
   "cell_type": "code",
   "execution_count": 50,
   "metadata": {
    "ExecuteTime": {
     "end_time": "2020-12-15T06:31:01.481931Z",
     "start_time": "2020-12-15T06:31:01.135020Z"
    }
   },
   "outputs": [
    {
     "data": {
      "image/png": "[encoded data removed]",
      "text/plain": [
       "<Figure size 576x432 with 1 Axes>"
      ]
     },
     "metadata": {},
     "output_type": "display_data"
    }
   ],
   "source": [
    "oc.roc_curve_plot(metrics['y'], metrics['predictions_proba'])"
   ]
  },
  {
   "cell_type": "markdown",
   "metadata": {
    "ExecuteTime": {
     "end_time": "2020-12-02T15:23:28.143209Z",
     "start_time": "2020-12-02T15:23:28.141234Z"
    }
   },
   "source": [
    "## Confusion Matrix plot (normalized and with absolute values) "
   ]
  },
  {
   "cell_type": "code",
   "execution_count": 51,
   "metadata": {
    "ExecuteTime": {
     "end_time": "2020-12-15T06:31:02.186153Z",
     "start_time": "2020-12-15T06:31:01.484542Z"
    }
   },
   "outputs": [
    {
     "data": {
      "text/plain": [
       "<Figure size 432x288 with 0 Axes>"
      ]
     },
     "metadata": {},
     "output_type": "display_data"
    },
    {
     "data": {
      "image/png": "[encoded data removed]",
      "text/plain": [
       "<Figure size 504x396 with 2 Axes>"
      ]
     },
     "metadata": {},
     "output_type": "display_data"
    },
    {
     "data": {
      "text/plain": [
       "<Figure size 432x288 with 0 Axes>"
      ]
     },
     "metadata": {},
     "output_type": "display_data"
    },
    {
     "data": {
      "image/png": "[encoded data removed]",
      "text/plain": [
       "<Figure size 504x396 with 2 Axes>"
      ]
     },
     "metadata": {},
     "output_type": "display_data"
    }
   ],
   "source": [
    "oc.confusion_matrix_plot(metrics['y'], metrics['predictions_folds'])"
   ]
  },
  {
   "cell_type": "markdown",
   "metadata": {
    "ExecuteTime": {
     "end_time": "2020-12-02T15:26:55.738222Z",
     "start_time": "2020-12-02T15:26:55.731004Z"
    }
   },
   "source": [
    "## Feature Importance plot "
   ]
  },
  {
   "cell_type": "code",
   "execution_count": 52,
   "metadata": {
    "ExecuteTime": {
     "end_time": "2020-12-15T06:31:03.194703Z",
     "start_time": "2020-12-15T06:31:02.188565Z"
    }
   },
   "outputs": [
    {
     "data": {
      "image/png": "[encoded data removed]",
      "text/plain": [
       "<Figure size 1152x540 with 1 Axes>"
      ]
     },
     "metadata": {},
     "output_type": "display_data"
    }
   ],
   "source": [
    "feature_imp_list=oc.plot_imp(metrics['final_clf'],X,'LightGBM Mortality Kaggle',num=15)"
   ]
  },
  {
   "cell_type": "code",
   "execution_count": 53,
   "metadata": {
    "ExecuteTime": {
     "end_time": "2020-12-15T06:31:03.201650Z",
     "start_time": "2020-12-15T06:31:03.197118Z"
    },
    "scrolled": true
   },
   "outputs": [],
   "source": [
    "top_features=feature_imp_list.sort_values(by='Value', ascending=False).head(20)"
   ]
  },
  {
   "cell_type": "code",
   "execution_count": 54,
   "metadata": {
    "ExecuteTime": {
     "end_time": "2020-12-15T06:31:03.213082Z",
     "start_time": "2020-12-15T06:31:03.204090Z"
    }
   },
   "outputs": [
    {
     "data": {
      "text/html": [
       "<div>\n",
       "<style scoped>\n",
       "    .dataframe tbody tr th:only-of-type {\n",
       "        vertical-align: middle;\n",
       "    }\n",
       "\n",
       "    .dataframe tbody tr th {\n",
       "        vertical-align: top;\n",
       "    }\n",
       "\n",
       "    .dataframe thead th {\n",
       "        text-align: right;\n",
       "    }\n",
       "</style>\n",
       "<table border=\"1\" class=\"dataframe\">\n",
       "  <thead>\n",
       "    <tr style=\"text-align: right;\">\n",
       "      <th></th>\n",
       "      <th>Value</th>\n",
       "      <th>Feature</th>\n",
       "    </tr>\n",
       "  </thead>\n",
       "  <tbody>\n",
       "    <tr>\n",
       "      <th>2</th>\n",
       "      <td>550.759131</td>\n",
       "      <td>Sex</td>\n",
       "    </tr>\n",
       "    <tr>\n",
       "      <th>0</th>\n",
       "      <td>140.194760</td>\n",
       "      <td>Pclass</td>\n",
       "    </tr>\n",
       "    <tr>\n",
       "      <th>3</th>\n",
       "      <td>135.147257</td>\n",
       "      <td>Age</td>\n",
       "    </tr>\n",
       "    <tr>\n",
       "      <th>7</th>\n",
       "      <td>78.042008</td>\n",
       "      <td>Fare</td>\n",
       "    </tr>\n",
       "    <tr>\n",
       "      <th>11</th>\n",
       "      <td>49.728347</td>\n",
       "      <td>relatives</td>\n",
       "    </tr>\n",
       "    <tr>\n",
       "      <th>8</th>\n",
       "      <td>42.700521</td>\n",
       "      <td>Cabin</td>\n",
       "    </tr>\n",
       "    <tr>\n",
       "      <th>10</th>\n",
       "      <td>27.265482</td>\n",
       "      <td>Deck</td>\n",
       "    </tr>\n",
       "    <tr>\n",
       "      <th>13</th>\n",
       "      <td>21.635730</td>\n",
       "      <td>Age_fare</td>\n",
       "    </tr>\n",
       "    <tr>\n",
       "      <th>9</th>\n",
       "      <td>13.955465</td>\n",
       "      <td>Embarked</td>\n",
       "    </tr>\n",
       "    <tr>\n",
       "      <th>14</th>\n",
       "      <td>13.915507</td>\n",
       "      <td>Fare_adj</td>\n",
       "    </tr>\n",
       "    <tr>\n",
       "      <th>5</th>\n",
       "      <td>7.719619</td>\n",
       "      <td>Parch</td>\n",
       "    </tr>\n",
       "    <tr>\n",
       "      <th>4</th>\n",
       "      <td>7.640122</td>\n",
       "      <td>SibSp</td>\n",
       "    </tr>\n",
       "    <tr>\n",
       "      <th>12</th>\n",
       "      <td>0.085272</td>\n",
       "      <td>not_alone</td>\n",
       "    </tr>\n",
       "    <tr>\n",
       "      <th>1</th>\n",
       "      <td>0.000000</td>\n",
       "      <td>Name</td>\n",
       "    </tr>\n",
       "    <tr>\n",
       "      <th>6</th>\n",
       "      <td>0.000000</td>\n",
       "      <td>Ticket</td>\n",
       "    </tr>\n",
       "  </tbody>\n",
       "</table>\n",
       "</div>"
      ],
      "text/plain": [
       "         Value    Feature\n",
       "2   550.759131  Sex      \n",
       "0   140.194760  Pclass   \n",
       "3   135.147257  Age      \n",
       "7   78.042008   Fare     \n",
       "11  49.728347   relatives\n",
       "8   42.700521   Cabin    \n",
       "10  27.265482   Deck     \n",
       "13  21.635730   Age_fare \n",
       "9   13.955465   Embarked \n",
       "14  13.915507   Fare_adj \n",
       "5   7.719619    Parch    \n",
       "4   7.640122    SibSp    \n",
       "12  0.085272    not_alone\n",
       "1   0.000000    Name     \n",
       "6   0.000000    Ticket   "
      ]
     },
     "execution_count": 54,
     "metadata": {},
     "output_type": "execute_result"
    }
   ],
   "source": [
    "top_features"
   ]
  },
  {
   "cell_type": "markdown",
   "metadata": {
    "ExecuteTime": {
     "end_time": "2020-12-02T15:27:16.624528Z",
     "start_time": "2020-12-02T15:27:16.622361Z"
    }
   },
   "source": [
    "## Correlations analysis (on top features)"
   ]
  },
  {
   "cell_type": "code",
   "execution_count": 55,
   "metadata": {
    "ExecuteTime": {
     "end_time": "2020-12-15T06:31:04.346868Z",
     "start_time": "2020-12-15T06:31:03.215431Z"
    }
   },
   "outputs": [
    {
     "data": {
      "image/png": "[encoded data removed]",
      "text/plain": [
       "<Figure size 792x648 with 2 Axes>"
      ]
     },
     "metadata": {},
     "output_type": "display_data"
    }
   ],
   "source": [
    "list_for_correlations=top_features['Feature'].to_list()\n",
    "list_for_correlations.append('Survived')\n",
    "oc.correlations(XY_df,list_for_correlations)"
   ]
  },
  {
   "cell_type": "markdown",
   "metadata": {},
   "source": [
    "## Data leakage test "
   ]
  },
  {
   "cell_type": "code",
   "execution_count": 56,
   "metadata": {},
   "outputs": [
    {
     "name": "stdout",
     "output_type": "stream",
     "text": [
      "-> \u001b[32m Passed the data leakage test - no duplicate intstances detected \u001b[0m\n",
      "Method Name       :\u001b[35;1m data_leakage\u001b[0m\n",
      "Current memory usage:\u001b[36m 0.020817MB\u001b[0m\n",
      "Peak                :\u001b[36m 0.190289MB\u001b[0m\n",
      "Total time taken:  \u001b[36m 9.733 ms \u001b[0m\n"
     ]
    }
   ],
   "source": [
    "oc.data_leakage(X,top_features['Feature'].to_list())"
   ]
  },
  {
   "cell_type": "markdown",
   "metadata": {},
   "source": [
    "## Analysis of FPs/FNs"
   ]
  },
  {
   "cell_type": "code",
   "execution_count": 57,
   "metadata": {},
   "outputs": [
    {
     "name": "stdout",
     "output_type": "stream",
     "text": [
      "calculating using threshold of:  0.5\n",
      "calculating using threshold of:  0.5\n"
     ]
    }
   ],
   "source": [
    "fps=oc.recieve_fps(XY_df, metrics['index'] ,metrics['y'], metrics['predictions_proba'],top=10)\n",
    "fns=oc.recieve_fns(XY_df, metrics['index'] ,metrics['y'], metrics['predictions_proba'],top=10)"
   ]
  },
  {
   "cell_type": "code",
   "execution_count": 58,
   "metadata": {},
   "outputs": [
    {
     "data": {
      "text/html": [
       "<div>\n",
       "<style scoped>\n",
       "    .dataframe tbody tr th:only-of-type {\n",
       "        vertical-align: middle;\n",
       "    }\n",
       "\n",
       "    .dataframe tbody tr th {\n",
       "        vertical-align: top;\n",
       "    }\n",
       "\n",
       "    .dataframe thead th {\n",
       "        text-align: right;\n",
       "    }\n",
       "</style>\n",
       "<table border=\"1\" class=\"dataframe\">\n",
       "  <thead>\n",
       "    <tr style=\"text-align: right;\">\n",
       "      <th></th>\n",
       "      <th>index</th>\n",
       "      <th>label</th>\n",
       "      <th>preds_proba</th>\n",
       "      <th>preds_class</th>\n",
       "    </tr>\n",
       "  </thead>\n",
       "  <tbody>\n",
       "    <tr>\n",
       "      <th>0</th>\n",
       "      <td>297</td>\n",
       "      <td>0</td>\n",
       "      <td>1.066759</td>\n",
       "      <td>1</td>\n",
       "    </tr>\n",
       "    <tr>\n",
       "      <th>1</th>\n",
       "      <td>312</td>\n",
       "      <td>0</td>\n",
       "      <td>0.980033</td>\n",
       "      <td>1</td>\n",
       "    </tr>\n",
       "    <tr>\n",
       "      <th>2</th>\n",
       "      <td>177</td>\n",
       "      <td>0</td>\n",
       "      <td>0.937899</td>\n",
       "      <td>1</td>\n",
       "    </tr>\n",
       "    <tr>\n",
       "      <th>3</th>\n",
       "      <td>41</td>\n",
       "      <td>0</td>\n",
       "      <td>0.932652</td>\n",
       "      <td>1</td>\n",
       "    </tr>\n",
       "    <tr>\n",
       "      <th>4</th>\n",
       "      <td>498</td>\n",
       "      <td>0</td>\n",
       "      <td>0.893928</td>\n",
       "      <td>1</td>\n",
       "    </tr>\n",
       "    <tr>\n",
       "      <th>5</th>\n",
       "      <td>357</td>\n",
       "      <td>0</td>\n",
       "      <td>0.876932</td>\n",
       "      <td>1</td>\n",
       "    </tr>\n",
       "    <tr>\n",
       "      <th>6</th>\n",
       "      <td>852</td>\n",
       "      <td>0</td>\n",
       "      <td>0.869694</td>\n",
       "      <td>1</td>\n",
       "    </tr>\n",
       "    <tr>\n",
       "      <th>7</th>\n",
       "      <td>772</td>\n",
       "      <td>0</td>\n",
       "      <td>0.868053</td>\n",
       "      <td>1</td>\n",
       "    </tr>\n",
       "    <tr>\n",
       "      <th>8</th>\n",
       "      <td>854</td>\n",
       "      <td>0</td>\n",
       "      <td>0.838546</td>\n",
       "      <td>1</td>\n",
       "    </tr>\n",
       "    <tr>\n",
       "      <th>9</th>\n",
       "      <td>205</td>\n",
       "      <td>0</td>\n",
       "      <td>0.784718</td>\n",
       "      <td>1</td>\n",
       "    </tr>\n",
       "  </tbody>\n",
       "</table>\n",
       "</div>"
      ],
      "text/plain": [
       "   index  label  preds_proba  preds_class\n",
       "0  297    0      1.066759     1          \n",
       "1  312    0      0.980033     1          \n",
       "2  177    0      0.937899     1          \n",
       "3  41     0      0.932652     1          \n",
       "4  498    0      0.893928     1          \n",
       "5  357    0      0.876932     1          \n",
       "6  852    0      0.869694     1          \n",
       "7  772    0      0.868053     1          \n",
       "8  854    0      0.838546     1          \n",
       "9  205    0      0.784718     1          "
      ]
     },
     "execution_count": 58,
     "metadata": {},
     "output_type": "execute_result"
    }
   ],
   "source": [
    "fps"
   ]
  },
  {
   "cell_type": "code",
   "execution_count": 59,
   "metadata": {},
   "outputs": [
    {
     "data": {
      "text/html": [
       "<div>\n",
       "<style scoped>\n",
       "    .dataframe tbody tr th:only-of-type {\n",
       "        vertical-align: middle;\n",
       "    }\n",
       "\n",
       "    .dataframe tbody tr th {\n",
       "        vertical-align: top;\n",
       "    }\n",
       "\n",
       "    .dataframe thead th {\n",
       "        text-align: right;\n",
       "    }\n",
       "</style>\n",
       "<table border=\"1\" class=\"dataframe\">\n",
       "  <thead>\n",
       "    <tr style=\"text-align: right;\">\n",
       "      <th></th>\n",
       "      <th>index</th>\n",
       "      <th>label</th>\n",
       "      <th>preds_proba</th>\n",
       "      <th>preds_class</th>\n",
       "    </tr>\n",
       "  </thead>\n",
       "  <tbody>\n",
       "    <tr>\n",
       "      <th>0</th>\n",
       "      <td>338</td>\n",
       "      <td>1</td>\n",
       "      <td>-0.013960</td>\n",
       "      <td>0</td>\n",
       "    </tr>\n",
       "    <tr>\n",
       "      <th>1</th>\n",
       "      <td>107</td>\n",
       "      <td>1</td>\n",
       "      <td>-0.007528</td>\n",
       "      <td>0</td>\n",
       "    </tr>\n",
       "    <tr>\n",
       "      <th>2</th>\n",
       "      <td>65</td>\n",
       "      <td>1</td>\n",
       "      <td>-0.007385</td>\n",
       "      <td>0</td>\n",
       "    </tr>\n",
       "    <tr>\n",
       "      <th>3</th>\n",
       "      <td>709</td>\n",
       "      <td>1</td>\n",
       "      <td>-0.007385</td>\n",
       "      <td>0</td>\n",
       "    </tr>\n",
       "    <tr>\n",
       "      <th>4</th>\n",
       "      <td>444</td>\n",
       "      <td>1</td>\n",
       "      <td>-0.006948</td>\n",
       "      <td>0</td>\n",
       "    </tr>\n",
       "    <tr>\n",
       "      <th>5</th>\n",
       "      <td>400</td>\n",
       "      <td>1</td>\n",
       "      <td>0.010595</td>\n",
       "      <td>0</td>\n",
       "    </tr>\n",
       "    <tr>\n",
       "      <th>6</th>\n",
       "      <td>570</td>\n",
       "      <td>1</td>\n",
       "      <td>0.032801</td>\n",
       "      <td>0</td>\n",
       "    </tr>\n",
       "    <tr>\n",
       "      <th>7</th>\n",
       "      <td>127</td>\n",
       "      <td>1</td>\n",
       "      <td>0.037790</td>\n",
       "      <td>0</td>\n",
       "    </tr>\n",
       "    <tr>\n",
       "      <th>8</th>\n",
       "      <td>455</td>\n",
       "      <td>1</td>\n",
       "      <td>0.042101</td>\n",
       "      <td>0</td>\n",
       "    </tr>\n",
       "    <tr>\n",
       "      <th>9</th>\n",
       "      <td>510</td>\n",
       "      <td>1</td>\n",
       "      <td>0.045326</td>\n",
       "      <td>0</td>\n",
       "    </tr>\n",
       "  </tbody>\n",
       "</table>\n",
       "</div>"
      ],
      "text/plain": [
       "   index  label  preds_proba  preds_class\n",
       "0  338    1     -0.013960     0          \n",
       "1  107    1     -0.007528     0          \n",
       "2  65     1     -0.007385     0          \n",
       "3  709    1     -0.007385     0          \n",
       "4  444    1     -0.006948     0          \n",
       "5  400    1      0.010595     0          \n",
       "6  570    1      0.032801     0          \n",
       "7  127    1      0.037790     0          \n",
       "8  455    1      0.042101     0          \n",
       "9  510    1      0.045326     0          "
      ]
     },
     "execution_count": 59,
     "metadata": {},
     "output_type": "execute_result"
    }
   ],
   "source": [
    "fns"
   ]
  },
  {
   "cell_type": "code",
   "execution_count": 60,
   "metadata": {},
   "outputs": [],
   "source": [
    "filter_fps  = XY_df[XY_df.index.isin(fps['index'])]\n",
    "filter_fns  = XY_df[XY_df.index.isin(fns['index'])]\n",
    "filter_fps_with_prediction=pd.merge(filter_fps,fps[['index','preds_proba']], left_on=[pd.Series(filter_fps.index.values)], right_on=fps['index']) \n",
    "filter_fns_with_prediction=pd.merge(filter_fns,fns[['index','preds_proba']], left_on=[pd.Series(filter_fns.index.values)], right_on=fns['index']) "
   ]
  },
  {
   "cell_type": "markdown",
   "metadata": {},
   "source": [
    "### Top FPs with full features "
   ]
  },
  {
   "cell_type": "code",
   "execution_count": 61,
   "metadata": {},
   "outputs": [
    {
     "data": {
      "text/html": [
       "<div>\n",
       "<style scoped>\n",
       "    .dataframe tbody tr th:only-of-type {\n",
       "        vertical-align: middle;\n",
       "    }\n",
       "\n",
       "    .dataframe tbody tr th {\n",
       "        vertical-align: top;\n",
       "    }\n",
       "\n",
       "    .dataframe thead th {\n",
       "        text-align: right;\n",
       "    }\n",
       "</style>\n",
       "<table border=\"1\" class=\"dataframe\">\n",
       "  <thead>\n",
       "    <tr style=\"text-align: right;\">\n",
       "      <th></th>\n",
       "      <th>key_0</th>\n",
       "      <th>PassengerId</th>\n",
       "      <th>Survived</th>\n",
       "      <th>Pclass</th>\n",
       "      <th>Name</th>\n",
       "      <th>Sex</th>\n",
       "      <th>Age</th>\n",
       "      <th>SibSp</th>\n",
       "      <th>Parch</th>\n",
       "      <th>Ticket</th>\n",
       "      <th>Fare</th>\n",
       "      <th>Cabin</th>\n",
       "      <th>Embarked</th>\n",
       "      <th>Deck</th>\n",
       "      <th>relatives</th>\n",
       "      <th>not_alone</th>\n",
       "      <th>Age_fare</th>\n",
       "      <th>Fare_adj</th>\n",
       "      <th>index</th>\n",
       "      <th>preds_proba</th>\n",
       "    </tr>\n",
       "  </thead>\n",
       "  <tbody>\n",
       "    <tr>\n",
       "      <th>0</th>\n",
       "      <td>41</td>\n",
       "      <td>42</td>\n",
       "      <td>0</td>\n",
       "      <td>2</td>\n",
       "      <td>Turpin, Mrs. William John Robert (Dorothy Ann Wonnacott)</td>\n",
       "      <td>female</td>\n",
       "      <td>27.0</td>\n",
       "      <td>1</td>\n",
       "      <td>0</td>\n",
       "      <td>11668</td>\n",
       "      <td>21.0000</td>\n",
       "      <td>nan</td>\n",
       "      <td>S</td>\n",
       "      <td>0.0</td>\n",
       "      <td>1</td>\n",
       "      <td>0</td>\n",
       "      <td>1.0</td>\n",
       "      <td>2.0</td>\n",
       "      <td>41</td>\n",
       "      <td>0.932652</td>\n",
       "    </tr>\n",
       "    <tr>\n",
       "      <th>1</th>\n",
       "      <td>177</td>\n",
       "      <td>178</td>\n",
       "      <td>0</td>\n",
       "      <td>1</td>\n",
       "      <td>Isham, Miss. Ann Elizabeth</td>\n",
       "      <td>female</td>\n",
       "      <td>50.0</td>\n",
       "      <td>0</td>\n",
       "      <td>0</td>\n",
       "      <td>PC 17595</td>\n",
       "      <td>28.7125</td>\n",
       "      <td>C49</td>\n",
       "      <td>C</td>\n",
       "      <td>3.0</td>\n",
       "      <td>0</td>\n",
       "      <td>1</td>\n",
       "      <td>4.0</td>\n",
       "      <td>2.0</td>\n",
       "      <td>177</td>\n",
       "      <td>0.937899</td>\n",
       "    </tr>\n",
       "    <tr>\n",
       "      <th>2</th>\n",
       "      <td>205</td>\n",
       "      <td>206</td>\n",
       "      <td>0</td>\n",
       "      <td>3</td>\n",
       "      <td>Strom, Miss. Telma Matilda</td>\n",
       "      <td>female</td>\n",
       "      <td>2.0</td>\n",
       "      <td>0</td>\n",
       "      <td>1</td>\n",
       "      <td>347054</td>\n",
       "      <td>10.4625</td>\n",
       "      <td>G6</td>\n",
       "      <td>S</td>\n",
       "      <td>7.0</td>\n",
       "      <td>1</td>\n",
       "      <td>0</td>\n",
       "      <td>0.0</td>\n",
       "      <td>1.0</td>\n",
       "      <td>205</td>\n",
       "      <td>0.784718</td>\n",
       "    </tr>\n",
       "    <tr>\n",
       "      <th>3</th>\n",
       "      <td>297</td>\n",
       "      <td>298</td>\n",
       "      <td>0</td>\n",
       "      <td>1</td>\n",
       "      <td>Allison, Miss. Helen Loraine</td>\n",
       "      <td>female</td>\n",
       "      <td>2.0</td>\n",
       "      <td>1</td>\n",
       "      <td>2</td>\n",
       "      <td>113781</td>\n",
       "      <td>151.5500</td>\n",
       "      <td>C22 C26</td>\n",
       "      <td>S</td>\n",
       "      <td>3.0</td>\n",
       "      <td>3</td>\n",
       "      <td>0</td>\n",
       "      <td>0.0</td>\n",
       "      <td>3.0</td>\n",
       "      <td>297</td>\n",
       "      <td>1.066759</td>\n",
       "    </tr>\n",
       "    <tr>\n",
       "      <th>4</th>\n",
       "      <td>312</td>\n",
       "      <td>313</td>\n",
       "      <td>0</td>\n",
       "      <td>2</td>\n",
       "      <td>Lahtinen, Mrs. William (Anna Sylfven)</td>\n",
       "      <td>female</td>\n",
       "      <td>26.0</td>\n",
       "      <td>1</td>\n",
       "      <td>1</td>\n",
       "      <td>250651</td>\n",
       "      <td>26.0000</td>\n",
       "      <td>nan</td>\n",
       "      <td>S</td>\n",
       "      <td>0.0</td>\n",
       "      <td>2</td>\n",
       "      <td>0</td>\n",
       "      <td>1.0</td>\n",
       "      <td>2.0</td>\n",
       "      <td>312</td>\n",
       "      <td>0.980033</td>\n",
       "    </tr>\n",
       "    <tr>\n",
       "      <th>5</th>\n",
       "      <td>357</td>\n",
       "      <td>358</td>\n",
       "      <td>0</td>\n",
       "      <td>2</td>\n",
       "      <td>Funk, Miss. Annie Clemmer</td>\n",
       "      <td>female</td>\n",
       "      <td>38.0</td>\n",
       "      <td>0</td>\n",
       "      <td>0</td>\n",
       "      <td>237671</td>\n",
       "      <td>13.0000</td>\n",
       "      <td>nan</td>\n",
       "      <td>S</td>\n",
       "      <td>0.0</td>\n",
       "      <td>0</td>\n",
       "      <td>1</td>\n",
       "      <td>2.0</td>\n",
       "      <td>1.0</td>\n",
       "      <td>357</td>\n",
       "      <td>0.876932</td>\n",
       "    </tr>\n",
       "    <tr>\n",
       "      <th>6</th>\n",
       "      <td>498</td>\n",
       "      <td>499</td>\n",
       "      <td>0</td>\n",
       "      <td>1</td>\n",
       "      <td>Allison, Mrs. Hudson J C (Bessie Waldo Daniels)</td>\n",
       "      <td>female</td>\n",
       "      <td>25.0</td>\n",
       "      <td>1</td>\n",
       "      <td>2</td>\n",
       "      <td>113781</td>\n",
       "      <td>151.5500</td>\n",
       "      <td>C22 C26</td>\n",
       "      <td>S</td>\n",
       "      <td>3.0</td>\n",
       "      <td>3</td>\n",
       "      <td>0</td>\n",
       "      <td>1.0</td>\n",
       "      <td>3.0</td>\n",
       "      <td>498</td>\n",
       "      <td>0.893928</td>\n",
       "    </tr>\n",
       "    <tr>\n",
       "      <th>7</th>\n",
       "      <td>772</td>\n",
       "      <td>773</td>\n",
       "      <td>0</td>\n",
       "      <td>2</td>\n",
       "      <td>Mack, Mrs. (Mary)</td>\n",
       "      <td>female</td>\n",
       "      <td>57.0</td>\n",
       "      <td>0</td>\n",
       "      <td>0</td>\n",
       "      <td>S.O./P.P. 3</td>\n",
       "      <td>10.5000</td>\n",
       "      <td>E77</td>\n",
       "      <td>S</td>\n",
       "      <td>5.0</td>\n",
       "      <td>0</td>\n",
       "      <td>1</td>\n",
       "      <td>4.0</td>\n",
       "      <td>1.0</td>\n",
       "      <td>772</td>\n",
       "      <td>0.868053</td>\n",
       "    </tr>\n",
       "    <tr>\n",
       "      <th>8</th>\n",
       "      <td>852</td>\n",
       "      <td>853</td>\n",
       "      <td>0</td>\n",
       "      <td>3</td>\n",
       "      <td>Boulos, Miss. Nourelain</td>\n",
       "      <td>female</td>\n",
       "      <td>9.0</td>\n",
       "      <td>1</td>\n",
       "      <td>1</td>\n",
       "      <td>2678</td>\n",
       "      <td>15.2458</td>\n",
       "      <td>nan</td>\n",
       "      <td>C</td>\n",
       "      <td>0.0</td>\n",
       "      <td>2</td>\n",
       "      <td>0</td>\n",
       "      <td>0.0</td>\n",
       "      <td>2.0</td>\n",
       "      <td>852</td>\n",
       "      <td>0.869694</td>\n",
       "    </tr>\n",
       "    <tr>\n",
       "      <th>9</th>\n",
       "      <td>854</td>\n",
       "      <td>855</td>\n",
       "      <td>0</td>\n",
       "      <td>2</td>\n",
       "      <td>Carter, Mrs. Ernest Courtenay (Lilian Hughes)</td>\n",
       "      <td>female</td>\n",
       "      <td>44.0</td>\n",
       "      <td>1</td>\n",
       "      <td>0</td>\n",
       "      <td>244252</td>\n",
       "      <td>26.0000</td>\n",
       "      <td>nan</td>\n",
       "      <td>S</td>\n",
       "      <td>0.0</td>\n",
       "      <td>1</td>\n",
       "      <td>0</td>\n",
       "      <td>2.0</td>\n",
       "      <td>2.0</td>\n",
       "      <td>854</td>\n",
       "      <td>0.838546</td>\n",
       "    </tr>\n",
       "  </tbody>\n",
       "</table>\n",
       "</div>"
      ],
      "text/plain": [
       "   key_0  PassengerId  Survived  Pclass  \\\n",
       "0  41     42           0         2        \n",
       "1  177    178          0         1        \n",
       "2  205    206          0         3        \n",
       "3  297    298          0         1        \n",
       "4  312    313          0         2        \n",
       "5  357    358          0         2        \n",
       "6  498    499          0         1        \n",
       "7  772    773          0         2        \n",
       "8  852    853          0         3        \n",
       "9  854    855          0         2        \n",
       "\n",
       "                                                       Name     Sex   Age  \\\n",
       "0  Turpin, Mrs. William John Robert (Dorothy Ann Wonnacott)  female  27.0   \n",
       "1  Isham, Miss. Ann Elizabeth                                female  50.0   \n",
       "2  Strom, Miss. Telma Matilda                                female  2.0    \n",
       "3  Allison, Miss. Helen Loraine                              female  2.0    \n",
       "4  Lahtinen, Mrs. William (Anna Sylfven)                     female  26.0   \n",
       "5  Funk, Miss. Annie Clemmer                                 female  38.0   \n",
       "6  Allison, Mrs. Hudson J C (Bessie Waldo Daniels)           female  25.0   \n",
       "7  Mack, Mrs. (Mary)                                         female  57.0   \n",
       "8  Boulos, Miss. Nourelain                                   female  9.0    \n",
       "9  Carter, Mrs. Ernest Courtenay (Lilian Hughes)             female  44.0   \n",
       "\n",
       "   SibSp  Parch       Ticket      Fare    Cabin Embarked Deck  relatives  \\\n",
       "0  1      0      11668        21.0000   nan      S        0.0  1           \n",
       "1  0      0      PC 17595     28.7125   C49      C        3.0  0           \n",
       "2  0      1      347054       10.4625   G6       S        7.0  1           \n",
       "3  1      2      113781       151.5500  C22 C26  S        3.0  3           \n",
       "4  1      1      250651       26.0000   nan      S        0.0  2           \n",
       "5  0      0      237671       13.0000   nan      S        0.0  0           \n",
       "6  1      2      113781       151.5500  C22 C26  S        3.0  3           \n",
       "7  0      0      S.O./P.P. 3  10.5000   E77      S        5.0  0           \n",
       "8  1      1      2678         15.2458   nan      C        0.0  2           \n",
       "9  1      0      244252       26.0000   nan      S        0.0  1           \n",
       "\n",
       "   not_alone  Age_fare  Fare_adj  index  preds_proba  \n",
       "0  0          1.0       2.0       41     0.932652     \n",
       "1  1          4.0       2.0       177    0.937899     \n",
       "2  0          0.0       1.0       205    0.784718     \n",
       "3  0          0.0       3.0       297    1.066759     \n",
       "4  0          1.0       2.0       312    0.980033     \n",
       "5  1          2.0       1.0       357    0.876932     \n",
       "6  0          1.0       3.0       498    0.893928     \n",
       "7  1          4.0       1.0       772    0.868053     \n",
       "8  0          0.0       2.0       852    0.869694     \n",
       "9  0          2.0       2.0       854    0.838546     "
      ]
     },
     "execution_count": 61,
     "metadata": {},
     "output_type": "execute_result"
    }
   ],
   "source": [
    "filter_fps_with_prediction"
   ]
  },
  {
   "cell_type": "markdown",
   "metadata": {},
   "source": [
    "### Top FNs with full features "
   ]
  },
  {
   "cell_type": "code",
   "execution_count": 62,
   "metadata": {},
   "outputs": [
    {
     "data": {
      "text/html": [
       "<div>\n",
       "<style scoped>\n",
       "    .dataframe tbody tr th:only-of-type {\n",
       "        vertical-align: middle;\n",
       "    }\n",
       "\n",
       "    .dataframe tbody tr th {\n",
       "        vertical-align: top;\n",
       "    }\n",
       "\n",
       "    .dataframe thead th {\n",
       "        text-align: right;\n",
       "    }\n",
       "</style>\n",
       "<table border=\"1\" class=\"dataframe\">\n",
       "  <thead>\n",
       "    <tr style=\"text-align: right;\">\n",
       "      <th></th>\n",
       "      <th>key_0</th>\n",
       "      <th>PassengerId</th>\n",
       "      <th>Survived</th>\n",
       "      <th>Pclass</th>\n",
       "      <th>Name</th>\n",
       "      <th>Sex</th>\n",
       "      <th>Age</th>\n",
       "      <th>SibSp</th>\n",
       "      <th>Parch</th>\n",
       "      <th>Ticket</th>\n",
       "      <th>Fare</th>\n",
       "      <th>Cabin</th>\n",
       "      <th>Embarked</th>\n",
       "      <th>Deck</th>\n",
       "      <th>relatives</th>\n",
       "      <th>not_alone</th>\n",
       "      <th>Age_fare</th>\n",
       "      <th>Fare_adj</th>\n",
       "      <th>index</th>\n",
       "      <th>preds_proba</th>\n",
       "    </tr>\n",
       "  </thead>\n",
       "  <tbody>\n",
       "    <tr>\n",
       "      <th>0</th>\n",
       "      <td>65</td>\n",
       "      <td>66</td>\n",
       "      <td>1</td>\n",
       "      <td>3</td>\n",
       "      <td>Moubarek, Master. Gerios</td>\n",
       "      <td>male</td>\n",
       "      <td>NaN</td>\n",
       "      <td>1</td>\n",
       "      <td>1</td>\n",
       "      <td>2661</td>\n",
       "      <td>15.2458</td>\n",
       "      <td>nan</td>\n",
       "      <td>C</td>\n",
       "      <td>0.0</td>\n",
       "      <td>2</td>\n",
       "      <td>0</td>\n",
       "      <td>NaN</td>\n",
       "      <td>2.0</td>\n",
       "      <td>65</td>\n",
       "      <td>-0.007385</td>\n",
       "    </tr>\n",
       "    <tr>\n",
       "      <th>1</th>\n",
       "      <td>107</td>\n",
       "      <td>108</td>\n",
       "      <td>1</td>\n",
       "      <td>3</td>\n",
       "      <td>Moss, Mr. Albert Johan</td>\n",
       "      <td>male</td>\n",
       "      <td>NaN</td>\n",
       "      <td>0</td>\n",
       "      <td>0</td>\n",
       "      <td>312991</td>\n",
       "      <td>0.0000</td>\n",
       "      <td>nan</td>\n",
       "      <td>S</td>\n",
       "      <td>0.0</td>\n",
       "      <td>0</td>\n",
       "      <td>1</td>\n",
       "      <td>NaN</td>\n",
       "      <td>NaN</td>\n",
       "      <td>107</td>\n",
       "      <td>-0.007528</td>\n",
       "    </tr>\n",
       "    <tr>\n",
       "      <th>2</th>\n",
       "      <td>127</td>\n",
       "      <td>128</td>\n",
       "      <td>1</td>\n",
       "      <td>3</td>\n",
       "      <td>Madsen, Mr. Fridtjof Arne</td>\n",
       "      <td>male</td>\n",
       "      <td>24.0</td>\n",
       "      <td>0</td>\n",
       "      <td>0</td>\n",
       "      <td>C 17369</td>\n",
       "      <td>0.0000</td>\n",
       "      <td>nan</td>\n",
       "      <td>S</td>\n",
       "      <td>0.0</td>\n",
       "      <td>0</td>\n",
       "      <td>1</td>\n",
       "      <td>1.0</td>\n",
       "      <td>NaN</td>\n",
       "      <td>127</td>\n",
       "      <td>0.037790</td>\n",
       "    </tr>\n",
       "    <tr>\n",
       "      <th>3</th>\n",
       "      <td>338</td>\n",
       "      <td>339</td>\n",
       "      <td>1</td>\n",
       "      <td>3</td>\n",
       "      <td>Dahl, Mr. Karl Edwart</td>\n",
       "      <td>male</td>\n",
       "      <td>45.0</td>\n",
       "      <td>0</td>\n",
       "      <td>0</td>\n",
       "      <td>7598</td>\n",
       "      <td>8.0500</td>\n",
       "      <td>nan</td>\n",
       "      <td>S</td>\n",
       "      <td>0.0</td>\n",
       "      <td>0</td>\n",
       "      <td>1</td>\n",
       "      <td>2.0</td>\n",
       "      <td>1.0</td>\n",
       "      <td>338</td>\n",
       "      <td>-0.013960</td>\n",
       "    </tr>\n",
       "    <tr>\n",
       "      <th>4</th>\n",
       "      <td>400</td>\n",
       "      <td>401</td>\n",
       "      <td>1</td>\n",
       "      <td>3</td>\n",
       "      <td>Niskanen, Mr. Juha</td>\n",
       "      <td>male</td>\n",
       "      <td>39.0</td>\n",
       "      <td>0</td>\n",
       "      <td>0</td>\n",
       "      <td>STON/O 2. 3101289</td>\n",
       "      <td>7.9250</td>\n",
       "      <td>nan</td>\n",
       "      <td>S</td>\n",
       "      <td>0.0</td>\n",
       "      <td>0</td>\n",
       "      <td>1</td>\n",
       "      <td>2.0</td>\n",
       "      <td>1.0</td>\n",
       "      <td>400</td>\n",
       "      <td>0.010595</td>\n",
       "    </tr>\n",
       "    <tr>\n",
       "      <th>5</th>\n",
       "      <td>444</td>\n",
       "      <td>445</td>\n",
       "      <td>1</td>\n",
       "      <td>3</td>\n",
       "      <td>Johannesen-Bratthammer, Mr. Bernt</td>\n",
       "      <td>male</td>\n",
       "      <td>NaN</td>\n",
       "      <td>0</td>\n",
       "      <td>0</td>\n",
       "      <td>65306</td>\n",
       "      <td>8.1125</td>\n",
       "      <td>nan</td>\n",
       "      <td>S</td>\n",
       "      <td>0.0</td>\n",
       "      <td>0</td>\n",
       "      <td>1</td>\n",
       "      <td>NaN</td>\n",
       "      <td>1.0</td>\n",
       "      <td>444</td>\n",
       "      <td>-0.006948</td>\n",
       "    </tr>\n",
       "    <tr>\n",
       "      <th>6</th>\n",
       "      <td>455</td>\n",
       "      <td>456</td>\n",
       "      <td>1</td>\n",
       "      <td>3</td>\n",
       "      <td>Jalsevac, Mr. Ivan</td>\n",
       "      <td>male</td>\n",
       "      <td>29.0</td>\n",
       "      <td>0</td>\n",
       "      <td>0</td>\n",
       "      <td>349240</td>\n",
       "      <td>0.0000</td>\n",
       "      <td>nan</td>\n",
       "      <td>C</td>\n",
       "      <td>0.0</td>\n",
       "      <td>0</td>\n",
       "      <td>1</td>\n",
       "      <td>1.0</td>\n",
       "      <td>NaN</td>\n",
       "      <td>455</td>\n",
       "      <td>0.042101</td>\n",
       "    </tr>\n",
       "    <tr>\n",
       "      <th>7</th>\n",
       "      <td>510</td>\n",
       "      <td>511</td>\n",
       "      <td>1</td>\n",
       "      <td>3</td>\n",
       "      <td>Daly, Mr. Eugene Patrick</td>\n",
       "      <td>male</td>\n",
       "      <td>29.0</td>\n",
       "      <td>0</td>\n",
       "      <td>0</td>\n",
       "      <td>382651</td>\n",
       "      <td>0.0000</td>\n",
       "      <td>nan</td>\n",
       "      <td>Q</td>\n",
       "      <td>0.0</td>\n",
       "      <td>0</td>\n",
       "      <td>1</td>\n",
       "      <td>1.0</td>\n",
       "      <td>NaN</td>\n",
       "      <td>510</td>\n",
       "      <td>0.045326</td>\n",
       "    </tr>\n",
       "    <tr>\n",
       "      <th>8</th>\n",
       "      <td>570</td>\n",
       "      <td>571</td>\n",
       "      <td>1</td>\n",
       "      <td>2</td>\n",
       "      <td>Harris, Mr. George</td>\n",
       "      <td>male</td>\n",
       "      <td>62.0</td>\n",
       "      <td>0</td>\n",
       "      <td>0</td>\n",
       "      <td>S.W./PP 752</td>\n",
       "      <td>10.5000</td>\n",
       "      <td>nan</td>\n",
       "      <td>S</td>\n",
       "      <td>0.0</td>\n",
       "      <td>0</td>\n",
       "      <td>1</td>\n",
       "      <td>4.0</td>\n",
       "      <td>1.0</td>\n",
       "      <td>570</td>\n",
       "      <td>0.032801</td>\n",
       "    </tr>\n",
       "    <tr>\n",
       "      <th>9</th>\n",
       "      <td>709</td>\n",
       "      <td>710</td>\n",
       "      <td>1</td>\n",
       "      <td>3</td>\n",
       "      <td>Moubarek, Master. Halim Gonios (\"William George\")</td>\n",
       "      <td>male</td>\n",
       "      <td>NaN</td>\n",
       "      <td>1</td>\n",
       "      <td>1</td>\n",
       "      <td>2661</td>\n",
       "      <td>15.2458</td>\n",
       "      <td>nan</td>\n",
       "      <td>C</td>\n",
       "      <td>0.0</td>\n",
       "      <td>2</td>\n",
       "      <td>0</td>\n",
       "      <td>NaN</td>\n",
       "      <td>2.0</td>\n",
       "      <td>709</td>\n",
       "      <td>-0.007385</td>\n",
       "    </tr>\n",
       "  </tbody>\n",
       "</table>\n",
       "</div>"
      ],
      "text/plain": [
       "   key_0  PassengerId  Survived  Pclass  \\\n",
       "0  65     66           1         3        \n",
       "1  107    108          1         3        \n",
       "2  127    128          1         3        \n",
       "3  338    339          1         3        \n",
       "4  400    401          1         3        \n",
       "5  444    445          1         3        \n",
       "6  455    456          1         3        \n",
       "7  510    511          1         3        \n",
       "8  570    571          1         2        \n",
       "9  709    710          1         3        \n",
       "\n",
       "                                                Name   Sex   Age  SibSp  \\\n",
       "0  Moubarek, Master. Gerios                           male NaN    1       \n",
       "1  Moss, Mr. Albert Johan                             male NaN    0       \n",
       "2  Madsen, Mr. Fridtjof Arne                          male  24.0  0       \n",
       "3  Dahl, Mr. Karl Edwart                              male  45.0  0       \n",
       "4  Niskanen, Mr. Juha                                 male  39.0  0       \n",
       "5  Johannesen-Bratthammer, Mr. Bernt                  male NaN    0       \n",
       "6  Jalsevac, Mr. Ivan                                 male  29.0  0       \n",
       "7  Daly, Mr. Eugene Patrick                           male  29.0  0       \n",
       "8  Harris, Mr. George                                 male  62.0  0       \n",
       "9  Moubarek, Master. Halim Gonios (\"William George\")  male NaN    1       \n",
       "\n",
       "   Parch             Ticket     Fare Cabin Embarked Deck  relatives  \\\n",
       "0  1      2661               15.2458  nan   C        0.0  2           \n",
       "1  0      312991             0.0000   nan   S        0.0  0           \n",
       "2  0      C 17369            0.0000   nan   S        0.0  0           \n",
       "3  0      7598               8.0500   nan   S        0.0  0           \n",
       "4  0      STON/O 2. 3101289  7.9250   nan   S        0.0  0           \n",
       "5  0      65306              8.1125   nan   S        0.0  0           \n",
       "6  0      349240             0.0000   nan   C        0.0  0           \n",
       "7  0      382651             0.0000   nan   Q        0.0  0           \n",
       "8  0      S.W./PP 752        10.5000  nan   S        0.0  0           \n",
       "9  1      2661               15.2458  nan   C        0.0  2           \n",
       "\n",
       "   not_alone  Age_fare  Fare_adj  index  preds_proba  \n",
       "0  0         NaN        2.0       65    -0.007385     \n",
       "1  1         NaN       NaN        107   -0.007528     \n",
       "2  1          1.0      NaN        127    0.037790     \n",
       "3  1          2.0       1.0       338   -0.013960     \n",
       "4  1          2.0       1.0       400    0.010595     \n",
       "5  1         NaN        1.0       444   -0.006948     \n",
       "6  1          1.0      NaN        455    0.042101     \n",
       "7  1          1.0      NaN        510    0.045326     \n",
       "8  1          4.0       1.0       570    0.032801     \n",
       "9  0         NaN        2.0       709   -0.007385     "
      ]
     },
     "execution_count": 62,
     "metadata": {},
     "output_type": "execute_result"
    }
   ],
   "source": [
    "filter_fns_with_prediction"
   ]
  },
  {
   "cell_type": "code",
   "execution_count": null,
   "metadata": {},
   "outputs": [],
   "source": []
  },
  {
   "cell_type": "code",
   "execution_count": null,
   "metadata": {},
   "outputs": [],
   "source": []
  },
  {
   "cell_type": "code",
   "execution_count": null,
   "metadata": {},
   "outputs": [],
   "source": []
  }
 ],
 "metadata": {
  "kernelspec": {
   "display_name": "Python 3",
   "language": "python",
   "name": "python3"
  },
  "language_info": {
   "codemirror_mode": {
    "name": "ipython",
    "version": 3
   },
   "file_extension": ".py",
   "mimetype": "text/x-python",
   "name": "python",
   "nbconvert_exporter": "python",
   "pygments_lexer": "ipython3",
   "version": "3.8.5"
  },
  "toc": {
   "base_numbering": 1,
   "nav_menu": {},
   "number_sections": true,
   "sideBar": true,
   "skip_h1_title": false,
   "title_cell": "Table of Contents",
   "title_sidebar": "Contents",
   "toc_cell": true,
   "toc_position": {
    "height": "calc(100% - 180px)",
    "left": "10px",
    "top": "150px",
    "width": "320px"
   },
   "toc_section_display": true,
   "toc_window_display": true
  }
 },
 "nbformat": 4,
 "nbformat_minor": 4
}
