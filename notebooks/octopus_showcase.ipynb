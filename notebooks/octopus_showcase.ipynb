{
 "cells": [
  {
   "cell_type": "markdown",
   "metadata": {
    "toc": true
   },
   "source": [
    "<h1>Table of Contents<span class=\"tocSkip\"></span></h1>\n",
    "<div class=\"toc\"><ul class=\"toc-item\"><li><span><a href=\"#Read-the-Kaggle-Titanic-competition-dataset\" data-toc-modified-id=\"Read-the-Kaggle-Titanic-competition-dataset-1\"><span class=\"toc-item-num\">1&nbsp;&nbsp;</span>Read the Kaggle Titanic competition dataset</a></span></li><li><span><a href=\"#EDA-and-pre-processing\" data-toc-modified-id=\"EDA-and-pre-processing-2\"><span class=\"toc-item-num\">2&nbsp;&nbsp;</span>EDA and pre-processing</a></span><ul class=\"toc-item\"><li><span><a href=\"#Descriptive-statistics-(data-shape,-balance,-etc)\" data-toc-modified-id=\"Descriptive-statistics-(data-shape,-balance,-etc)-2.1\"><span class=\"toc-item-num\">2.1&nbsp;&nbsp;</span>Descriptive statistics (data shape, balance, etc)</a></span><ul class=\"toc-item\"><li><span><a href=\"#Target-distribution\" data-toc-modified-id=\"Target-distribution-2.1.1\"><span class=\"toc-item-num\">2.1.1&nbsp;&nbsp;</span>Target distribution</a></span></li><li><span><a href=\"#Selected-features-vs-target-historgrams\" data-toc-modified-id=\"Selected-features-vs-target-historgrams-2.1.2\"><span class=\"toc-item-num\">2.1.2&nbsp;&nbsp;</span>Selected features vs target historgrams</a></span></li><li><span><a href=\"#Data-summary---and-missing-values-analysis\" data-toc-modified-id=\"Data-summary---and-missing-values-analysis-2.1.3\"><span class=\"toc-item-num\">2.1.3&nbsp;&nbsp;</span>Data summary - and missing values analysis</a></span></li></ul></li><li><span><a href=\"#Data-pre-processing\" data-toc-modified-id=\"Data-pre-processing-2.2\"><span class=\"toc-item-num\">2.2&nbsp;&nbsp;</span>Data pre-processing</a></span></li></ul></li><li><span><a href=\"#ML-template-starts---training-session\" data-toc-modified-id=\"ML-template-starts---training-session-3\"><span class=\"toc-item-num\">3&nbsp;&nbsp;</span>ML template starts - training session</a></span><ul class=\"toc-item\"><li><span><a href=\"#Training-model-(LGBM)-with-stratisfied-CV\" data-toc-modified-id=\"Training-model-(LGBM)-with-stratisfied-CV-3.1\"><span class=\"toc-item-num\">3.1&nbsp;&nbsp;</span>Training model (LGBM) with stratisfied CV</a></span></li></ul></li><li><span><a href=\"#Model-evaluation\" data-toc-modified-id=\"Model-evaluation-4\"><span class=\"toc-item-num\">4&nbsp;&nbsp;</span>Model evaluation</a></span><ul class=\"toc-item\"><li><ul class=\"toc-item\"><li><span><a href=\"#Plot-of-the-CV-folds---F1-macro-and-F1-for-the-positive-class\" data-toc-modified-id=\"Plot-of-the-CV-folds---F1-macro-and-F1-for-the-positive-class-4.0.1\"><span class=\"toc-item-num\">4.0.1&nbsp;&nbsp;</span>Plot of the CV folds - F1 macro and F1 for the positive class</a></span></li></ul></li><li><span><a href=\"#Scikit-learn---Classification-report\" data-toc-modified-id=\"Scikit-learn---Classification-report-4.1\"><span class=\"toc-item-num\">4.1&nbsp;&nbsp;</span>Scikit learn - Classification report</a></span></li><li><span><a href=\"#ROC-curve-with-AUC\" data-toc-modified-id=\"ROC-curve-with-AUC-4.2\"><span class=\"toc-item-num\">4.2&nbsp;&nbsp;</span>ROC curve with AUC</a></span></li><li><span><a href=\"#Confusion-Matrix-plot-(normalized-and-with-absolute-values)\" data-toc-modified-id=\"Confusion-Matrix-plot-(normalized-and-with-absolute-values)-4.3\"><span class=\"toc-item-num\">4.3&nbsp;&nbsp;</span>Confusion Matrix plot (normalized and with absolute values)</a></span></li><li><span><a href=\"#Feature-Importance-plot\" data-toc-modified-id=\"Feature-Importance-plot-4.4\"><span class=\"toc-item-num\">4.4&nbsp;&nbsp;</span>Feature Importance plot</a></span></li><li><span><a href=\"#Correlations-analysis-(on-top-features)\" data-toc-modified-id=\"Correlations-analysis-(on-top-features)-4.5\"><span class=\"toc-item-num\">4.5&nbsp;&nbsp;</span>Correlations analysis (on top features)</a></span></li><li><span><a href=\"#Data-leakage-test\" data-toc-modified-id=\"Data-leakage-test-4.6\"><span class=\"toc-item-num\">4.6&nbsp;&nbsp;</span>Data leakage test</a></span></li><li><span><a href=\"#Analysis-of-FPs/FNs\" data-toc-modified-id=\"Analysis-of-FPs/FNs-4.7\"><span class=\"toc-item-num\">4.7&nbsp;&nbsp;</span>Analysis of FPs/FNs</a></span><ul class=\"toc-item\"><li><span><a href=\"#Top-FPs-with-full-features\" data-toc-modified-id=\"Top-FPs-with-full-features-4.7.1\"><span class=\"toc-item-num\">4.7.1&nbsp;&nbsp;</span>Top FPs with full features</a></span></li><li><span><a href=\"#Top-FNs-with-full-features\" data-toc-modified-id=\"Top-FNs-with-full-features-4.7.2\"><span class=\"toc-item-num\">4.7.2&nbsp;&nbsp;</span>Top FNs with full features</a></span></li></ul></li></ul></li></ul></div>"
   ]
  },
  {
   "cell_type": "code",
   "execution_count": 31,
   "metadata": {
    "ExecuteTime": {
     "end_time": "2021-05-03T09:16:17.098707Z",
     "start_time": "2021-05-03T09:16:16.940716Z"
    }
   },
   "outputs": [],
   "source": [
    "import warnings\n",
    "import pandas as pd \n",
    "import numpy as np\n",
    "from pandas_summary import DataFrameSummary\n",
    "import octopus_ml as oc \n",
    "from sklearn.metrics import classification_report\n",
    "import matplotlib.pyplot as plt\n",
    "import seaborn as sns\n",
    "import re\n",
    "\n",
    "pd.set_option('display.max_columns', None)  # or 1000\n",
    "pd.set_option('display.max_rows', None)  # or 1000\n",
    "pd.set_option('display.max_colwidth', -1)  # or 199\n",
    "%matplotlib inline\n",
    "warnings.simplefilter(\"ignore\")"
   ]
  },
  {
   "cell_type": "markdown",
   "metadata": {},
   "source": [
    "# Read the Kaggle Titanic competition dataset \n",
    "https://www.kaggle.com/c/titanic"
   ]
  },
  {
   "cell_type": "code",
   "execution_count": 32,
   "metadata": {
    "ExecuteTime": {
     "end_time": "2021-05-03T09:16:17.848587Z",
     "start_time": "2021-05-03T09:16:17.784707Z"
    }
   },
   "outputs": [],
   "source": [
    "XY_df=pd.read_csv('../datasets/Kaggle_titanic_train.csv')"
   ]
  },
  {
   "cell_type": "markdown",
   "metadata": {},
   "source": [
    "# EDA and pre-processing "
   ]
  },
  {
   "cell_type": "markdown",
   "metadata": {},
   "source": [
    "## Descriptive statistics (data shape, balance, etc)"
   ]
  },
  {
   "cell_type": "code",
   "execution_count": 33,
   "metadata": {
    "ExecuteTime": {
     "end_time": "2021-05-03T09:16:19.039070Z",
     "start_time": "2021-05-03T09:16:19.030878Z"
    }
   },
   "outputs": [
    {
     "data": {
      "text/plain": [
       "(891, 12)"
      ]
     },
     "execution_count": 33,
     "metadata": {},
     "output_type": "execute_result"
    }
   ],
   "source": [
    "XY_df.shape"
   ]
  },
  {
   "cell_type": "code",
   "execution_count": 34,
   "metadata": {
    "ExecuteTime": {
     "end_time": "2021-05-03T09:16:19.513137Z",
     "start_time": "2021-05-03T09:16:19.486108Z"
    }
   },
   "outputs": [
    {
     "data": {
      "text/html": [
       "<div>\n",
       "<style scoped>\n",
       "    .dataframe tbody tr th:only-of-type {\n",
       "        vertical-align: middle;\n",
       "    }\n",
       "\n",
       "    .dataframe tbody tr th {\n",
       "        vertical-align: top;\n",
       "    }\n",
       "\n",
       "    .dataframe thead th {\n",
       "        text-align: right;\n",
       "    }\n",
       "</style>\n",
       "<table border=\"1\" class=\"dataframe\">\n",
       "  <thead>\n",
       "    <tr style=\"text-align: right;\">\n",
       "      <th></th>\n",
       "      <th>PassengerId</th>\n",
       "      <th>Survived</th>\n",
       "      <th>Pclass</th>\n",
       "      <th>Name</th>\n",
       "      <th>Sex</th>\n",
       "      <th>Age</th>\n",
       "      <th>SibSp</th>\n",
       "      <th>Parch</th>\n",
       "      <th>Ticket</th>\n",
       "      <th>Fare</th>\n",
       "      <th>Cabin</th>\n",
       "      <th>Embarked</th>\n",
       "    </tr>\n",
       "  </thead>\n",
       "  <tbody>\n",
       "    <tr>\n",
       "      <th>0</th>\n",
       "      <td>1</td>\n",
       "      <td>0</td>\n",
       "      <td>3</td>\n",
       "      <td>Braund, Mr. Owen Harris</td>\n",
       "      <td>male</td>\n",
       "      <td>22.0</td>\n",
       "      <td>1</td>\n",
       "      <td>0</td>\n",
       "      <td>A/5 21171</td>\n",
       "      <td>7.2500</td>\n",
       "      <td>NaN</td>\n",
       "      <td>S</td>\n",
       "    </tr>\n",
       "    <tr>\n",
       "      <th>1</th>\n",
       "      <td>2</td>\n",
       "      <td>1</td>\n",
       "      <td>1</td>\n",
       "      <td>Cumings, Mrs. John Bradley (Florence Briggs Thayer)</td>\n",
       "      <td>female</td>\n",
       "      <td>38.0</td>\n",
       "      <td>1</td>\n",
       "      <td>0</td>\n",
       "      <td>PC 17599</td>\n",
       "      <td>71.2833</td>\n",
       "      <td>C85</td>\n",
       "      <td>C</td>\n",
       "    </tr>\n",
       "    <tr>\n",
       "      <th>2</th>\n",
       "      <td>3</td>\n",
       "      <td>1</td>\n",
       "      <td>3</td>\n",
       "      <td>Heikkinen, Miss. Laina</td>\n",
       "      <td>female</td>\n",
       "      <td>26.0</td>\n",
       "      <td>0</td>\n",
       "      <td>0</td>\n",
       "      <td>STON/O2. 3101282</td>\n",
       "      <td>7.9250</td>\n",
       "      <td>NaN</td>\n",
       "      <td>S</td>\n",
       "    </tr>\n",
       "    <tr>\n",
       "      <th>3</th>\n",
       "      <td>4</td>\n",
       "      <td>1</td>\n",
       "      <td>1</td>\n",
       "      <td>Futrelle, Mrs. Jacques Heath (Lily May Peel)</td>\n",
       "      <td>female</td>\n",
       "      <td>35.0</td>\n",
       "      <td>1</td>\n",
       "      <td>0</td>\n",
       "      <td>113803</td>\n",
       "      <td>53.1000</td>\n",
       "      <td>C123</td>\n",
       "      <td>S</td>\n",
       "    </tr>\n",
       "    <tr>\n",
       "      <th>4</th>\n",
       "      <td>5</td>\n",
       "      <td>0</td>\n",
       "      <td>3</td>\n",
       "      <td>Allen, Mr. William Henry</td>\n",
       "      <td>male</td>\n",
       "      <td>35.0</td>\n",
       "      <td>0</td>\n",
       "      <td>0</td>\n",
       "      <td>373450</td>\n",
       "      <td>8.0500</td>\n",
       "      <td>NaN</td>\n",
       "      <td>S</td>\n",
       "    </tr>\n",
       "  </tbody>\n",
       "</table>\n",
       "</div>"
      ],
      "text/plain": [
       "   PassengerId  Survived  Pclass  \\\n",
       "0  1            0         3        \n",
       "1  2            1         1        \n",
       "2  3            1         3        \n",
       "3  4            1         1        \n",
       "4  5            0         3        \n",
       "\n",
       "                                                  Name     Sex   Age  SibSp  \\\n",
       "0  Braund, Mr. Owen Harris                              male    22.0  1       \n",
       "1  Cumings, Mrs. John Bradley (Florence Briggs Thayer)  female  38.0  1       \n",
       "2  Heikkinen, Miss. Laina                               female  26.0  0       \n",
       "3  Futrelle, Mrs. Jacques Heath (Lily May Peel)         female  35.0  1       \n",
       "4  Allen, Mr. William Henry                             male    35.0  0       \n",
       "\n",
       "   Parch            Ticket     Fare Cabin Embarked  \n",
       "0  0      A/5 21171         7.2500   NaN   S        \n",
       "1  0      PC 17599          71.2833  C85   C        \n",
       "2  0      STON/O2. 3101282  7.9250   NaN   S        \n",
       "3  0      113803            53.1000  C123  S        \n",
       "4  0      373450            8.0500   NaN   S        "
      ]
     },
     "execution_count": 34,
     "metadata": {},
     "output_type": "execute_result"
    }
   ],
   "source": [
    "XY_df.head(5)"
   ]
  },
  {
   "cell_type": "markdown",
   "metadata": {},
   "source": [
    "### Target distribution"
   ]
  },
  {
   "cell_type": "code",
   "execution_count": 35,
   "metadata": {
    "ExecuteTime": {
     "end_time": "2021-05-03T09:16:20.999869Z",
     "start_time": "2021-05-03T09:16:20.449675Z"
    }
   },
   "outputs": [
    {
     "data": {
      "image/png": "[encoded data removed]",
      "text/plain": [
       "<Figure size 432x288 with 2 Axes>"
      ]
     },
     "metadata": {
      "needs_background": "light"
     },
     "output_type": "display_data"
    },
    {
     "data": {
      "text/plain": [
       "<Figure size 216x288 with 0 Axes>"
      ]
     },
     "metadata": {},
     "output_type": "display_data"
    }
   ],
   "source": [
    "oc.label_dist(XY_df,'Survived')"
   ]
  },
  {
   "cell_type": "markdown",
   "metadata": {},
   "source": [
    "### Selected features vs target historgrams "
   ]
  },
  {
   "cell_type": "code",
   "execution_count": 36,
   "metadata": {
    "ExecuteTime": {
     "end_time": "2021-05-03T09:16:22.206600Z",
     "start_time": "2021-05-03T09:16:21.962129Z"
    }
   },
   "outputs": [
    {
     "data": {
      "image/png": "[encoded data removed]",
      "text/plain": [
       "<Figure size 444.35x216 with 1 Axes>"
      ]
     },
     "metadata": {},
     "output_type": "display_data"
    }
   ],
   "source": [
    "oc.hist_target(XY_df, 'Sex', 'Survived')"
   ]
  },
  {
   "cell_type": "code",
   "execution_count": 37,
   "metadata": {
    "ExecuteTime": {
     "end_time": "2021-05-03T09:16:22.849321Z",
     "start_time": "2021-05-03T09:16:22.425550Z"
    }
   },
   "outputs": [
    {
     "data": {
      "image/png": "[encoded data removed]",
      "text/plain": [
       "<Figure size 444.35x216 with 1 Axes>"
      ]
     },
     "metadata": {},
     "output_type": "display_data"
    }
   ],
   "source": [
    "oc.hist_target(XY_df, 'Fare', 'Survived')"
   ]
  },
  {
   "cell_type": "markdown",
   "metadata": {},
   "source": [
    "### Data summary - and missing values analysis"
   ]
  },
  {
   "cell_type": "code",
   "execution_count": 38,
   "metadata": {
    "ExecuteTime": {
     "end_time": "2021-05-03T09:16:23.403013Z",
     "start_time": "2021-05-03T09:16:23.353194Z"
    }
   },
   "outputs": [
    {
     "data": {
      "text/html": [
       "<div>\n",
       "<style scoped>\n",
       "    .dataframe tbody tr th:only-of-type {\n",
       "        vertical-align: middle;\n",
       "    }\n",
       "\n",
       "    .dataframe tbody tr th {\n",
       "        vertical-align: top;\n",
       "    }\n",
       "\n",
       "    .dataframe thead th {\n",
       "        text-align: right;\n",
       "    }\n",
       "</style>\n",
       "<table border=\"1\" class=\"dataframe\">\n",
       "  <thead>\n",
       "    <tr style=\"text-align: right;\">\n",
       "      <th></th>\n",
       "      <th>PassengerId</th>\n",
       "      <th>Survived</th>\n",
       "      <th>Pclass</th>\n",
       "      <th>Name</th>\n",
       "      <th>Sex</th>\n",
       "      <th>Age</th>\n",
       "      <th>SibSp</th>\n",
       "      <th>Parch</th>\n",
       "      <th>Ticket</th>\n",
       "      <th>Fare</th>\n",
       "      <th>Cabin</th>\n",
       "      <th>Embarked</th>\n",
       "    </tr>\n",
       "  </thead>\n",
       "  <tbody>\n",
       "    <tr>\n",
       "      <th>count</th>\n",
       "      <td>891</td>\n",
       "      <td>891</td>\n",
       "      <td>891</td>\n",
       "      <td>NaN</td>\n",
       "      <td>NaN</td>\n",
       "      <td>714</td>\n",
       "      <td>891</td>\n",
       "      <td>891</td>\n",
       "      <td>NaN</td>\n",
       "      <td>891</td>\n",
       "      <td>NaN</td>\n",
       "      <td>NaN</td>\n",
       "    </tr>\n",
       "    <tr>\n",
       "      <th>mean</th>\n",
       "      <td>446</td>\n",
       "      <td>0.383838</td>\n",
       "      <td>2.30864</td>\n",
       "      <td>NaN</td>\n",
       "      <td>NaN</td>\n",
       "      <td>29.6991</td>\n",
       "      <td>0.523008</td>\n",
       "      <td>0.381594</td>\n",
       "      <td>NaN</td>\n",
       "      <td>32.2042</td>\n",
       "      <td>NaN</td>\n",
       "      <td>NaN</td>\n",
       "    </tr>\n",
       "    <tr>\n",
       "      <th>std</th>\n",
       "      <td>257.354</td>\n",
       "      <td>0.486592</td>\n",
       "      <td>0.836071</td>\n",
       "      <td>NaN</td>\n",
       "      <td>NaN</td>\n",
       "      <td>14.5265</td>\n",
       "      <td>1.10274</td>\n",
       "      <td>0.806057</td>\n",
       "      <td>NaN</td>\n",
       "      <td>49.6934</td>\n",
       "      <td>NaN</td>\n",
       "      <td>NaN</td>\n",
       "    </tr>\n",
       "    <tr>\n",
       "      <th>min</th>\n",
       "      <td>1</td>\n",
       "      <td>0</td>\n",
       "      <td>1</td>\n",
       "      <td>NaN</td>\n",
       "      <td>NaN</td>\n",
       "      <td>0.42</td>\n",
       "      <td>0</td>\n",
       "      <td>0</td>\n",
       "      <td>NaN</td>\n",
       "      <td>0</td>\n",
       "      <td>NaN</td>\n",
       "      <td>NaN</td>\n",
       "    </tr>\n",
       "    <tr>\n",
       "      <th>25%</th>\n",
       "      <td>223.5</td>\n",
       "      <td>0</td>\n",
       "      <td>2</td>\n",
       "      <td>NaN</td>\n",
       "      <td>NaN</td>\n",
       "      <td>20.125</td>\n",
       "      <td>0</td>\n",
       "      <td>0</td>\n",
       "      <td>NaN</td>\n",
       "      <td>7.9104</td>\n",
       "      <td>NaN</td>\n",
       "      <td>NaN</td>\n",
       "    </tr>\n",
       "    <tr>\n",
       "      <th>50%</th>\n",
       "      <td>446</td>\n",
       "      <td>0</td>\n",
       "      <td>3</td>\n",
       "      <td>NaN</td>\n",
       "      <td>NaN</td>\n",
       "      <td>28</td>\n",
       "      <td>0</td>\n",
       "      <td>0</td>\n",
       "      <td>NaN</td>\n",
       "      <td>14.4542</td>\n",
       "      <td>NaN</td>\n",
       "      <td>NaN</td>\n",
       "    </tr>\n",
       "    <tr>\n",
       "      <th>75%</th>\n",
       "      <td>668.5</td>\n",
       "      <td>1</td>\n",
       "      <td>3</td>\n",
       "      <td>NaN</td>\n",
       "      <td>NaN</td>\n",
       "      <td>38</td>\n",
       "      <td>1</td>\n",
       "      <td>0</td>\n",
       "      <td>NaN</td>\n",
       "      <td>31</td>\n",
       "      <td>NaN</td>\n",
       "      <td>NaN</td>\n",
       "    </tr>\n",
       "    <tr>\n",
       "      <th>max</th>\n",
       "      <td>891</td>\n",
       "      <td>1</td>\n",
       "      <td>3</td>\n",
       "      <td>NaN</td>\n",
       "      <td>NaN</td>\n",
       "      <td>80</td>\n",
       "      <td>8</td>\n",
       "      <td>6</td>\n",
       "      <td>NaN</td>\n",
       "      <td>512.329</td>\n",
       "      <td>NaN</td>\n",
       "      <td>NaN</td>\n",
       "    </tr>\n",
       "    <tr>\n",
       "      <th>counts</th>\n",
       "      <td>891</td>\n",
       "      <td>891</td>\n",
       "      <td>891</td>\n",
       "      <td>891</td>\n",
       "      <td>891</td>\n",
       "      <td>714</td>\n",
       "      <td>891</td>\n",
       "      <td>891</td>\n",
       "      <td>891</td>\n",
       "      <td>891</td>\n",
       "      <td>204</td>\n",
       "      <td>889</td>\n",
       "    </tr>\n",
       "    <tr>\n",
       "      <th>uniques</th>\n",
       "      <td>891</td>\n",
       "      <td>2</td>\n",
       "      <td>3</td>\n",
       "      <td>891</td>\n",
       "      <td>2</td>\n",
       "      <td>88</td>\n",
       "      <td>7</td>\n",
       "      <td>7</td>\n",
       "      <td>681</td>\n",
       "      <td>248</td>\n",
       "      <td>147</td>\n",
       "      <td>3</td>\n",
       "    </tr>\n",
       "    <tr>\n",
       "      <th>missing</th>\n",
       "      <td>0</td>\n",
       "      <td>0</td>\n",
       "      <td>0</td>\n",
       "      <td>0</td>\n",
       "      <td>0</td>\n",
       "      <td>177</td>\n",
       "      <td>0</td>\n",
       "      <td>0</td>\n",
       "      <td>0</td>\n",
       "      <td>0</td>\n",
       "      <td>687</td>\n",
       "      <td>2</td>\n",
       "    </tr>\n",
       "    <tr>\n",
       "      <th>missing_perc</th>\n",
       "      <td>0%</td>\n",
       "      <td>0%</td>\n",
       "      <td>0%</td>\n",
       "      <td>0%</td>\n",
       "      <td>0%</td>\n",
       "      <td>19.87%</td>\n",
       "      <td>0%</td>\n",
       "      <td>0%</td>\n",
       "      <td>0%</td>\n",
       "      <td>0%</td>\n",
       "      <td>77.10%</td>\n",
       "      <td>0.22%</td>\n",
       "    </tr>\n",
       "    <tr>\n",
       "      <th>types</th>\n",
       "      <td>numeric</td>\n",
       "      <td>bool</td>\n",
       "      <td>numeric</td>\n",
       "      <td>unique</td>\n",
       "      <td>bool</td>\n",
       "      <td>numeric</td>\n",
       "      <td>numeric</td>\n",
       "      <td>numeric</td>\n",
       "      <td>categorical</td>\n",
       "      <td>numeric</td>\n",
       "      <td>categorical</td>\n",
       "      <td>categorical</td>\n",
       "    </tr>\n",
       "  </tbody>\n",
       "</table>\n",
       "</div>"
      ],
      "text/plain": [
       "             PassengerId  Survived    Pclass    Name   Sex      Age     SibSp  \\\n",
       "count         891         891       891       NaN     NaN   714      891        \n",
       "mean          446         0.383838  2.30864   NaN     NaN   29.6991  0.523008   \n",
       "std           257.354     0.486592  0.836071  NaN     NaN   14.5265  1.10274    \n",
       "min           1           0         1         NaN     NaN   0.42     0          \n",
       "25%           223.5       0         2         NaN     NaN   20.125   0          \n",
       "50%           446         0         3         NaN     NaN   28       0          \n",
       "75%           668.5       1         3         NaN     NaN   38       1          \n",
       "max           891         1         3         NaN     NaN   80       8          \n",
       "counts        891         891       891       891     891   714      891        \n",
       "uniques       891         2         3         891     2     88       7          \n",
       "missing       0           0         0         0       0     177      0          \n",
       "missing_perc  0%          0%        0%        0%      0%    19.87%   0%         \n",
       "types         numeric     bool      numeric   unique  bool  numeric  numeric    \n",
       "\n",
       "                 Parch       Ticket     Fare        Cabin     Embarked  \n",
       "count         891       NaN          891      NaN          NaN          \n",
       "mean          0.381594  NaN          32.2042  NaN          NaN          \n",
       "std           0.806057  NaN          49.6934  NaN          NaN          \n",
       "min           0         NaN          0        NaN          NaN          \n",
       "25%           0         NaN          7.9104   NaN          NaN          \n",
       "50%           0         NaN          14.4542  NaN          NaN          \n",
       "75%           0         NaN          31       NaN          NaN          \n",
       "max           6         NaN          512.329  NaN          NaN          \n",
       "counts        891       891          891      204          889          \n",
       "uniques       7         681          248      147          3            \n",
       "missing       0         0            0        687          2            \n",
       "missing_perc  0%        0%           0%       77.10%       0.22%        \n",
       "types         numeric   categorical  numeric  categorical  categorical  "
      ]
     },
     "execution_count": 38,
     "metadata": {},
     "output_type": "execute_result"
    }
   ],
   "source": [
    "import missingno as msno\n",
    "from pandas_summary import DataFrameSummary\n",
    "dfs = DataFrameSummary(XY_df)\n",
    "dfs.summary()"
   ]
  },
  {
   "cell_type": "code",
   "execution_count": 39,
   "metadata": {
    "ExecuteTime": {
     "end_time": "2021-05-03T09:16:23.868030Z",
     "start_time": "2021-05-03T09:16:23.860824Z"
    }
   },
   "outputs": [
    {
     "data": {
      "text/plain": [
       "Cabin       0.771044\n",
       "Age         0.198653\n",
       "Embarked    0.002245\n",
       "Fare        0.000000\n",
       "Ticket      0.000000\n",
       "dtype: float64"
      ]
     },
     "execution_count": 39,
     "metadata": {},
     "output_type": "execute_result"
    }
   ],
   "source": [
    "# Top 5 sparse features, mainly labs results \n",
    "pd.Series(1 - XY_df.count() / len(XY_df)).sort_values(ascending=False).head(5)"
   ]
  },
  {
   "cell_type": "markdown",
   "metadata": {
    "ExecuteTime": {
     "end_time": "2020-12-15T05:43:14.766390Z",
     "start_time": "2020-12-15T05:43:14.764512Z"
    }
   },
   "source": [
    "## Data pre-processing "
   ]
  },
  {
   "cell_type": "code",
   "execution_count": 40,
   "metadata": {
    "ExecuteTime": {
     "end_time": "2021-05-03T09:16:24.751908Z",
     "start_time": "2021-05-03T09:16:24.725569Z"
    }
   },
   "outputs": [],
   "source": [
    "XY_df['Cabin'] = XY_df['Cabin'].astype('str').fillna(\"U0\")\n",
    "deck = {\"A\": 1, \"B\": 2, \"C\": 3, \"D\": 4, \"E\": 5, \"F\": 6, \"G\": 7, \"U\": 8}\n",
    "XY_df['Deck'] = XY_df['Cabin'].map(lambda x: re.compile(\"([a-zA-Z]+)\").search(x).group())\n",
    "XY_df['Deck'] = XY_df['Deck'].map(deck)\n",
    "XY_df['Deck'] = XY_df['Deck'].fillna(0)\n",
    "XY_df['Deck'] = XY_df['Deck'].astype('category')\n",
    "\n",
    "XY_df['relatives'] = XY_df['SibSp'] + XY_df['Parch']\n",
    "XY_df.loc[XY_df['relatives'] > 0, 'not_alone'] = 0\n",
    "XY_df.loc[XY_df['relatives'] == 0, 'not_alone'] = 1\n",
    "XY_df['not_alone'] = XY_df['not_alone'].astype(int)\n",
    "\n",
    "def encodeAgeFare(train):\n",
    "    train.loc[train['Age'] <= 16, 'Age_fare'] = 0\n",
    "    train.loc[(train['Age'] > 16) & (train['Age'] <= 32), 'Age_fare'] = 1\n",
    "    train.loc[(train['Age'] > 32) & (train['Age'] <= 48), 'Age_fare'] = 2\n",
    "    train.loc[(train['Age'] > 48) & (train['Age'] <= 64), 'Age_fare'] = 3\n",
    "    train.loc[ (train['Age'] > 48) & (train['Age'] <= 80), 'Age_fare'] = 4\n",
    "    \n",
    "    train.loc[train['Fare'] <= 7.91, 'Fare'] = 0\n",
    "    train.loc[(train['Fare'] > 7.91) & (train['Fare'] <= 14.454), 'Fare_adj'] = 1\n",
    "    train.loc[(train['Fare'] > 14.454) & (train['Fare'] <= 31.0), 'Fare_adj'] = 2\n",
    "    train.loc[(train['Fare'] > 31.0) & (train['Fare'] <= 512.329), 'Fare_adj'] = 3\n",
    "\n",
    "encodeAgeFare(XY_df)\n"
   ]
  },
  {
   "cell_type": "code",
   "execution_count": 41,
   "metadata": {
    "ExecuteTime": {
     "end_time": "2021-05-03T09:16:25.191073Z",
     "start_time": "2021-05-03T09:16:25.181270Z"
    }
   },
   "outputs": [
    {
     "name": "stdout",
     "output_type": "stream",
     "text": [
      "['Name', 'Sex', 'Ticket', 'Cabin', 'Embarked', 'Deck']\n"
     ]
    }
   ],
   "source": [
    "# Categorical features pre-proccesing  \n",
    "cat_list ,XY_df=oc.cat_features_proccessing(XY_df)\n",
    "print (cat_list)"
   ]
  },
  {
   "cell_type": "code",
   "execution_count": 42,
   "metadata": {
    "ExecuteTime": {
     "end_time": "2021-05-03T09:16:25.647476Z",
     "start_time": "2021-05-03T09:16:25.643858Z"
    }
   },
   "outputs": [
    {
     "name": "stdout",
     "output_type": "stream",
     "text": [
      "number of features  17\n"
     ]
    }
   ],
   "source": [
    "features=XY_df.columns.to_list()\n",
    "print ('number of features ', len(features))\n",
    "\n",
    "features_remove=['PassengerId','Survived']\n",
    "for f in features_remove:\n",
    "    features.remove(f)"
   ]
  },
  {
   "cell_type": "code",
   "execution_count": 43,
   "metadata": {
    "ExecuteTime": {
     "end_time": "2021-05-03T09:16:26.086123Z",
     "start_time": "2021-05-03T09:16:26.082460Z"
    }
   },
   "outputs": [],
   "source": [
    "X=XY_df[features]\n",
    "y=XY_df['Survived']"
   ]
  },
  {
   "cell_type": "code",
   "execution_count": null,
   "metadata": {},
   "outputs": [],
   "source": []
  },
  {
   "cell_type": "code",
   "execution_count": 44,
   "metadata": {
    "ExecuteTime": {
     "end_time": "2021-05-03T09:16:26.923325Z",
     "start_time": "2021-05-03T09:16:26.914838Z"
    }
   },
   "outputs": [
    {
     "data": {
      "image/png": "[encoded data removed]",
      "text/plain": [
       "<IPython.core.display.Image object>"
      ]
     },
     "execution_count": 44,
     "metadata": {
      "image/png": {
       "height": 600,
       "width": 600
      }
     },
     "output_type": "execute_result"
    }
   ],
   "source": [
    "from IPython.display import Image\n",
    "Image(\"../images/octopus_know_your_data.PNG\", width=600, height=600)"
   ]
  },
  {
   "cell_type": "code",
   "execution_count": 45,
   "metadata": {
    "ExecuteTime": {
     "end_time": "2021-05-03T09:16:27.432249Z",
     "start_time": "2021-05-03T09:16:27.413489Z"
    }
   },
   "outputs": [
    {
     "name": "stdout",
     "output_type": "stream",
     "text": [
      "number of positive instances: 342 \n",
      "number of negative instance :  549\n",
      "new dataset shape:  (542, 17)\n",
      "Method Name       :\u001b[35;1m sampling\u001b[0m\n",
      "Current memory usage:\u001b[36m 0.075039MB\u001b[0m\n",
      "Peak                :\u001b[36m 0.088569MB\u001b[0m\n",
      "Total time taken:  \u001b[36m 14.157 ms \u001b[0m\n"
     ]
    }
   ],
   "source": [
    "XY_sampled=oc.sampling(XY_df,'Survived',200)"
   ]
  },
  {
   "cell_type": "markdown",
   "metadata": {},
   "source": [
    "# ML template starts - training session "
   ]
  },
  {
   "cell_type": "markdown",
   "metadata": {
    "ExecuteTime": {
     "end_time": "2020-12-02T15:19:29.187274Z",
     "start_time": "2020-12-02T15:19:29.182176Z"
    }
   },
   "source": [
    "## Training model (LGBM) with stratisfied CV "
   ]
  },
  {
   "cell_type": "code",
   "execution_count": 46,
   "metadata": {
    "ExecuteTime": {
     "end_time": "2021-05-03T09:16:31.227178Z",
     "start_time": "2021-05-03T09:16:29.323801Z"
    }
   },
   "outputs": [
    {
     "name": "stderr",
     "output_type": "stream",
     "text": [
      "\r",
      "0it [00:00, ?it/s]"
     ]
    },
    {
     "name": "stdout",
     "output_type": "stream",
     "text": [
      "--------------------------- Running Cross-Validation - classification, mode: full ---------------------------\n",
      "-> Starting 5-folds CV - Shuffle: True\n",
      "[1]\ttraining's auc: 0.764496\tvalid_1's auc: 0.612714\n",
      "[2]\ttraining's auc: 0.761571\tvalid_1's auc: 0.669433\n",
      "[3]\ttraining's auc: 0.774183\tvalid_1's auc: 0.698024\n",
      "[4]\ttraining's auc: 0.7974\tvalid_1's auc: 0.724967\n",
      "[5]\ttraining's auc: 0.852166\tvalid_1's auc: 0.812648\n",
      "[6]\ttraining's auc: 0.881762\tvalid_1's auc: 0.851054\n",
      "[7]\ttraining's auc: 0.884907\tvalid_1's auc: 0.864361\n",
      "[8]\ttraining's auc: 0.891307\tvalid_1's auc: 0.868445\n",
      "[9]\ttraining's auc: 0.891524\tvalid_1's auc: 0.872398\n",
      "[10]\ttraining's auc: 0.892667\tvalid_1's auc: 0.870026\n",
      "[11]\ttraining's auc: 0.890615\tvalid_1's auc: 0.874506\n",
      "[12]\ttraining's auc: 0.895354\tvalid_1's auc: 0.875231\n",
      "[13]\ttraining's auc: 0.895112\tvalid_1's auc: 0.877997\n",
      "[14]\ttraining's auc: 0.897094\tvalid_1's auc: 0.876548\n",
      "[15]\ttraining's auc: 0.897194\tvalid_1's auc: 0.875494\n",
      "[16]\ttraining's auc: 0.898796\tvalid_1's auc: 0.871014\n",
      "[17]\ttraining's auc: 0.899822\tvalid_1's auc: 0.872596\n",
      "[18]\ttraining's auc: 0.899463\tvalid_1's auc: 0.872596\n",
      "[19]\ttraining's auc: 0.898963\tvalid_1's auc: 0.874704\n",
      "[20]\ttraining's auc: 0.900924\tvalid_1's auc: 0.873386\n",
      "[21]\ttraining's auc: 0.899997\tvalid_1's auc: 0.872859\n",
      "[22]\ttraining's auc: 0.901867\tvalid_1's auc: 0.874045\n",
      "[23]\ttraining's auc: 0.901766\tvalid_1's auc: 0.875231\n",
      "[24]\ttraining's auc: 0.904545\tvalid_1's auc: 0.875033\n",
      "[25]\ttraining's auc: 0.904361\tvalid_1's auc: 0.875296\n",
      "[26]\ttraining's auc: 0.905429\tvalid_1's auc: 0.873979\n",
      "[27]\ttraining's auc: 0.904979\tvalid_1's auc: 0.875033\n",
      "[28]\ttraining's auc: 0.907908\tvalid_1's auc: 0.875823\n",
      "[29]\ttraining's auc: 0.907774\tvalid_1's auc: 0.874769\n",
      "[30]\ttraining's auc: 0.909852\tvalid_1's auc: 0.875033\n",
      "[31]\ttraining's auc: 0.912213\tvalid_1's auc: 0.874374\n",
      "[32]\ttraining's auc: 0.914291\tvalid_1's auc: 0.874901\n",
      "[33]\ttraining's auc: 0.914216\tvalid_1's auc: 0.874901\n",
      "[34]\ttraining's auc: 0.914232\tvalid_1's auc: 0.872925\n",
      "[35]\ttraining's auc: 0.914391\tvalid_1's auc: 0.873188\n",
      "[36]\ttraining's auc: 0.915492\tvalid_1's auc: 0.872661\n",
      "[37]\ttraining's auc: 0.915793\tvalid_1's auc: 0.873584\n",
      "[38]\ttraining's auc: 0.915884\tvalid_1's auc: 0.872661\n",
      "[39]\ttraining's auc: 0.91596\tvalid_1's auc: 0.872134\n",
      "[40]\ttraining's auc: 0.917236\tvalid_1's auc: 0.872925\n",
      "[41]\ttraining's auc: 0.917011\tvalid_1's auc: 0.872661\n",
      "[42]\ttraining's auc: 0.916994\tvalid_1's auc: 0.87253\n",
      "[43]\ttraining's auc: 0.917628\tvalid_1's auc: 0.873188\n",
      "[44]\ttraining's auc: 0.919089\tvalid_1's auc: 0.874638\n",
      "[45]\ttraining's auc: 0.918529\tvalid_1's auc: 0.87332\n",
      "[46]\ttraining's auc: 0.919806\tvalid_1's auc: 0.872661\n",
      "[47]\ttraining's auc: 0.920849\tvalid_1's auc: 0.873584\n",
      "[48]\ttraining's auc: 0.92155\tvalid_1's auc: 0.873847\n",
      "[49]\ttraining's auc: 0.921683\tvalid_1's auc: 0.874111\n",
      "[50]\ttraining's auc: 0.922977\tvalid_1's auc: 0.873847\n",
      "[51]\ttraining's auc: 0.922835\tvalid_1's auc: 0.873584\n",
      "[52]\ttraining's auc: 0.924045\tvalid_1's auc: 0.874374\n",
      "[53]\ttraining's auc: 0.923836\tvalid_1's auc: 0.874111\n",
      "[54]\ttraining's auc: 0.924929\tvalid_1's auc: 0.874638\n",
      "[55]\ttraining's auc: 0.925372\tvalid_1's auc: 0.873584\n",
      "[56]\ttraining's auc: 0.926682\tvalid_1's auc: 0.871344\n"
     ]
    },
    {
     "name": "stderr",
     "output_type": "stream",
     "text": [
      "\r",
      "1it [00:00,  3.14it/s]"
     ]
    },
    {
     "name": "stdout",
     "output_type": "stream",
     "text": [
      "[57]\ttraining's auc: 0.926465\tvalid_1's auc: 0.870817\n",
      "[58]\ttraining's auc: 0.92659\tvalid_1's auc: 0.871476\n",
      "[59]\ttraining's auc: 0.927424\tvalid_1's auc: 0.871212\n",
      "[60]\ttraining's auc: 0.929694\tvalid_1's auc: 0.870158\n",
      "[61]\ttraining's auc: 0.929819\tvalid_1's auc: 0.870026\n",
      "[62]\ttraining's auc: 0.929852\tvalid_1's auc: 0.870553\n",
      "[63]\ttraining's auc: 0.929944\tvalid_1's auc: 0.869631\n",
      "[64]\ttraining's auc: 0.930687\tvalid_1's auc: 0.870685\n",
      "[65]\ttraining's auc: 0.930687\tvalid_1's auc: 0.870553\n",
      "[66]\ttraining's auc: 0.931404\tvalid_1's auc: 0.871212\n",
      "[67]\ttraining's auc: 0.931454\tvalid_1's auc: 0.872003\n",
      "[68]\ttraining's auc: 0.931955\tvalid_1's auc: 0.871739\n",
      "[69]\ttraining's auc: 0.932214\tvalid_1's auc: 0.872003\n",
      "[70]\ttraining's auc: 0.932973\tvalid_1's auc: 0.87253\n",
      "[71]\ttraining's auc: 0.933315\tvalid_1's auc: 0.873188\n",
      "[72]\ttraining's auc: 0.933515\tvalid_1's auc: 0.873452\n",
      "[73]\ttraining's auc: 0.933332\tvalid_1's auc: 0.872793\n",
      "[74]\ttraining's auc: 0.93339\tvalid_1's auc: 0.872661\n",
      "[75]\ttraining's auc: 0.933982\tvalid_1's auc: 0.875033\n",
      "[76]\ttraining's auc: 0.934191\tvalid_1's auc: 0.874901\n",
      "[77]\ttraining's auc: 0.934733\tvalid_1's auc: 0.874769\n",
      "[78]\ttraining's auc: 0.934767\tvalid_1's auc: 0.874638\n",
      "[79]\ttraining's auc: 0.934825\tvalid_1's auc: 0.874769\n",
      "[80]\ttraining's auc: 0.935167\tvalid_1's auc: 0.875231\n",
      "[81]\ttraining's auc: 0.935693\tvalid_1's auc: 0.874177\n",
      "[82]\ttraining's auc: 0.936444\tvalid_1's auc: 0.874835\n",
      "[83]\ttraining's auc: 0.936577\tvalid_1's auc: 0.873913\n",
      "[84]\ttraining's auc: 0.937212\tvalid_1's auc: 0.87365\n",
      "[85]\ttraining's auc: 0.937253\tvalid_1's auc: 0.875889\n",
      "[86]\ttraining's auc: 0.938872\tvalid_1's auc: 0.874967\n",
      "[87]\ttraining's auc: 0.938855\tvalid_1's auc: 0.877075\n",
      "[88]\ttraining's auc: 0.939656\tvalid_1's auc: 0.875494\n",
      "[89]\ttraining's auc: 0.93989\tvalid_1's auc: 0.875758\n",
      "[90]\ttraining's auc: 0.939531\tvalid_1's auc: 0.876021\n",
      "[91]\ttraining's auc: 0.939448\tvalid_1's auc: 0.876285\n",
      "[92]\ttraining's auc: 0.939498\tvalid_1's auc: 0.876153\n",
      "[93]\ttraining's auc: 0.939757\tvalid_1's auc: 0.875758\n",
      "[94]\ttraining's auc: 0.93984\tvalid_1's auc: 0.875626\n",
      "[95]\ttraining's auc: 0.939823\tvalid_1's auc: 0.876021\n",
      "[96]\ttraining's auc: 0.940257\tvalid_1's auc: 0.874967\n",
      "[97]\ttraining's auc: 0.940232\tvalid_1's auc: 0.874835\n",
      "[98]\ttraining's auc: 0.940524\tvalid_1's auc: 0.874704\n",
      "[99]\ttraining's auc: 0.940533\tvalid_1's auc: 0.874177\n",
      "[100]\ttraining's auc: 0.94135\tvalid_1's auc: 0.874835\n"
     ]
    },
    {
     "name": "stderr",
     "output_type": "stream",
     "text": [
      "\r",
      "2it [00:00,  3.26it/s]"
     ]
    },
    {
     "name": "stdout",
     "output_type": "stream",
     "text": [
      "[1]\ttraining's auc: 0.77218\tvalid_1's auc: 0.693917\n",
      "[2]\ttraining's auc: 0.766527\tvalid_1's auc: 0.726537\n",
      "[3]\ttraining's auc: 0.775265\tvalid_1's auc: 0.741043\n",
      "[4]\ttraining's auc: 0.797878\tvalid_1's auc: 0.749332\n",
      "[5]\ttraining's auc: 0.858271\tvalid_1's auc: 0.820187\n",
      "[6]\ttraining's auc: 0.882085\tvalid_1's auc: 0.84385\n",
      "[7]\ttraining's auc: 0.884463\tvalid_1's auc: 0.841845\n",
      "[8]\ttraining's auc: 0.889887\tvalid_1's auc: 0.848997\n",
      "[9]\ttraining's auc: 0.889185\tvalid_1's auc: 0.844719\n",
      "[10]\ttraining's auc: 0.889035\tvalid_1's auc: 0.850668\n",
      "[11]\ttraining's auc: 0.888071\tvalid_1's auc: 0.848663\n",
      "[12]\ttraining's auc: 0.894925\tvalid_1's auc: 0.851471\n",
      "[13]\ttraining's auc: 0.894402\tvalid_1's auc: 0.849866\n",
      "[14]\ttraining's auc: 0.896181\tvalid_1's auc: 0.846992\n",
      "[15]\ttraining's auc: 0.895391\tvalid_1's auc: 0.847259\n",
      "[16]\ttraining's auc: 0.896567\tvalid_1's auc: 0.848797\n",
      "[17]\ttraining's auc: 0.898388\tvalid_1's auc: 0.851537\n",
      "[18]\ttraining's auc: 0.898496\tvalid_1's auc: 0.852473\n",
      "[19]\ttraining's auc: 0.897432\tvalid_1's auc: 0.849799\n",
      "[20]\ttraining's auc: 0.901597\tvalid_1's auc: 0.856016\n",
      "[21]\ttraining's auc: 0.90089\tvalid_1's auc: 0.854412\n",
      "[22]\ttraining's auc: 0.902877\tvalid_1's auc: 0.856283\n",
      "[23]\ttraining's auc: 0.902794\tvalid_1's auc: 0.85615\n",
      "[24]\ttraining's auc: 0.905662\tvalid_1's auc: 0.855348\n",
      "[25]\ttraining's auc: 0.905741\tvalid_1's auc: 0.854545\n",
      "[26]\ttraining's auc: 0.907063\tvalid_1's auc: 0.853877\n",
      "[27]\ttraining's auc: 0.907013\tvalid_1's auc: 0.853075\n",
      "[28]\ttraining's auc: 0.909233\tvalid_1's auc: 0.849866\n",
      "[29]\ttraining's auc: 0.9091\tvalid_1's auc: 0.848797\n",
      "[30]\ttraining's auc: 0.910455\tvalid_1's auc: 0.849733\n",
      "[31]\ttraining's auc: 0.912841\tvalid_1's auc: 0.847995\n",
      "[32]\ttraining's auc: 0.914296\tvalid_1's auc: 0.849866\n",
      "[33]\ttraining's auc: 0.914412\tvalid_1's auc: 0.849733\n",
      "[34]\ttraining's auc: 0.914429\tvalid_1's auc: 0.850535\n",
      "[35]\ttraining's auc: 0.914537\tvalid_1's auc: 0.848529\n",
      "[36]\ttraining's auc: 0.916466\tvalid_1's auc: 0.846524\n",
      "[37]\ttraining's auc: 0.917497\tvalid_1's auc: 0.845187\n",
      "[38]\ttraining's auc: 0.917064\tvalid_1's auc: 0.844385\n",
      "[39]\ttraining's auc: 0.916449\tvalid_1's auc: 0.843717\n",
      "[40]\ttraining's auc: 0.917571\tvalid_1's auc: 0.84385\n",
      "[41]\ttraining's auc: 0.917837\tvalid_1's auc: 0.843048\n",
      "[42]\ttraining's auc: 0.917904\tvalid_1's auc: 0.843583\n",
      "[43]\ttraining's auc: 0.919459\tvalid_1's auc: 0.842781\n",
      "[44]\ttraining's auc: 0.921795\tvalid_1's auc: 0.843316\n",
      "[45]\ttraining's auc: 0.921645\tvalid_1's auc: 0.843449\n",
      "[46]\ttraining's auc: 0.9229\tvalid_1's auc: 0.844251\n",
      "[47]\ttraining's auc: 0.923607\tvalid_1's auc: 0.840775\n",
      "[48]\ttraining's auc: 0.924339\tvalid_1's auc: 0.840642\n",
      "[49]\ttraining's auc: 0.924896\tvalid_1's auc: 0.839439\n",
      "[50]\ttraining's auc: 0.925902\tvalid_1's auc: 0.837701\n",
      "[51]\ttraining's auc: 0.925769\tvalid_1's auc: 0.837433\n",
      "[52]\ttraining's auc: 0.926766\tvalid_1's auc: 0.837968\n",
      "[53]\ttraining's auc: 0.926625\tvalid_1's auc: 0.837433\n",
      "[54]\ttraining's auc: 0.927822\tvalid_1's auc: 0.837166\n",
      "[55]\ttraining's auc: 0.92857\tvalid_1's auc: 0.836898\n",
      "[56]\ttraining's auc: 0.929643\tvalid_1's auc: 0.837968\n",
      "[57]\ttraining's auc: 0.929402\tvalid_1's auc: 0.837701\n",
      "[58]\ttraining's auc: 0.929418\tvalid_1's auc: 0.838102\n",
      "[59]\ttraining's auc: 0.930898\tvalid_1's auc: 0.836364\n",
      "[60]\ttraining's auc: 0.93163\tvalid_1's auc: 0.835829\n",
      "[61]\ttraining's auc: 0.93163\tvalid_1's auc: 0.834893\n",
      "[62]\ttraining's auc: 0.931646\tvalid_1's auc: 0.838369\n",
      "[63]\ttraining's auc: 0.931829\tvalid_1's auc: 0.837834\n",
      "[64]\ttraining's auc: 0.932286\tvalid_1's auc: 0.838369\n",
      "[65]\ttraining's auc: 0.932394\tvalid_1's auc: 0.838369\n",
      "[66]\ttraining's auc: 0.933276\tvalid_1's auc: 0.837968\n",
      "[67]\ttraining's auc: 0.933467\tvalid_1's auc: 0.837834\n",
      "[68]\ttraining's auc: 0.934465\tvalid_1's auc: 0.837567\n",
      "[69]\ttraining's auc: 0.93444\tvalid_1's auc: 0.838904\n",
      "[70]\ttraining's auc: 0.93508\tvalid_1's auc: 0.840107\n",
      "[71]\ttraining's auc: 0.935288\tvalid_1's auc: 0.840107\n",
      "[72]\ttraining's auc: 0.935562\tvalid_1's auc: 0.839572\n",
      "[73]\ttraining's auc: 0.935587\tvalid_1's auc: 0.839973\n",
      "[74]\ttraining's auc: 0.935662\tvalid_1's auc: 0.838904\n",
      "[75]\ttraining's auc: 0.936294\tvalid_1's auc: 0.840107\n",
      "[76]\ttraining's auc: 0.936817\tvalid_1's auc: 0.840107\n",
      "[77]\ttraining's auc: 0.937391\tvalid_1's auc: 0.839706\n",
      "[78]\ttraining's auc: 0.937225\tvalid_1's auc: 0.839973\n",
      "[79]\ttraining's auc: 0.937466\tvalid_1's auc: 0.839706\n",
      "[80]\ttraining's auc: 0.937948\tvalid_1's auc: 0.83623\n",
      "[81]\ttraining's auc: 0.938522\tvalid_1's auc: 0.836497\n",
      "[82]\ttraining's auc: 0.93927\tvalid_1's auc: 0.837567\n",
      "[83]\ttraining's auc: 0.939511\tvalid_1's auc: 0.837968\n",
      "[84]\ttraining's auc: 0.940716\tvalid_1's auc: 0.840508\n",
      "[85]\ttraining's auc: 0.94065\tvalid_1's auc: 0.840909\n",
      "[86]\ttraining's auc: 0.941739\tvalid_1's auc: 0.840775\n",
      "[87]\ttraining's auc: 0.941789\tvalid_1's auc: 0.840241\n",
      "[88]\ttraining's auc: 0.942271\tvalid_1's auc: 0.841176\n",
      "[89]\ttraining's auc: 0.942778\tvalid_1's auc: 0.841043\n",
      "[90]\ttraining's auc: 0.942437\tvalid_1's auc: 0.840374\n",
      "[91]\ttraining's auc: 0.942429\tvalid_1's auc: 0.839973\n",
      "[92]\ttraining's auc: 0.942579\tvalid_1's auc: 0.83984\n",
      "[93]\ttraining's auc: 0.942695\tvalid_1's auc: 0.839973\n",
      "[94]\ttraining's auc: 0.942853\tvalid_1's auc: 0.839973\n",
      "[95]\ttraining's auc: 0.94282\tvalid_1's auc: 0.839706\n",
      "[96]\ttraining's auc: 0.942903\tvalid_1's auc: 0.839305\n",
      "[97]\ttraining's auc: 0.942969\tvalid_1's auc: 0.839439\n",
      "[98]\ttraining's auc: 0.943626\tvalid_1's auc: 0.840241\n",
      "[99]\ttraining's auc: 0.943618\tvalid_1's auc: 0.840642\n",
      "[100]\ttraining's auc: 0.94415\tvalid_1's auc: 0.840374\n",
      "[1]\ttraining's auc: 0.768589\tvalid_1's auc: 0.665174\n",
      "[2]\ttraining's auc: 0.766149\tvalid_1's auc: 0.671257\n",
      "[3]\ttraining's auc: 0.776537\tvalid_1's auc: 0.694452\n",
      "[4]\ttraining's auc: 0.793002\tvalid_1's auc: 0.705147\n",
      "[5]\ttraining's auc: 0.852165\tvalid_1's auc: 0.77988\n",
      "[6]\ttraining's auc: 0.880738\tvalid_1's auc: 0.81631\n",
      "[7]\ttraining's auc: 0.883632\tvalid_1's auc: 0.831551\n",
      "[8]\ttraining's auc: 0.890074\tvalid_1's auc: 0.833422\n",
      "[9]\ttraining's auc: 0.892045\tvalid_1's auc: 0.841176\n",
      "[10]\ttraining's auc: 0.892768\tvalid_1's auc: 0.841444\n",
      "[11]\ttraining's auc: 0.892028\tvalid_1's auc: 0.844251\n",
      "[12]\ttraining's auc: 0.895466\tvalid_1's auc: 0.842981\n",
      "[13]\ttraining's auc: 0.895457\tvalid_1's auc: 0.845521\n",
      "[14]\ttraining's auc: 0.89626\tvalid_1's auc: 0.842848\n",
      "[15]\ttraining's auc: 0.895952\tvalid_1's auc: 0.844318\n",
      "[16]\ttraining's auc: 0.897083\tvalid_1's auc: 0.840508\n",
      "[17]\ttraining's auc: 0.898779\tvalid_1's auc: 0.842112\n",
      "[18]\ttraining's auc: 0.898089\tvalid_1's auc: 0.842914\n",
      "[19]\ttraining's auc: 0.897873\tvalid_1's auc: 0.845455\n",
      "[20]\ttraining's auc: 0.900645\tvalid_1's auc: 0.846925\n",
      "[21]\ttraining's auc: 0.900421\tvalid_1's auc: 0.845588\n",
      "[22]\ttraining's auc: 0.903251\tvalid_1's auc: 0.844385\n",
      "[23]\ttraining's auc: 0.904108\tvalid_1's auc: 0.846925\n",
      "[24]\ttraining's auc: 0.905338\tvalid_1's auc: 0.846123\n",
      "[25]\ttraining's auc: 0.905272\tvalid_1's auc: 0.846524\n",
      "[26]\ttraining's auc: 0.906693\tvalid_1's auc: 0.84492\n",
      "[27]\ttraining's auc: 0.906569\tvalid_1's auc: 0.845989\n",
      "[28]\ttraining's auc: 0.908327\tvalid_1's auc: 0.847594\n",
      "[29]\ttraining's auc: 0.90826\tvalid_1's auc: 0.847861\n",
      "[30]\ttraining's auc: 0.910472\tvalid_1's auc: 0.843717\n",
      "[31]\ttraining's auc: 0.912176\tvalid_1's auc: 0.845321\n",
      "[32]\ttraining's auc: 0.914878\tvalid_1's auc: 0.845455\n",
      "[33]\ttraining's auc: 0.914811\tvalid_1's auc: 0.846123\n",
      "[34]\ttraining's auc: 0.91452\tvalid_1's auc: 0.846123\n",
      "[35]\ttraining's auc: 0.914778\tvalid_1's auc: 0.84639\n",
      "[36]\ttraining's auc: 0.915668\tvalid_1's auc: 0.845321\n",
      "[37]\ttraining's auc: 0.916208\tvalid_1's auc: 0.842914\n",
      "[38]\ttraining's auc: 0.916316\tvalid_1's auc: 0.842781\n",
      "[39]\ttraining's auc: 0.916058\tvalid_1's auc: 0.843449\n",
      "[40]\ttraining's auc: 0.916807\tvalid_1's auc: 0.842647\n",
      "[41]\ttraining's auc: 0.917031\tvalid_1's auc: 0.841845\n",
      "[42]\ttraining's auc: 0.917256\tvalid_1's auc: 0.840909\n",
      "[43]\ttraining's auc: 0.917912\tvalid_1's auc: 0.839706\n",
      "[44]\ttraining's auc: 0.919421\tvalid_1's auc: 0.840374\n",
      "[45]\ttraining's auc: 0.919006\tvalid_1's auc: 0.840775\n",
      "[46]\ttraining's auc: 0.920111\tvalid_1's auc: 0.841578\n",
      "[47]\ttraining's auc: 0.920677\tvalid_1's auc: 0.840909\n",
      "[48]\ttraining's auc: 0.921379\tvalid_1's auc: 0.838102\n",
      "[49]\ttraining's auc: 0.921362\tvalid_1's auc: 0.837567\n",
      "[50]\ttraining's auc: 0.922618\tvalid_1's auc: 0.838235\n",
      "[51]\ttraining's auc: 0.922626\tvalid_1's auc: 0.837834\n",
      "[52]\ttraining's auc: 0.923765\tvalid_1's auc: 0.841043\n",
      "[53]\ttraining's auc: 0.923665\tvalid_1's auc: 0.84131\n",
      "[54]\ttraining's auc: 0.924123\tvalid_1's auc: 0.840374\n",
      "[55]\ttraining's auc: 0.924634\tvalid_1's auc: 0.839572\n",
      "[56]\ttraining's auc: 0.926022\tvalid_1's auc: 0.837834\n",
      "[57]\ttraining's auc: 0.925706\tvalid_1's auc: 0.837834\n",
      "[58]\ttraining's auc: 0.925748\tvalid_1's auc: 0.839706\n",
      "[59]\ttraining's auc: 0.925889\tvalid_1's auc: 0.837701\n",
      "[60]\ttraining's auc: 0.927302\tvalid_1's auc: 0.839439\n",
      "[61]\ttraining's auc: 0.927668\tvalid_1's auc: 0.838904\n",
      "[62]\ttraining's auc: 0.927485\tvalid_1's auc: 0.842647\n",
      "[63]\ttraining's auc: 0.927793\tvalid_1's auc: 0.84238\n",
      "[64]\ttraining's auc: 0.928483\tvalid_1's auc: 0.842246\n",
      "[65]\ttraining's auc: 0.928583\tvalid_1's auc: 0.84238\n",
      "[66]\ttraining's auc: 0.929023\tvalid_1's auc: 0.841845\n",
      "[67]\ttraining's auc: 0.929181\tvalid_1's auc: 0.842112\n",
      "[68]\ttraining's auc: 0.930254\tvalid_1's auc: 0.843717\n",
      "[69]\ttraining's auc: 0.930337\tvalid_1's auc: 0.843449\n",
      "[70]\ttraining's auc: 0.931825\tvalid_1's auc: 0.845053\n",
      "[71]\ttraining's auc: 0.932141\tvalid_1's auc: 0.844786\n",
      "[72]\ttraining's auc: 0.932191\tvalid_1's auc: 0.844118\n",
      "[73]\ttraining's auc: 0.932166\tvalid_1's auc: 0.843449\n",
      "[74]\ttraining's auc: 0.932415\tvalid_1's auc: 0.843449\n",
      "[75]\ttraining's auc: 0.933064\tvalid_1's auc: 0.845856\n",
      "[76]\ttraining's auc: 0.933147\tvalid_1's auc: 0.845856\n",
      "[77]\ttraining's auc: 0.933612\tvalid_1's auc: 0.845989\n",
      "[78]\ttraining's auc: 0.933621\tvalid_1's auc: 0.846257\n",
      "[79]\ttraining's auc: 0.933546\tvalid_1's auc: 0.845989\n",
      "[80]\ttraining's auc: 0.933986\tvalid_1's auc: 0.845321\n",
      "[81]\ttraining's auc: 0.934286\tvalid_1's auc: 0.84385\n",
      "[82]\ttraining's auc: 0.934984\tvalid_1's auc: 0.847326\n",
      "[83]\ttraining's auc: 0.935234\tvalid_1's auc: 0.845856\n",
      "[84]\ttraining's auc: 0.936348\tvalid_1's auc: 0.848128\n",
      "[85]\ttraining's auc: 0.936705\tvalid_1's auc: 0.847861\n",
      "[86]\ttraining's auc: 0.93737\tvalid_1's auc: 0.846791\n",
      "[87]\ttraining's auc: 0.937462\tvalid_1's auc: 0.848396\n",
      "[88]\ttraining's auc: 0.938609\tvalid_1's auc: 0.847594\n",
      "[89]\ttraining's auc: 0.9389\tvalid_1's auc: 0.846257\n",
      "[90]\ttraining's auc: 0.938634\tvalid_1's auc: 0.847326\n",
      "[91]\ttraining's auc: 0.938576\tvalid_1's auc: 0.84746\n",
      "[92]\ttraining's auc: 0.938667\tvalid_1's auc: 0.847995\n",
      "[93]\ttraining's auc: 0.938684\tvalid_1's auc: 0.848529\n",
      "[94]\ttraining's auc: 0.938808\tvalid_1's auc: 0.848797\n",
      "[95]\ttraining's auc: 0.938783\tvalid_1's auc: 0.848663\n",
      "[96]\ttraining's auc: 0.939224\tvalid_1's auc: 0.846257\n",
      "[97]\ttraining's auc: 0.939216\tvalid_1's auc: 0.846123\n",
      "[98]\ttraining's auc: 0.939922\tvalid_1's auc: 0.847059\n",
      "[99]\ttraining's auc: 0.939964\tvalid_1's auc: 0.845722\n",
      "[100]\ttraining's auc: 0.940454\tvalid_1's auc: 0.846925\n"
     ]
    },
    {
     "name": "stderr",
     "output_type": "stream",
     "text": [
      "4it [00:01,  3.43it/s]"
     ]
    },
    {
     "name": "stdout",
     "output_type": "stream",
     "text": [
      "[1]\ttraining's auc: 0.776175\tvalid_1's auc: 0.734425\n",
      "[2]\ttraining's auc: 0.769736\tvalid_1's auc: 0.732487\n",
      "[3]\ttraining's auc: 0.776458\tvalid_1's auc: 0.739104\n",
      "[4]\ttraining's auc: 0.794099\tvalid_1's auc: 0.735361\n",
      "[5]\ttraining's auc: 0.858733\tvalid_1's auc: 0.810695\n",
      "[6]\ttraining's auc: 0.881295\tvalid_1's auc: 0.84111\n",
      "[7]\ttraining's auc: 0.885801\tvalid_1's auc: 0.848596\n",
      "[8]\ttraining's auc: 0.889355\tvalid_1's auc: 0.848329\n",
      "[9]\ttraining's auc: 0.890469\tvalid_1's auc: 0.84619\n",
      "[10]\ttraining's auc: 0.890565\tvalid_1's auc: 0.847393\n",
      "[11]\ttraining's auc: 0.89039\tvalid_1's auc: 0.848596\n",
      "[12]\ttraining's auc: 0.892348\tvalid_1's auc: 0.853008\n",
      "[13]\ttraining's auc: 0.891941\tvalid_1's auc: 0.854078\n",
      "[14]\ttraining's auc: 0.893425\tvalid_1's auc: 0.852674\n",
      "[15]\ttraining's auc: 0.892909\tvalid_1's auc: 0.852005\n",
      "[16]\ttraining's auc: 0.895291\tvalid_1's auc: 0.854078\n",
      "[17]\ttraining's auc: 0.896572\tvalid_1's auc: 0.855147\n",
      "[18]\ttraining's auc: 0.895574\tvalid_1's auc: 0.855682\n",
      "[19]\ttraining's auc: 0.895757\tvalid_1's auc: 0.855548\n",
      "[20]\ttraining's auc: 0.898687\tvalid_1's auc: 0.857687\n",
      "[21]\ttraining's auc: 0.897498\tvalid_1's auc: 0.857286\n",
      "[22]\ttraining's auc: 0.89929\tvalid_1's auc: 0.859826\n",
      "[23]\ttraining's auc: 0.899248\tvalid_1's auc: 0.859158\n",
      "[24]\ttraining's auc: 0.901119\tvalid_1's auc: 0.861564\n",
      "[25]\ttraining's auc: 0.90072\tvalid_1's auc: 0.862767\n",
      "[26]\ttraining's auc: 0.901331\tvalid_1's auc: 0.864238\n",
      "[27]\ttraining's auc: 0.901664\tvalid_1's auc: 0.863302\n",
      "[28]\ttraining's auc: 0.903318\tvalid_1's auc: 0.864372\n",
      "[29]\ttraining's auc: 0.903617\tvalid_1's auc: 0.864372\n",
      "[30]\ttraining's auc: 0.905176\tvalid_1's auc: 0.866243\n",
      "[31]\ttraining's auc: 0.907246\tvalid_1's auc: 0.867447\n",
      "[32]\ttraining's auc: 0.909769\tvalid_1's auc: 0.868516\n",
      "[33]\ttraining's auc: 0.909453\tvalid_1's auc: 0.86865\n",
      "[34]\ttraining's auc: 0.909088\tvalid_1's auc: 0.868249\n",
      "[35]\ttraining's auc: 0.909038\tvalid_1's auc: 0.868917\n",
      "[36]\ttraining's auc: 0.910143\tvalid_1's auc: 0.869318\n",
      "[37]\ttraining's auc: 0.911324\tvalid_1's auc: 0.869318\n",
      "[38]\ttraining's auc: 0.910667\tvalid_1's auc: 0.870254\n",
      "[39]\ttraining's auc: 0.910168\tvalid_1's auc: 0.869987\n",
      "[40]\ttraining's auc: 0.911091\tvalid_1's auc: 0.869318\n",
      "[41]\ttraining's auc: 0.911066\tvalid_1's auc: 0.870388\n",
      "[42]\ttraining's auc: 0.911016\tvalid_1's auc: 0.870388\n",
      "[43]\ttraining's auc: 0.912218\tvalid_1's auc: 0.870388\n",
      "[44]\ttraining's auc: 0.914362\tvalid_1's auc: 0.871324\n",
      "[45]\ttraining's auc: 0.914013\tvalid_1's auc: 0.871056\n",
      "[46]\ttraining's auc: 0.914994\tvalid_1's auc: 0.871591\n",
      "[47]\ttraining's auc: 0.915859\tvalid_1's auc: 0.871725\n",
      "[48]\ttraining's auc: 0.916732\tvalid_1's auc: 0.871858\n",
      "[49]\ttraining's auc: 0.916657\tvalid_1's auc: 0.872928\n",
      "[50]\ttraining's auc: 0.917655\tvalid_1's auc: 0.873864\n",
      "[51]\ttraining's auc: 0.917596\tvalid_1's auc: 0.87373\n",
      "[52]\ttraining's auc: 0.919409\tvalid_1's auc: 0.874933\n",
      "[53]\ttraining's auc: 0.919168\tvalid_1's auc: 0.874933\n",
      "[54]\ttraining's auc: 0.919745\tvalid_1's auc: 0.874799\n",
      "[55]\ttraining's auc: 0.920186\tvalid_1's auc: 0.875468\n",
      "[56]\ttraining's auc: 0.922364\tvalid_1's auc: 0.875134\n",
      "[57]\ttraining's auc: 0.922023\tvalid_1's auc: 0.874866\n",
      "[58]\ttraining's auc: 0.922115\tvalid_1's auc: 0.875535\n",
      "[59]\ttraining's auc: 0.922298\tvalid_1's auc: 0.876203\n",
      "[60]\ttraining's auc: 0.925116\tvalid_1's auc: 0.876203\n",
      "[61]\ttraining's auc: 0.925207\tvalid_1's auc: 0.876337\n",
      "[62]\ttraining's auc: 0.925523\tvalid_1's auc: 0.876337\n",
      "[63]\ttraining's auc: 0.925507\tvalid_1's auc: 0.876604\n",
      "[64]\ttraining's auc: 0.925972\tvalid_1's auc: 0.877941\n",
      "[65]\ttraining's auc: 0.926014\tvalid_1's auc: 0.878342\n",
      "[66]\ttraining's auc: 0.927003\tvalid_1's auc: 0.879144\n",
      "[67]\ttraining's auc: 0.927244\tvalid_1's auc: 0.878743\n",
      "[68]\ttraining's auc: 0.927743\tvalid_1's auc: 0.880348\n",
      "[69]\ttraining's auc: 0.927893\tvalid_1's auc: 0.880749\n",
      "[70]\ttraining's auc: 0.929123\tvalid_1's auc: 0.881684\n",
      "[71]\ttraining's auc: 0.929123\tvalid_1's auc: 0.881818\n",
      "[72]\ttraining's auc: 0.929339\tvalid_1's auc: 0.882888\n",
      "[73]\ttraining's auc: 0.929372\tvalid_1's auc: 0.883155\n",
      "[74]\ttraining's auc: 0.929539\tvalid_1's auc: 0.883556\n",
      "[75]\ttraining's auc: 0.930004\tvalid_1's auc: 0.885027\n",
      "[76]\ttraining's auc: 0.930312\tvalid_1's auc: 0.885695\n",
      "[77]\ttraining's auc: 0.930852\tvalid_1's auc: 0.88516\n",
      "[78]\ttraining's auc: 0.93096\tvalid_1's auc: 0.884626\n",
      "[79]\ttraining's auc: 0.930802\tvalid_1's auc: 0.884893\n",
      "[80]\ttraining's auc: 0.93106\tvalid_1's auc: 0.884759\n",
      "[81]\ttraining's auc: 0.931268\tvalid_1's auc: 0.884893\n",
      "[82]\ttraining's auc: 0.932266\tvalid_1's auc: 0.88516\n",
      "[83]\ttraining's auc: 0.932532\tvalid_1's auc: 0.885695\n",
      "[84]\ttraining's auc: 0.933953\tvalid_1's auc: 0.885428\n",
      "[85]\ttraining's auc: 0.933587\tvalid_1's auc: 0.88623\n",
      "[86]\ttraining's auc: 0.935782\tvalid_1's auc: 0.885829\n",
      "[87]\ttraining's auc: 0.935608\tvalid_1's auc: 0.885829\n",
      "[88]\ttraining's auc: 0.936456\tvalid_1's auc: 0.884893\n",
      "[89]\ttraining's auc: 0.93673\tvalid_1's auc: 0.885294\n",
      "[90]\ttraining's auc: 0.936597\tvalid_1's auc: 0.885428\n",
      "[91]\ttraining's auc: 0.93653\tvalid_1's auc: 0.885428\n",
      "[92]\ttraining's auc: 0.936622\tvalid_1's auc: 0.885695\n",
      "[93]\ttraining's auc: 0.936738\tvalid_1's auc: 0.88623\n",
      "[94]\ttraining's auc: 0.936821\tvalid_1's auc: 0.88623\n",
      "[95]\ttraining's auc: 0.93683\tvalid_1's auc: 0.88623\n",
      "[96]\ttraining's auc: 0.937137\tvalid_1's auc: 0.886631\n",
      "[97]\ttraining's auc: 0.937071\tvalid_1's auc: 0.886765\n",
      "[98]\ttraining's auc: 0.937902\tvalid_1's auc: 0.886898\n",
      "[99]\ttraining's auc: 0.937802\tvalid_1's auc: 0.887032\n",
      "[100]\ttraining's auc: 0.93821\tvalid_1's auc: 0.887299\n",
      "[1]\ttraining's auc: 0.74463\tvalid_1's auc: 0.78673\n",
      "[2]\ttraining's auc: 0.742662\tvalid_1's auc: 0.808137\n",
      "[3]\ttraining's auc: 0.759108\tvalid_1's auc: 0.825356\n",
      "[4]\ttraining's auc: 0.779017\tvalid_1's auc: 0.821433\n",
      "[5]\ttraining's auc: 0.844655\tvalid_1's auc: 0.882994\n",
      "[6]\ttraining's auc: 0.874942\tvalid_1's auc: 0.90367\n",
      "[7]\ttraining's auc: 0.877273\tvalid_1's auc: 0.902739\n",
      "[8]\ttraining's auc: 0.88166\tvalid_1's auc: 0.899016\n",
      "[9]\ttraining's auc: 0.882684\tvalid_1's auc: 0.894894\n",
      "[10]\ttraining's auc: 0.883429\tvalid_1's auc: 0.894828\n",
      "[11]\ttraining's auc: 0.881939\tvalid_1's auc: 0.894828\n",
      "[12]\ttraining's auc: 0.887479\tvalid_1's auc: 0.900745\n",
      "[13]\ttraining's auc: 0.887479\tvalid_1's auc: 0.900479\n",
      "[14]\ttraining's auc: 0.888774\tvalid_1's auc: 0.896756\n",
      "[15]\ttraining's auc: 0.890247\tvalid_1's auc: 0.897952\n",
      "[16]\ttraining's auc: 0.891425\tvalid_1's auc: 0.899681\n",
      "[17]\ttraining's auc: 0.892566\tvalid_1's auc: 0.904733\n",
      "[18]\ttraining's auc: 0.892299\tvalid_1's auc: 0.905531\n",
      "[19]\ttraining's auc: 0.890951\tvalid_1's auc: 0.904069\n",
      "[20]\ttraining's auc: 0.894447\tvalid_1's auc: 0.907659\n",
      "[21]\ttraining's auc: 0.894397\tvalid_1's auc: 0.908722\n",
      "[22]\ttraining's auc: 0.897453\tvalid_1's auc: 0.909387\n",
      "[23]\ttraining's auc: 0.897236\tvalid_1's auc: 0.908456\n",
      "[24]\ttraining's auc: 0.90005\tvalid_1's auc: 0.90952\n",
      "[25]\ttraining's auc: 0.900108\tvalid_1's auc: 0.909919\n",
      "[26]\ttraining's auc: 0.902556\tvalid_1's auc: 0.910584\n",
      "[27]\ttraining's auc: 0.901449\tvalid_1's auc: 0.910584\n",
      "[28]\ttraining's auc: 0.903447\tvalid_1's auc: 0.911116\n",
      "[29]\ttraining's auc: 0.903705\tvalid_1's auc: 0.911116\n",
      "[30]\ttraining's auc: 0.906256\tvalid_1's auc: 0.91198\n",
      "[31]\ttraining's auc: 0.90758\tvalid_1's auc: 0.913841\n",
      "[32]\ttraining's auc: 0.910385\tvalid_1's auc: 0.911448\n",
      "[33]\ttraining's auc: 0.910377\tvalid_1's auc: 0.911581\n",
      "[34]\ttraining's auc: 0.910211\tvalid_1's auc: 0.911182\n",
      "[35]\ttraining's auc: 0.910394\tvalid_1's auc: 0.911714\n",
      "[36]\ttraining's auc: 0.911767\tvalid_1's auc: 0.911182\n",
      "[37]\ttraining's auc: 0.91225\tvalid_1's auc: 0.91198\n",
      "[38]\ttraining's auc: 0.912109\tvalid_1's auc: 0.911714\n",
      "[39]\ttraining's auc: 0.911468\tvalid_1's auc: 0.910783\n",
      "[40]\ttraining's auc: 0.912783\tvalid_1's auc: 0.909188\n",
      "[41]\ttraining's auc: 0.91275\tvalid_1's auc: 0.909719\n",
      "[42]\ttraining's auc: 0.913083\tvalid_1's auc: 0.91065\n",
      "[43]\ttraining's auc: 0.914373\tvalid_1's auc: 0.911049\n",
      "[44]\ttraining's auc: 0.916071\tvalid_1's auc: 0.908257\n",
      "[45]\ttraining's auc: 0.915747\tvalid_1's auc: 0.90839\n",
      "[46]\ttraining's auc: 0.91717\tvalid_1's auc: 0.909985\n",
      "[47]\ttraining's auc: 0.917978\tvalid_1's auc: 0.910783\n",
      "[48]\ttraining's auc: 0.918594\tvalid_1's auc: 0.910517\n",
      "[49]\ttraining's auc: 0.918544\tvalid_1's auc: 0.910384\n",
      "[50]\ttraining's auc: 0.919152\tvalid_1's auc: 0.910517\n",
      "[51]\ttraining's auc: 0.919093\tvalid_1's auc: 0.910916\n",
      "[52]\ttraining's auc: 0.919843\tvalid_1's auc: 0.911714\n",
      "[53]\ttraining's auc: 0.919843\tvalid_1's auc: 0.911847\n",
      "[54]\ttraining's auc: 0.920088\tvalid_1's auc: 0.911714\n",
      "[55]\ttraining's auc: 0.920646\tvalid_1's auc: 0.910783\n",
      "[56]\ttraining's auc: 0.923302\tvalid_1's auc: 0.909321\n",
      "[57]\ttraining's auc: 0.923127\tvalid_1's auc: 0.908789\n",
      "[58]\ttraining's auc: 0.923693\tvalid_1's auc: 0.909188\n",
      "[59]\ttraining's auc: 0.923635\tvalid_1's auc: 0.907991\n",
      "[60]\ttraining's auc: 0.925932\tvalid_1's auc: 0.909719\n",
      "[61]\ttraining's auc: 0.92624\tvalid_1's auc: 0.909985\n",
      "[62]\ttraining's auc: 0.926107\tvalid_1's auc: 0.909454\n",
      "[63]\ttraining's auc: 0.926257\tvalid_1's auc: 0.909985\n",
      "[64]\ttraining's auc: 0.927289\tvalid_1's auc: 0.908523\n",
      "[65]\ttraining's auc: 0.927181\tvalid_1's auc: 0.908257\n",
      "[66]\ttraining's auc: 0.928322\tvalid_1's auc: 0.909055\n",
      "[67]\ttraining's auc: 0.928555\tvalid_1's auc: 0.909852\n",
      "[68]\ttraining's auc: 0.929104\tvalid_1's auc: 0.910251\n",
      "[69]\ttraining's auc: 0.929304\tvalid_1's auc: 0.911049\n",
      "[70]\ttraining's auc: 0.928963\tvalid_1's auc: 0.909985\n",
      "[71]\ttraining's auc: 0.929312\tvalid_1's auc: 0.909454\n",
      "[72]\ttraining's auc: 0.929454\tvalid_1's auc: 0.910517\n",
      "[73]\ttraining's auc: 0.929437\tvalid_1's auc: 0.910118\n",
      "[74]\ttraining's auc: 0.92957\tvalid_1's auc: 0.909719\n",
      "[75]\ttraining's auc: 0.93027\tvalid_1's auc: 0.911182\n",
      "[76]\ttraining's auc: 0.931136\tvalid_1's auc: 0.911714\n",
      "[77]\ttraining's auc: 0.931718\tvalid_1's auc: 0.911315\n",
      "[78]\ttraining's auc: 0.931568\tvalid_1's auc: 0.911182\n",
      "[79]\ttraining's auc: 0.93151\tvalid_1's auc: 0.911315\n",
      "[80]\ttraining's auc: 0.931677\tvalid_1's auc: 0.912113\n",
      "[81]\ttraining's auc: 0.932189\tvalid_1's auc: 0.911847\n",
      "[82]\ttraining's auc: 0.932846\tvalid_1's auc: 0.911581\n",
      "[83]\ttraining's auc: 0.933446\tvalid_1's auc: 0.91198\n",
      "[84]\ttraining's auc: 0.934436\tvalid_1's auc: 0.911315\n",
      "[85]\ttraining's auc: 0.934595\tvalid_1's auc: 0.91198\n",
      "[86]\ttraining's auc: 0.935818\tvalid_1's auc: 0.911448\n",
      "[87]\ttraining's auc: 0.936126\tvalid_1's auc: 0.911315\n",
      "[88]\ttraining's auc: 0.936917\tvalid_1's auc: 0.911315\n",
      "[89]\ttraining's auc: 0.937408\tvalid_1's auc: 0.911182\n",
      "[90]\ttraining's auc: 0.937234\tvalid_1's auc: 0.911182\n",
      "[91]\ttraining's auc: 0.937159\tvalid_1's auc: 0.911049\n",
      "[92]\ttraining's auc: 0.937217\tvalid_1's auc: 0.91065\n",
      "[93]\ttraining's auc: 0.93755\tvalid_1's auc: 0.910783\n",
      "[94]\ttraining's auc: 0.937891\tvalid_1's auc: 0.910517\n",
      "[95]\ttraining's auc: 0.937933\tvalid_1's auc: 0.91065\n",
      "[96]\ttraining's auc: 0.938216\tvalid_1's auc: 0.911182\n",
      "[97]\ttraining's auc: 0.938116\tvalid_1's auc: 0.911049\n",
      "[98]\ttraining's auc: 0.938666\tvalid_1's auc: 0.911049\n",
      "[99]\ttraining's auc: 0.93874\tvalid_1's auc: 0.91065\n",
      "[100]\ttraining's auc: 0.939448\tvalid_1's auc: 0.909454\n"
     ]
    },
    {
     "name": "stderr",
     "output_type": "stream",
     "text": [
      "5it [00:01,  3.42it/s]\n"
     ]
    },
    {
     "name": "stdout",
     "output_type": "stream",
     "text": [
      "-> Training final model on the full-set\n",
      "\n",
      "[1]\ttraining's auc: 0.771669\tvalid_1's auc: 0.808137\n",
      "[2]\ttraining's auc: 0.763893\tvalid_1's auc: 0.822165\n",
      "[3]\ttraining's auc: 0.775267\tvalid_1's auc: 0.832469\n",
      "[4]\ttraining's auc: 0.795407\tvalid_1's auc: 0.856867\n",
      "[5]\ttraining's auc: 0.854198\tvalid_1's auc: 0.904467\n",
      "[6]\ttraining's auc: 0.879757\tvalid_1's auc: 0.918428\n",
      "[7]\ttraining's auc: 0.8816\tvalid_1's auc: 0.92029\n",
      "[8]\ttraining's auc: 0.887177\tvalid_1's auc: 0.92388\n",
      "[9]\ttraining's auc: 0.887901\tvalid_1's auc: 0.922816\n",
      "[10]\ttraining's auc: 0.888692\tvalid_1's auc: 0.922683\n",
      "[11]\ttraining's auc: 0.887765\tvalid_1's auc: 0.92029\n",
      "[12]\ttraining's auc: 0.891629\tvalid_1's auc: 0.923016\n",
      "[13]\ttraining's auc: 0.89165\tvalid_1's auc: 0.92368\n",
      "[14]\ttraining's auc: 0.892497\tvalid_1's auc: 0.927669\n",
      "[15]\ttraining's auc: 0.893309\tvalid_1's auc: 0.926606\n",
      "[16]\ttraining's auc: 0.894481\tvalid_1's auc: 0.929398\n",
      "[17]\ttraining's auc: 0.895323\tvalid_1's auc: 0.930993\n",
      "[18]\ttraining's auc: 0.895573\tvalid_1's auc: 0.931259\n",
      "[19]\ttraining's auc: 0.895312\tvalid_1's auc: 0.931126\n",
      "[20]\ttraining's auc: 0.897735\tvalid_1's auc: 0.932456\n",
      "[21]\ttraining's auc: 0.897283\tvalid_1's auc: 0.932589\n",
      "[22]\ttraining's auc: 0.899072\tvalid_1's auc: 0.933785\n",
      "[23]\ttraining's auc: 0.898944\tvalid_1's auc: 0.933121\n",
      "[24]\ttraining's auc: 0.901283\tvalid_1's auc: 0.936046\n",
      "[25]\ttraining's auc: 0.901038\tvalid_1's auc: 0.93578\n",
      "[26]\ttraining's auc: 0.903077\tvalid_1's auc: 0.93937\n",
      "[27]\ttraining's auc: 0.90287\tvalid_1's auc: 0.938971\n",
      "[28]\ttraining's auc: 0.904425\tvalid_1's auc: 0.940168\n",
      "[29]\ttraining's auc: 0.904537\tvalid_1's auc: 0.9403\n",
      "[30]\ttraining's auc: 0.906225\tvalid_1's auc: 0.941098\n",
      "[31]\ttraining's auc: 0.908467\tvalid_1's auc: 0.943226\n",
      "[32]\ttraining's auc: 0.911061\tvalid_1's auc: 0.941896\n",
      "[33]\ttraining's auc: 0.910821\tvalid_1's auc: 0.942029\n",
      "[34]\ttraining's auc: 0.910694\tvalid_1's auc: 0.941364\n",
      "[35]\ttraining's auc: 0.910768\tvalid_1's auc: 0.940832\n",
      "[36]\ttraining's auc: 0.912675\tvalid_1's auc: 0.944023\n",
      "[37]\ttraining's auc: 0.913756\tvalid_1's auc: 0.946151\n",
      "[38]\ttraining's auc: 0.913602\tvalid_1's auc: 0.946683\n",
      "[39]\ttraining's auc: 0.913303\tvalid_1's auc: 0.945885\n",
      "[40]\ttraining's auc: 0.914944\tvalid_1's auc: 0.947746\n",
      "[41]\ttraining's auc: 0.914821\tvalid_1's auc: 0.947082\n",
      "[42]\ttraining's auc: 0.914843\tvalid_1's auc: 0.94655\n",
      "[43]\ttraining's auc: 0.916014\tvalid_1's auc: 0.94881\n",
      "[44]\ttraining's auc: 0.917103\tvalid_1's auc: 0.946949\n",
      "[45]\ttraining's auc: 0.916965\tvalid_1's auc: 0.946683\n",
      "[46]\ttraining's auc: 0.9186\tvalid_1's auc: 0.950273\n",
      "[47]\ttraining's auc: 0.919766\tvalid_1's auc: 0.950937\n",
      "[48]\ttraining's auc: 0.92024\tvalid_1's auc: 0.95014\n",
      "[49]\ttraining's auc: 0.9204\tvalid_1's auc: 0.949741\n",
      "[50]\ttraining's auc: 0.921487\tvalid_1's auc: 0.951203\n",
      "[51]\ttraining's auc: 0.921423\tvalid_1's auc: 0.951336\n",
      "[52]\ttraining's auc: 0.922744\tvalid_1's auc: 0.953331\n",
      "[53]\ttraining's auc: 0.922584\tvalid_1's auc: 0.952666\n",
      "[54]\ttraining's auc: 0.92334\tvalid_1's auc: 0.95373\n",
      "[55]\ttraining's auc: 0.924059\tvalid_1's auc: 0.954128\n",
      "[56]\ttraining's auc: 0.925151\tvalid_1's auc: 0.955192\n",
      "[57]\ttraining's auc: 0.92513\tvalid_1's auc: 0.955325\n",
      "[58]\ttraining's auc: 0.925204\tvalid_1's auc: 0.955325\n",
      "[59]\ttraining's auc: 0.925561\tvalid_1's auc: 0.956256\n",
      "[60]\ttraining's auc: 0.926781\tvalid_1's auc: 0.957054\n",
      "[61]\ttraining's auc: 0.927004\tvalid_1's auc: 0.957187\n",
      "[62]\ttraining's auc: 0.927415\tvalid_1's auc: 0.957452\n",
      "[63]\ttraining's auc: 0.927202\tvalid_1's auc: 0.956921\n",
      "[64]\ttraining's auc: 0.927958\tvalid_1's auc: 0.95825\n",
      "[65]\ttraining's auc: 0.928011\tvalid_1's auc: 0.95825\n",
      "[66]\ttraining's auc: 0.928725\tvalid_1's auc: 0.959713\n",
      "[67]\ttraining's auc: 0.928778\tvalid_1's auc: 0.959713\n",
      "[68]\ttraining's auc: 0.929657\tvalid_1's auc: 0.960112\n",
      "[69]\ttraining's auc: 0.929976\tvalid_1's auc: 0.960644\n",
      "[70]\ttraining's auc: 0.930078\tvalid_1's auc: 0.960776\n",
      "[71]\ttraining's auc: 0.93028\tvalid_1's auc: 0.960644\n",
      "[72]\ttraining's auc: 0.930594\tvalid_1's auc: 0.961042\n",
      "[73]\ttraining's auc: 0.930679\tvalid_1's auc: 0.960909\n",
      "[74]\ttraining's auc: 0.930855\tvalid_1's auc: 0.961308\n",
      "[75]\ttraining's auc: 0.931116\tvalid_1's auc: 0.961308\n",
      "[76]\ttraining's auc: 0.931462\tvalid_1's auc: 0.960909\n",
      "[77]\ttraining's auc: 0.932016\tvalid_1's auc: 0.961441\n",
      "[78]\ttraining's auc: 0.93208\tvalid_1's auc: 0.961441\n",
      "[79]\ttraining's auc: 0.932006\tvalid_1's auc: 0.961574\n",
      "[80]\ttraining's auc: 0.932464\tvalid_1's auc: 0.961973\n",
      "[81]\ttraining's auc: 0.93314\tvalid_1's auc: 0.96317\n",
      "[82]\ttraining's auc: 0.933721\tvalid_1's auc: 0.963702\n",
      "[83]\ttraining's auc: 0.934354\tvalid_1's auc: 0.963436\n",
      "[84]\ttraining's auc: 0.935782\tvalid_1's auc: 0.962638\n",
      "[85]\ttraining's auc: 0.935846\tvalid_1's auc: 0.962771\n",
      "[86]\ttraining's auc: 0.936879\tvalid_1's auc: 0.963037\n",
      "[87]\ttraining's auc: 0.936751\tvalid_1's auc: 0.961574\n",
      "[88]\ttraining's auc: 0.937763\tvalid_1's auc: 0.963037\n",
      "[89]\ttraining's auc: 0.938125\tvalid_1's auc: 0.96317\n",
      "[90]\ttraining's auc: 0.93772\tvalid_1's auc: 0.963702\n",
      "[91]\ttraining's auc: 0.93764\tvalid_1's auc: 0.963702\n",
      "[92]\ttraining's auc: 0.937731\tvalid_1's auc: 0.963702\n",
      "[93]\ttraining's auc: 0.937976\tvalid_1's auc: 0.963569\n",
      "[94]\ttraining's auc: 0.938013\tvalid_1's auc: 0.963569\n",
      "[95]\ttraining's auc: 0.938061\tvalid_1's auc: 0.963569\n",
      "[96]\ttraining's auc: 0.938482\tvalid_1's auc: 0.963968\n",
      "[97]\ttraining's auc: 0.938487\tvalid_1's auc: 0.963835\n",
      "[98]\ttraining's auc: 0.938871\tvalid_1's auc: 0.964499\n",
      "[99]\ttraining's auc: 0.938961\tvalid_1's auc: 0.964101\n",
      "[100]\ttraining's auc: 0.939606\tvalid_1's auc: 0.964101\n",
      "Method Name       :\u001b[35;1m cv_adv\u001b[0m\n",
      "Current memory usage:\u001b[36m 0.993953MB\u001b[0m\n",
      "Peak                :\u001b[36m 2.367723MB\u001b[0m\n",
      "Total time taken:  \u001b[36m 1893.723 ms \u001b[0m\n"
     ]
    }
   ],
   "source": [
    "params = {\n",
    "        'boosting_type': 'gbdt',\n",
    "        'objective': 'binary',\n",
    "        'metric': 'auc',\n",
    "        'learning_rate': 0.1,\n",
    "        'n_estimators': 100,\n",
    "        'verbose': -1,\n",
    "        'max_depth': -1,\n",
    "        'seed':100,      \n",
    "        'min_split_gain': 0.01, \n",
    "        'num_leaves': 18, \n",
    "        'reg_alpha': 0.01, \n",
    "        'reg_lambda': 1.50,\n",
    "        'feature_fraction':0.2,\n",
    "        'bagging_fraction':0.84\n",
    "}\n",
    "    \n",
    "metrics= oc.cv_adv(X,y,0.5,50,shuffle=True,params=params,method='full')"
   ]
  },
  {
   "cell_type": "markdown",
   "metadata": {
    "ExecuteTime": {
     "end_time": "2020-12-02T15:25:11.912037Z",
     "start_time": "2020-12-02T15:25:11.909920Z"
    }
   },
   "source": [
    "# Model evaluation "
   ]
  },
  {
   "cell_type": "markdown",
   "metadata": {
    "ExecuteTime": {
     "end_time": "2020-12-02T15:20:22.653814Z",
     "start_time": "2020-12-02T15:20:22.649169Z"
    }
   },
   "source": [
    "### Plot of the CV folds - F1 macro and F1 for the positive class \n",
    "(in this case it's an unbalanced dataset)"
   ]
  },
  {
   "cell_type": "code",
   "execution_count": 47,
   "metadata": {
    "ExecuteTime": {
     "end_time": "2021-05-03T09:16:31.450403Z",
     "start_time": "2021-05-03T09:16:31.229417Z"
    }
   },
   "outputs": [
    {
     "data": {
      "image/png": "[encoded data removed]",
      "text/plain": [
       "<Figure size 936x504 with 1 Axes>"
      ]
     },
     "metadata": {},
     "output_type": "display_data"
    }
   ],
   "source": [
    "oc.cv_plot(metrics['f1_weighted'],metrics['f1_macro'],metrics['f1_positive'],'Titanic Kaggle competition')"
   ]
  },
  {
   "cell_type": "markdown",
   "metadata": {
    "ExecuteTime": {
     "end_time": "2020-12-02T15:21:35.818585Z",
     "start_time": "2020-12-02T15:21:35.816225Z"
    }
   },
   "source": [
    "## Scikit learn - Classification report "
   ]
  },
  {
   "cell_type": "code",
   "execution_count": 48,
   "metadata": {
    "ExecuteTime": {
     "end_time": "2021-05-03T09:16:32.693379Z",
     "start_time": "2021-05-03T09:16:32.683321Z"
    }
   },
   "outputs": [
    {
     "name": "stdout",
     "output_type": "stream",
     "text": [
      "              precision    recall  f1-score   support\n",
      "\n",
      "           0       0.84      0.90      0.87       549\n",
      "           1       0.81      0.72      0.76       342\n",
      "\n",
      "    accuracy                           0.83       891\n",
      "   macro avg       0.82      0.81      0.81       891\n",
      "weighted avg       0.83      0.83      0.83       891\n",
      "\n"
     ]
    }
   ],
   "source": [
    "print(classification_report(metrics['y'], metrics['predictions_folds']))"
   ]
  },
  {
   "cell_type": "markdown",
   "metadata": {
    "ExecuteTime": {
     "end_time": "2020-12-02T15:22:37.837746Z",
     "start_time": "2020-12-02T15:22:37.834540Z"
    }
   },
   "source": [
    "## ROC curve with AUC"
   ]
  },
  {
   "cell_type": "code",
   "execution_count": 49,
   "metadata": {
    "ExecuteTime": {
     "end_time": "2021-05-03T09:16:34.000023Z",
     "start_time": "2021-05-03T09:16:33.814658Z"
    }
   },
   "outputs": [
    {
     "data": {
      "image/png": "[encoded data removed]",
      "text/plain": [
       "<Figure size 648x576 with 1 Axes>"
      ]
     },
     "metadata": {},
     "output_type": "display_data"
    }
   ],
   "source": [
    "oc.roc_curve_plot(metrics['y'], metrics['predictions_proba'])"
   ]
  },
  {
   "cell_type": "markdown",
   "metadata": {
    "ExecuteTime": {
     "end_time": "2020-12-02T15:23:28.143209Z",
     "start_time": "2020-12-02T15:23:28.141234Z"
    }
   },
   "source": [
    "## Confusion Matrix plot (normalized and with absolute values) "
   ]
  },
  {
   "cell_type": "code",
   "execution_count": 50,
   "metadata": {
    "ExecuteTime": {
     "end_time": "2021-05-03T09:16:35.326194Z",
     "start_time": "2021-05-03T09:16:34.952362Z"
    }
   },
   "outputs": [
    {
     "data": {
      "text/plain": [
       "<Figure size 432x288 with 0 Axes>"
      ]
     },
     "metadata": {},
     "output_type": "display_data"
    },
    {
     "data": {
      "image/png": "[encoded data removed]",
      "text/plain": [
       "<Figure size 468x396 with 2 Axes>"
      ]
     },
     "metadata": {},
     "output_type": "display_data"
    },
    {
     "data": {
      "text/plain": [
       "<Figure size 432x288 with 0 Axes>"
      ]
     },
     "metadata": {},
     "output_type": "display_data"
    },
    {
     "data": {
      "image/png": "[encoded data removed]",
      "text/plain": [
       "<Figure size 468x396 with 2 Axes>"
      ]
     },
     "metadata": {},
     "output_type": "display_data"
    }
   ],
   "source": [
    "oc.confusion_matrix_plot(metrics['y'], metrics['predictions_folds'])"
   ]
  },
  {
   "cell_type": "markdown",
   "metadata": {
    "ExecuteTime": {
     "end_time": "2020-12-02T15:26:55.738222Z",
     "start_time": "2020-12-02T15:26:55.731004Z"
    }
   },
   "source": [
    "## Feature Importance plot "
   ]
  },
  {
   "cell_type": "code",
   "execution_count": 51,
   "metadata": {
    "ExecuteTime": {
     "end_time": "2021-05-03T09:16:36.441024Z",
     "start_time": "2021-05-03T09:16:36.170926Z"
    }
   },
   "outputs": [
    {
     "data": {
      "image/png": "[encoded data removed]",
      "text/plain": [
       "<Figure size 1008x635.294 with 1 Axes>"
      ]
     },
     "metadata": {},
     "output_type": "display_data"
    }
   ],
   "source": [
    "feature_imp_list=oc.plot_imp(metrics['final_clf'],X,'LightGBM Mortality Kaggle',num=15)"
   ]
  },
  {
   "cell_type": "code",
   "execution_count": 52,
   "metadata": {
    "ExecuteTime": {
     "end_time": "2021-05-03T09:16:36.784193Z",
     "start_time": "2021-05-03T09:16:36.780765Z"
    },
    "scrolled": true
   },
   "outputs": [],
   "source": [
    "top_features=feature_imp_list.sort_values(by='Value', ascending=False).head(20)"
   ]
  },
  {
   "cell_type": "code",
   "execution_count": 53,
   "metadata": {
    "ExecuteTime": {
     "end_time": "2021-05-03T09:16:37.289352Z",
     "start_time": "2021-05-03T09:16:37.282502Z"
    }
   },
   "outputs": [
    {
     "data": {
      "text/html": [
       "<div>\n",
       "<style scoped>\n",
       "    .dataframe tbody tr th:only-of-type {\n",
       "        vertical-align: middle;\n",
       "    }\n",
       "\n",
       "    .dataframe tbody tr th {\n",
       "        vertical-align: top;\n",
       "    }\n",
       "\n",
       "    .dataframe thead th {\n",
       "        text-align: right;\n",
       "    }\n",
       "</style>\n",
       "<table border=\"1\" class=\"dataframe\">\n",
       "  <thead>\n",
       "    <tr style=\"text-align: right;\">\n",
       "      <th></th>\n",
       "      <th>Value</th>\n",
       "      <th>Feature</th>\n",
       "    </tr>\n",
       "  </thead>\n",
       "  <tbody>\n",
       "    <tr>\n",
       "      <th>2</th>\n",
       "      <td>1277.191074</td>\n",
       "      <td>Sex</td>\n",
       "    </tr>\n",
       "    <tr>\n",
       "      <th>7</th>\n",
       "      <td>505.184307</td>\n",
       "      <td>Fare</td>\n",
       "    </tr>\n",
       "    <tr>\n",
       "      <th>3</th>\n",
       "      <td>465.067944</td>\n",
       "      <td>Age</td>\n",
       "    </tr>\n",
       "    <tr>\n",
       "      <th>0</th>\n",
       "      <td>391.909616</td>\n",
       "      <td>Pclass</td>\n",
       "    </tr>\n",
       "    <tr>\n",
       "      <th>11</th>\n",
       "      <td>137.200578</td>\n",
       "      <td>relatives</td>\n",
       "    </tr>\n",
       "    <tr>\n",
       "      <th>10</th>\n",
       "      <td>82.758717</td>\n",
       "      <td>Deck</td>\n",
       "    </tr>\n",
       "    <tr>\n",
       "      <th>14</th>\n",
       "      <td>74.876172</td>\n",
       "      <td>Fare_adj</td>\n",
       "    </tr>\n",
       "    <tr>\n",
       "      <th>13</th>\n",
       "      <td>67.989426</td>\n",
       "      <td>Age_fare</td>\n",
       "    </tr>\n",
       "    <tr>\n",
       "      <th>9</th>\n",
       "      <td>55.595229</td>\n",
       "      <td>Embarked</td>\n",
       "    </tr>\n",
       "    <tr>\n",
       "      <th>4</th>\n",
       "      <td>43.271478</td>\n",
       "      <td>SibSp</td>\n",
       "    </tr>\n",
       "    <tr>\n",
       "      <th>8</th>\n",
       "      <td>33.702475</td>\n",
       "      <td>Cabin</td>\n",
       "    </tr>\n",
       "    <tr>\n",
       "      <th>5</th>\n",
       "      <td>32.647921</td>\n",
       "      <td>Parch</td>\n",
       "    </tr>\n",
       "    <tr>\n",
       "      <th>12</th>\n",
       "      <td>16.505022</td>\n",
       "      <td>not_alone</td>\n",
       "    </tr>\n",
       "    <tr>\n",
       "      <th>1</th>\n",
       "      <td>0.000000</td>\n",
       "      <td>Name</td>\n",
       "    </tr>\n",
       "    <tr>\n",
       "      <th>6</th>\n",
       "      <td>0.000000</td>\n",
       "      <td>Ticket</td>\n",
       "    </tr>\n",
       "  </tbody>\n",
       "</table>\n",
       "</div>"
      ],
      "text/plain": [
       "          Value    Feature\n",
       "2   1277.191074  Sex      \n",
       "7   505.184307   Fare     \n",
       "3   465.067944   Age      \n",
       "0   391.909616   Pclass   \n",
       "11  137.200578   relatives\n",
       "10  82.758717    Deck     \n",
       "14  74.876172    Fare_adj \n",
       "13  67.989426    Age_fare \n",
       "9   55.595229    Embarked \n",
       "4   43.271478    SibSp    \n",
       "8   33.702475    Cabin    \n",
       "5   32.647921    Parch    \n",
       "12  16.505022    not_alone\n",
       "1   0.000000     Name     \n",
       "6   0.000000     Ticket   "
      ]
     },
     "execution_count": 53,
     "metadata": {},
     "output_type": "execute_result"
    }
   ],
   "source": [
    "top_features"
   ]
  },
  {
   "cell_type": "markdown",
   "metadata": {
    "ExecuteTime": {
     "end_time": "2020-12-02T15:27:16.624528Z",
     "start_time": "2020-12-02T15:27:16.622361Z"
    }
   },
   "source": [
    "## Correlations analysis (on top features)"
   ]
  },
  {
   "cell_type": "code",
   "execution_count": 54,
   "metadata": {
    "ExecuteTime": {
     "end_time": "2021-05-03T09:16:38.575167Z",
     "start_time": "2021-05-03T09:16:38.310323Z"
    }
   },
   "outputs": [
    {
     "data": {
      "image/png": "[encoded data removed]",
      "text/plain": [
       "<Figure size 792x648 with 2 Axes>"
      ]
     },
     "metadata": {},
     "output_type": "display_data"
    }
   ],
   "source": [
    "list_for_correlations=top_features['Feature'].to_list()\n",
    "list_for_correlations.append('Survived')\n",
    "oc.correlations(XY_df,list_for_correlations)"
   ]
  },
  {
   "cell_type": "code",
   "execution_count": 55,
   "metadata": {
    "ExecuteTime": {
     "end_time": "2021-05-03T09:16:39.304374Z",
     "start_time": "2021-05-03T09:16:39.029330Z"
    }
   },
   "outputs": [
    {
     "name": "stdout",
     "output_type": "stream",
     "text": [
      "Best score using built-in LassoCV: 0.175658\n"
     ]
    },
    {
     "data": {
      "image/png": "[encoded data removed]",
      "text/plain": [
       "<Figure size 576x720 with 1 Axes>"
      ]
     },
     "metadata": {},
     "output_type": "display_data"
    }
   ],
   "source": [
    "oc.target_corr(X,y,top_features['Feature'].to_list())"
   ]
  },
  {
   "cell_type": "markdown",
   "metadata": {},
   "source": [
    "## Data leakage test "
   ]
  },
  {
   "cell_type": "code",
   "execution_count": 56,
   "metadata": {
    "ExecuteTime": {
     "end_time": "2021-05-03T09:16:40.960766Z",
     "start_time": "2021-05-03T09:16:40.948081Z"
    }
   },
   "outputs": [
    {
     "name": "stdout",
     "output_type": "stream",
     "text": [
      "-> \u001b[32m Passed the data leakage test - no duplicate intstances detected \u001b[0m\n",
      "Method Name       :\u001b[35;1m data_leakage\u001b[0m\n",
      "Current memory usage:\u001b[36m 0.019656MB\u001b[0m\n",
      "Peak                :\u001b[36m 0.188689MB\u001b[0m\n",
      "Total time taken:  \u001b[36m 9.089 ms \u001b[0m\n"
     ]
    }
   ],
   "source": [
    "oc.data_leakage(X,top_features['Feature'].to_list())"
   ]
  },
  {
   "cell_type": "markdown",
   "metadata": {},
   "source": [
    "## Analysis of FPs/FNs"
   ]
  },
  {
   "cell_type": "code",
   "execution_count": 57,
   "metadata": {
    "ExecuteTime": {
     "end_time": "2021-05-03T09:16:42.816829Z",
     "start_time": "2021-05-03T09:16:42.518510Z"
    }
   },
   "outputs": [
    {
     "data": {
      "text/plain": [
       "<AxesSubplot:title={'center':'Predictions Distribution'}>"
      ]
     },
     "execution_count": 57,
     "metadata": {},
     "output_type": "execute_result"
    },
    {
     "data": {
      "image/png": "[encoded data removed]",
      "text/plain": [
       "<Figure size 792x432 with 1 Axes>"
      ]
     },
     "metadata": {},
     "output_type": "display_data"
    }
   ],
   "source": [
    "oc.preds_distribution(metrics['y'], metrics['predictions_proba'], bins=40)"
   ]
  },
  {
   "cell_type": "code",
   "execution_count": 58,
   "metadata": {
    "ExecuteTime": {
     "end_time": "2021-05-03T09:16:43.653539Z",
     "start_time": "2021-05-03T09:16:43.639963Z"
    }
   },
   "outputs": [
    {
     "name": "stdout",
     "output_type": "stream",
     "text": [
      "calculating using threshold of:  0.5\n",
      "calculating using threshold of:  0.5\n"
     ]
    }
   ],
   "source": [
    "fps=oc.recieve_fps(XY_df, metrics['index'] ,metrics['y'], metrics['predictions_proba'],top=10)\n",
    "fns=oc.recieve_fns(XY_df, metrics['index'] ,metrics['y'], metrics['predictions_proba'],top=10)"
   ]
  },
  {
   "cell_type": "code",
   "execution_count": 59,
   "metadata": {
    "ExecuteTime": {
     "end_time": "2021-05-03T09:16:44.543319Z",
     "start_time": "2021-05-03T09:16:44.536411Z"
    }
   },
   "outputs": [
    {
     "data": {
      "text/html": [
       "<div>\n",
       "<style scoped>\n",
       "    .dataframe tbody tr th:only-of-type {\n",
       "        vertical-align: middle;\n",
       "    }\n",
       "\n",
       "    .dataframe tbody tr th {\n",
       "        vertical-align: top;\n",
       "    }\n",
       "\n",
       "    .dataframe thead th {\n",
       "        text-align: right;\n",
       "    }\n",
       "</style>\n",
       "<table border=\"1\" class=\"dataframe\">\n",
       "  <thead>\n",
       "    <tr style=\"text-align: right;\">\n",
       "      <th></th>\n",
       "      <th>index</th>\n",
       "      <th>label</th>\n",
       "      <th>preds_proba</th>\n",
       "      <th>preds_class</th>\n",
       "    </tr>\n",
       "  </thead>\n",
       "  <tbody>\n",
       "    <tr>\n",
       "      <th>0</th>\n",
       "      <td>297</td>\n",
       "      <td>0</td>\n",
       "      <td>0.953875</td>\n",
       "      <td>1</td>\n",
       "    </tr>\n",
       "    <tr>\n",
       "      <th>1</th>\n",
       "      <td>852</td>\n",
       "      <td>0</td>\n",
       "      <td>0.932632</td>\n",
       "      <td>1</td>\n",
       "    </tr>\n",
       "    <tr>\n",
       "      <th>2</th>\n",
       "      <td>205</td>\n",
       "      <td>0</td>\n",
       "      <td>0.911668</td>\n",
       "      <td>1</td>\n",
       "    </tr>\n",
       "    <tr>\n",
       "      <th>3</th>\n",
       "      <td>312</td>\n",
       "      <td>0</td>\n",
       "      <td>0.878472</td>\n",
       "      <td>1</td>\n",
       "    </tr>\n",
       "    <tr>\n",
       "      <th>4</th>\n",
       "      <td>498</td>\n",
       "      <td>0</td>\n",
       "      <td>0.873867</td>\n",
       "      <td>1</td>\n",
       "    </tr>\n",
       "    <tr>\n",
       "      <th>5</th>\n",
       "      <td>41</td>\n",
       "      <td>0</td>\n",
       "      <td>0.852585</td>\n",
       "      <td>1</td>\n",
       "    </tr>\n",
       "    <tr>\n",
       "      <th>6</th>\n",
       "      <td>177</td>\n",
       "      <td>0</td>\n",
       "      <td>0.843770</td>\n",
       "      <td>1</td>\n",
       "    </tr>\n",
       "    <tr>\n",
       "      <th>7</th>\n",
       "      <td>772</td>\n",
       "      <td>0</td>\n",
       "      <td>0.843260</td>\n",
       "      <td>1</td>\n",
       "    </tr>\n",
       "    <tr>\n",
       "      <th>8</th>\n",
       "      <td>657</td>\n",
       "      <td>0</td>\n",
       "      <td>0.804047</td>\n",
       "      <td>1</td>\n",
       "    </tr>\n",
       "    <tr>\n",
       "      <th>9</th>\n",
       "      <td>140</td>\n",
       "      <td>0</td>\n",
       "      <td>0.788063</td>\n",
       "      <td>1</td>\n",
       "    </tr>\n",
       "  </tbody>\n",
       "</table>\n",
       "</div>"
      ],
      "text/plain": [
       "   index  label  preds_proba  preds_class\n",
       "0  297    0      0.953875     1          \n",
       "1  852    0      0.932632     1          \n",
       "2  205    0      0.911668     1          \n",
       "3  312    0      0.878472     1          \n",
       "4  498    0      0.873867     1          \n",
       "5  41     0      0.852585     1          \n",
       "6  177    0      0.843770     1          \n",
       "7  772    0      0.843260     1          \n",
       "8  657    0      0.804047     1          \n",
       "9  140    0      0.788063     1          "
      ]
     },
     "execution_count": 59,
     "metadata": {},
     "output_type": "execute_result"
    }
   ],
   "source": [
    "fps"
   ]
  },
  {
   "cell_type": "code",
   "execution_count": 60,
   "metadata": {
    "ExecuteTime": {
     "end_time": "2021-05-03T09:16:45.329695Z",
     "start_time": "2021-05-03T09:16:45.322946Z"
    }
   },
   "outputs": [
    {
     "data": {
      "text/html": [
       "<div>\n",
       "<style scoped>\n",
       "    .dataframe tbody tr th:only-of-type {\n",
       "        vertical-align: middle;\n",
       "    }\n",
       "\n",
       "    .dataframe tbody tr th {\n",
       "        vertical-align: top;\n",
       "    }\n",
       "\n",
       "    .dataframe thead th {\n",
       "        text-align: right;\n",
       "    }\n",
       "</style>\n",
       "<table border=\"1\" class=\"dataframe\">\n",
       "  <thead>\n",
       "    <tr style=\"text-align: right;\">\n",
       "      <th></th>\n",
       "      <th>index</th>\n",
       "      <th>label</th>\n",
       "      <th>preds_proba</th>\n",
       "      <th>preds_class</th>\n",
       "    </tr>\n",
       "  </thead>\n",
       "  <tbody>\n",
       "    <tr>\n",
       "      <th>0</th>\n",
       "      <td>444</td>\n",
       "      <td>1</td>\n",
       "      <td>0.044212</td>\n",
       "      <td>0</td>\n",
       "    </tr>\n",
       "    <tr>\n",
       "      <th>1</th>\n",
       "      <td>570</td>\n",
       "      <td>1</td>\n",
       "      <td>0.044627</td>\n",
       "      <td>0</td>\n",
       "    </tr>\n",
       "    <tr>\n",
       "      <th>2</th>\n",
       "      <td>709</td>\n",
       "      <td>1</td>\n",
       "      <td>0.046397</td>\n",
       "      <td>0</td>\n",
       "    </tr>\n",
       "    <tr>\n",
       "      <th>3</th>\n",
       "      <td>65</td>\n",
       "      <td>1</td>\n",
       "      <td>0.046397</td>\n",
       "      <td>0</td>\n",
       "    </tr>\n",
       "    <tr>\n",
       "      <th>4</th>\n",
       "      <td>338</td>\n",
       "      <td>1</td>\n",
       "      <td>0.049220</td>\n",
       "      <td>0</td>\n",
       "    </tr>\n",
       "    <tr>\n",
       "      <th>5</th>\n",
       "      <td>127</td>\n",
       "      <td>1</td>\n",
       "      <td>0.051358</td>\n",
       "      <td>0</td>\n",
       "    </tr>\n",
       "    <tr>\n",
       "      <th>6</th>\n",
       "      <td>107</td>\n",
       "      <td>1</td>\n",
       "      <td>0.053537</td>\n",
       "      <td>0</td>\n",
       "    </tr>\n",
       "    <tr>\n",
       "      <th>7</th>\n",
       "      <td>271</td>\n",
       "      <td>1</td>\n",
       "      <td>0.061725</td>\n",
       "      <td>0</td>\n",
       "    </tr>\n",
       "    <tr>\n",
       "      <th>8</th>\n",
       "      <td>391</td>\n",
       "      <td>1</td>\n",
       "      <td>0.062768</td>\n",
       "      <td>0</td>\n",
       "    </tr>\n",
       "    <tr>\n",
       "      <th>9</th>\n",
       "      <td>400</td>\n",
       "      <td>1</td>\n",
       "      <td>0.064742</td>\n",
       "      <td>0</td>\n",
       "    </tr>\n",
       "  </tbody>\n",
       "</table>\n",
       "</div>"
      ],
      "text/plain": [
       "   index  label  preds_proba  preds_class\n",
       "0  444    1      0.044212     0          \n",
       "1  570    1      0.044627     0          \n",
       "2  709    1      0.046397     0          \n",
       "3  65     1      0.046397     0          \n",
       "4  338    1      0.049220     0          \n",
       "5  127    1      0.051358     0          \n",
       "6  107    1      0.053537     0          \n",
       "7  271    1      0.061725     0          \n",
       "8  391    1      0.062768     0          \n",
       "9  400    1      0.064742     0          "
      ]
     },
     "execution_count": 60,
     "metadata": {},
     "output_type": "execute_result"
    }
   ],
   "source": [
    "fns"
   ]
  },
  {
   "cell_type": "code",
   "execution_count": 61,
   "metadata": {
    "ExecuteTime": {
     "end_time": "2021-05-03T09:16:46.901583Z",
     "start_time": "2021-05-03T09:16:46.881599Z"
    }
   },
   "outputs": [],
   "source": [
    "filter_fps  = XY_df[XY_df.index.isin(fps['index'])]\n",
    "filter_fns  = XY_df[XY_df.index.isin(fns['index'])]\n",
    "filter_fps_with_prediction=pd.merge(filter_fps,fps[['index','preds_proba']], left_on=[pd.Series(filter_fps.index.values)], right_on=fps['index']) \n",
    "filter_fns_with_prediction=pd.merge(filter_fns,fns[['index','preds_proba']], left_on=[pd.Series(filter_fns.index.values)], right_on=fns['index']) "
   ]
  },
  {
   "cell_type": "markdown",
   "metadata": {},
   "source": [
    "### Top FPs with full features "
   ]
  },
  {
   "cell_type": "code",
   "execution_count": 62,
   "metadata": {
    "ExecuteTime": {
     "end_time": "2021-05-03T09:16:48.113898Z",
     "start_time": "2021-05-03T09:16:48.091981Z"
    }
   },
   "outputs": [
    {
     "data": {
      "text/html": [
       "<div>\n",
       "<style scoped>\n",
       "    .dataframe tbody tr th:only-of-type {\n",
       "        vertical-align: middle;\n",
       "    }\n",
       "\n",
       "    .dataframe tbody tr th {\n",
       "        vertical-align: top;\n",
       "    }\n",
       "\n",
       "    .dataframe thead th {\n",
       "        text-align: right;\n",
       "    }\n",
       "</style>\n",
       "<table border=\"1\" class=\"dataframe\">\n",
       "  <thead>\n",
       "    <tr style=\"text-align: right;\">\n",
       "      <th></th>\n",
       "      <th>key_0</th>\n",
       "      <th>PassengerId</th>\n",
       "      <th>Survived</th>\n",
       "      <th>Pclass</th>\n",
       "      <th>Name</th>\n",
       "      <th>Sex</th>\n",
       "      <th>Age</th>\n",
       "      <th>SibSp</th>\n",
       "      <th>Parch</th>\n",
       "      <th>Ticket</th>\n",
       "      <th>Fare</th>\n",
       "      <th>Cabin</th>\n",
       "      <th>Embarked</th>\n",
       "      <th>Deck</th>\n",
       "      <th>relatives</th>\n",
       "      <th>not_alone</th>\n",
       "      <th>Age_fare</th>\n",
       "      <th>Fare_adj</th>\n",
       "      <th>index</th>\n",
       "      <th>preds_proba</th>\n",
       "    </tr>\n",
       "  </thead>\n",
       "  <tbody>\n",
       "    <tr>\n",
       "      <th>0</th>\n",
       "      <td>41</td>\n",
       "      <td>42</td>\n",
       "      <td>0</td>\n",
       "      <td>2</td>\n",
       "      <td>Turpin, Mrs. William John Robert (Dorothy Ann Wonnacott)</td>\n",
       "      <td>female</td>\n",
       "      <td>27.0</td>\n",
       "      <td>1</td>\n",
       "      <td>0</td>\n",
       "      <td>11668</td>\n",
       "      <td>21.0000</td>\n",
       "      <td>nan</td>\n",
       "      <td>S</td>\n",
       "      <td>0.0</td>\n",
       "      <td>1</td>\n",
       "      <td>0</td>\n",
       "      <td>1.0</td>\n",
       "      <td>2.0</td>\n",
       "      <td>41</td>\n",
       "      <td>0.852585</td>\n",
       "    </tr>\n",
       "    <tr>\n",
       "      <th>1</th>\n",
       "      <td>140</td>\n",
       "      <td>141</td>\n",
       "      <td>0</td>\n",
       "      <td>3</td>\n",
       "      <td>Boulos, Mrs. Joseph (Sultana)</td>\n",
       "      <td>female</td>\n",
       "      <td>NaN</td>\n",
       "      <td>0</td>\n",
       "      <td>2</td>\n",
       "      <td>2678</td>\n",
       "      <td>15.2458</td>\n",
       "      <td>nan</td>\n",
       "      <td>C</td>\n",
       "      <td>0.0</td>\n",
       "      <td>2</td>\n",
       "      <td>0</td>\n",
       "      <td>NaN</td>\n",
       "      <td>2.0</td>\n",
       "      <td>140</td>\n",
       "      <td>0.788063</td>\n",
       "    </tr>\n",
       "    <tr>\n",
       "      <th>2</th>\n",
       "      <td>177</td>\n",
       "      <td>178</td>\n",
       "      <td>0</td>\n",
       "      <td>1</td>\n",
       "      <td>Isham, Miss. Ann Elizabeth</td>\n",
       "      <td>female</td>\n",
       "      <td>50.0</td>\n",
       "      <td>0</td>\n",
       "      <td>0</td>\n",
       "      <td>PC 17595</td>\n",
       "      <td>28.7125</td>\n",
       "      <td>C49</td>\n",
       "      <td>C</td>\n",
       "      <td>3.0</td>\n",
       "      <td>0</td>\n",
       "      <td>1</td>\n",
       "      <td>4.0</td>\n",
       "      <td>2.0</td>\n",
       "      <td>177</td>\n",
       "      <td>0.843770</td>\n",
       "    </tr>\n",
       "    <tr>\n",
       "      <th>3</th>\n",
       "      <td>205</td>\n",
       "      <td>206</td>\n",
       "      <td>0</td>\n",
       "      <td>3</td>\n",
       "      <td>Strom, Miss. Telma Matilda</td>\n",
       "      <td>female</td>\n",
       "      <td>2.0</td>\n",
       "      <td>0</td>\n",
       "      <td>1</td>\n",
       "      <td>347054</td>\n",
       "      <td>10.4625</td>\n",
       "      <td>G6</td>\n",
       "      <td>S</td>\n",
       "      <td>7.0</td>\n",
       "      <td>1</td>\n",
       "      <td>0</td>\n",
       "      <td>0.0</td>\n",
       "      <td>1.0</td>\n",
       "      <td>205</td>\n",
       "      <td>0.911668</td>\n",
       "    </tr>\n",
       "    <tr>\n",
       "      <th>4</th>\n",
       "      <td>297</td>\n",
       "      <td>298</td>\n",
       "      <td>0</td>\n",
       "      <td>1</td>\n",
       "      <td>Allison, Miss. Helen Loraine</td>\n",
       "      <td>female</td>\n",
       "      <td>2.0</td>\n",
       "      <td>1</td>\n",
       "      <td>2</td>\n",
       "      <td>113781</td>\n",
       "      <td>151.5500</td>\n",
       "      <td>C22 C26</td>\n",
       "      <td>S</td>\n",
       "      <td>3.0</td>\n",
       "      <td>3</td>\n",
       "      <td>0</td>\n",
       "      <td>0.0</td>\n",
       "      <td>3.0</td>\n",
       "      <td>297</td>\n",
       "      <td>0.953875</td>\n",
       "    </tr>\n",
       "    <tr>\n",
       "      <th>5</th>\n",
       "      <td>312</td>\n",
       "      <td>313</td>\n",
       "      <td>0</td>\n",
       "      <td>2</td>\n",
       "      <td>Lahtinen, Mrs. William (Anna Sylfven)</td>\n",
       "      <td>female</td>\n",
       "      <td>26.0</td>\n",
       "      <td>1</td>\n",
       "      <td>1</td>\n",
       "      <td>250651</td>\n",
       "      <td>26.0000</td>\n",
       "      <td>nan</td>\n",
       "      <td>S</td>\n",
       "      <td>0.0</td>\n",
       "      <td>2</td>\n",
       "      <td>0</td>\n",
       "      <td>1.0</td>\n",
       "      <td>2.0</td>\n",
       "      <td>312</td>\n",
       "      <td>0.878472</td>\n",
       "    </tr>\n",
       "    <tr>\n",
       "      <th>6</th>\n",
       "      <td>498</td>\n",
       "      <td>499</td>\n",
       "      <td>0</td>\n",
       "      <td>1</td>\n",
       "      <td>Allison, Mrs. Hudson J C (Bessie Waldo Daniels)</td>\n",
       "      <td>female</td>\n",
       "      <td>25.0</td>\n",
       "      <td>1</td>\n",
       "      <td>2</td>\n",
       "      <td>113781</td>\n",
       "      <td>151.5500</td>\n",
       "      <td>C22 C26</td>\n",
       "      <td>S</td>\n",
       "      <td>3.0</td>\n",
       "      <td>3</td>\n",
       "      <td>0</td>\n",
       "      <td>1.0</td>\n",
       "      <td>3.0</td>\n",
       "      <td>498</td>\n",
       "      <td>0.873867</td>\n",
       "    </tr>\n",
       "    <tr>\n",
       "      <th>7</th>\n",
       "      <td>657</td>\n",
       "      <td>658</td>\n",
       "      <td>0</td>\n",
       "      <td>3</td>\n",
       "      <td>Bourke, Mrs. John (Catherine)</td>\n",
       "      <td>female</td>\n",
       "      <td>32.0</td>\n",
       "      <td>1</td>\n",
       "      <td>1</td>\n",
       "      <td>364849</td>\n",
       "      <td>15.5000</td>\n",
       "      <td>nan</td>\n",
       "      <td>Q</td>\n",
       "      <td>0.0</td>\n",
       "      <td>2</td>\n",
       "      <td>0</td>\n",
       "      <td>1.0</td>\n",
       "      <td>2.0</td>\n",
       "      <td>657</td>\n",
       "      <td>0.804047</td>\n",
       "    </tr>\n",
       "    <tr>\n",
       "      <th>8</th>\n",
       "      <td>772</td>\n",
       "      <td>773</td>\n",
       "      <td>0</td>\n",
       "      <td>2</td>\n",
       "      <td>Mack, Mrs. (Mary)</td>\n",
       "      <td>female</td>\n",
       "      <td>57.0</td>\n",
       "      <td>0</td>\n",
       "      <td>0</td>\n",
       "      <td>S.O./P.P. 3</td>\n",
       "      <td>10.5000</td>\n",
       "      <td>E77</td>\n",
       "      <td>S</td>\n",
       "      <td>5.0</td>\n",
       "      <td>0</td>\n",
       "      <td>1</td>\n",
       "      <td>4.0</td>\n",
       "      <td>1.0</td>\n",
       "      <td>772</td>\n",
       "      <td>0.843260</td>\n",
       "    </tr>\n",
       "    <tr>\n",
       "      <th>9</th>\n",
       "      <td>852</td>\n",
       "      <td>853</td>\n",
       "      <td>0</td>\n",
       "      <td>3</td>\n",
       "      <td>Boulos, Miss. Nourelain</td>\n",
       "      <td>female</td>\n",
       "      <td>9.0</td>\n",
       "      <td>1</td>\n",
       "      <td>1</td>\n",
       "      <td>2678</td>\n",
       "      <td>15.2458</td>\n",
       "      <td>nan</td>\n",
       "      <td>C</td>\n",
       "      <td>0.0</td>\n",
       "      <td>2</td>\n",
       "      <td>0</td>\n",
       "      <td>0.0</td>\n",
       "      <td>2.0</td>\n",
       "      <td>852</td>\n",
       "      <td>0.932632</td>\n",
       "    </tr>\n",
       "  </tbody>\n",
       "</table>\n",
       "</div>"
      ],
      "text/plain": [
       "   key_0  PassengerId  Survived  Pclass  \\\n",
       "0  41     42           0         2        \n",
       "1  140    141          0         3        \n",
       "2  177    178          0         1        \n",
       "3  205    206          0         3        \n",
       "4  297    298          0         1        \n",
       "5  312    313          0         2        \n",
       "6  498    499          0         1        \n",
       "7  657    658          0         3        \n",
       "8  772    773          0         2        \n",
       "9  852    853          0         3        \n",
       "\n",
       "                                                       Name     Sex   Age  \\\n",
       "0  Turpin, Mrs. William John Robert (Dorothy Ann Wonnacott)  female  27.0   \n",
       "1  Boulos, Mrs. Joseph (Sultana)                             female NaN     \n",
       "2  Isham, Miss. Ann Elizabeth                                female  50.0   \n",
       "3  Strom, Miss. Telma Matilda                                female  2.0    \n",
       "4  Allison, Miss. Helen Loraine                              female  2.0    \n",
       "5  Lahtinen, Mrs. William (Anna Sylfven)                     female  26.0   \n",
       "6  Allison, Mrs. Hudson J C (Bessie Waldo Daniels)           female  25.0   \n",
       "7  Bourke, Mrs. John (Catherine)                             female  32.0   \n",
       "8  Mack, Mrs. (Mary)                                         female  57.0   \n",
       "9  Boulos, Miss. Nourelain                                   female  9.0    \n",
       "\n",
       "   SibSp  Parch       Ticket      Fare    Cabin Embarked Deck  relatives  \\\n",
       "0  1      0      11668        21.0000   nan      S        0.0  1           \n",
       "1  0      2      2678         15.2458   nan      C        0.0  2           \n",
       "2  0      0      PC 17595     28.7125   C49      C        3.0  0           \n",
       "3  0      1      347054       10.4625   G6       S        7.0  1           \n",
       "4  1      2      113781       151.5500  C22 C26  S        3.0  3           \n",
       "5  1      1      250651       26.0000   nan      S        0.0  2           \n",
       "6  1      2      113781       151.5500  C22 C26  S        3.0  3           \n",
       "7  1      1      364849       15.5000   nan      Q        0.0  2           \n",
       "8  0      0      S.O./P.P. 3  10.5000   E77      S        5.0  0           \n",
       "9  1      1      2678         15.2458   nan      C        0.0  2           \n",
       "\n",
       "   not_alone  Age_fare  Fare_adj  index  preds_proba  \n",
       "0  0          1.0       2.0       41     0.852585     \n",
       "1  0         NaN        2.0       140    0.788063     \n",
       "2  1          4.0       2.0       177    0.843770     \n",
       "3  0          0.0       1.0       205    0.911668     \n",
       "4  0          0.0       3.0       297    0.953875     \n",
       "5  0          1.0       2.0       312    0.878472     \n",
       "6  0          1.0       3.0       498    0.873867     \n",
       "7  0          1.0       2.0       657    0.804047     \n",
       "8  1          4.0       1.0       772    0.843260     \n",
       "9  0          0.0       2.0       852    0.932632     "
      ]
     },
     "execution_count": 62,
     "metadata": {},
     "output_type": "execute_result"
    }
   ],
   "source": [
    "filter_fps_with_prediction"
   ]
  },
  {
   "cell_type": "markdown",
   "metadata": {},
   "source": [
    "### Top FNs with full features "
   ]
  },
  {
   "cell_type": "code",
   "execution_count": 63,
   "metadata": {
    "ExecuteTime": {
     "end_time": "2021-05-03T09:16:49.839102Z",
     "start_time": "2021-05-03T09:16:49.819627Z"
    }
   },
   "outputs": [
    {
     "data": {
      "text/html": [
       "<div>\n",
       "<style scoped>\n",
       "    .dataframe tbody tr th:only-of-type {\n",
       "        vertical-align: middle;\n",
       "    }\n",
       "\n",
       "    .dataframe tbody tr th {\n",
       "        vertical-align: top;\n",
       "    }\n",
       "\n",
       "    .dataframe thead th {\n",
       "        text-align: right;\n",
       "    }\n",
       "</style>\n",
       "<table border=\"1\" class=\"dataframe\">\n",
       "  <thead>\n",
       "    <tr style=\"text-align: right;\">\n",
       "      <th></th>\n",
       "      <th>key_0</th>\n",
       "      <th>PassengerId</th>\n",
       "      <th>Survived</th>\n",
       "      <th>Pclass</th>\n",
       "      <th>Name</th>\n",
       "      <th>Sex</th>\n",
       "      <th>Age</th>\n",
       "      <th>SibSp</th>\n",
       "      <th>Parch</th>\n",
       "      <th>Ticket</th>\n",
       "      <th>Fare</th>\n",
       "      <th>Cabin</th>\n",
       "      <th>Embarked</th>\n",
       "      <th>Deck</th>\n",
       "      <th>relatives</th>\n",
       "      <th>not_alone</th>\n",
       "      <th>Age_fare</th>\n",
       "      <th>Fare_adj</th>\n",
       "      <th>index</th>\n",
       "      <th>preds_proba</th>\n",
       "    </tr>\n",
       "  </thead>\n",
       "  <tbody>\n",
       "    <tr>\n",
       "      <th>0</th>\n",
       "      <td>65</td>\n",
       "      <td>66</td>\n",
       "      <td>1</td>\n",
       "      <td>3</td>\n",
       "      <td>Moubarek, Master. Gerios</td>\n",
       "      <td>male</td>\n",
       "      <td>NaN</td>\n",
       "      <td>1</td>\n",
       "      <td>1</td>\n",
       "      <td>2661</td>\n",
       "      <td>15.2458</td>\n",
       "      <td>nan</td>\n",
       "      <td>C</td>\n",
       "      <td>0.0</td>\n",
       "      <td>2</td>\n",
       "      <td>0</td>\n",
       "      <td>NaN</td>\n",
       "      <td>2.0</td>\n",
       "      <td>65</td>\n",
       "      <td>0.046397</td>\n",
       "    </tr>\n",
       "    <tr>\n",
       "      <th>1</th>\n",
       "      <td>107</td>\n",
       "      <td>108</td>\n",
       "      <td>1</td>\n",
       "      <td>3</td>\n",
       "      <td>Moss, Mr. Albert Johan</td>\n",
       "      <td>male</td>\n",
       "      <td>NaN</td>\n",
       "      <td>0</td>\n",
       "      <td>0</td>\n",
       "      <td>312991</td>\n",
       "      <td>0.0000</td>\n",
       "      <td>nan</td>\n",
       "      <td>S</td>\n",
       "      <td>0.0</td>\n",
       "      <td>0</td>\n",
       "      <td>1</td>\n",
       "      <td>NaN</td>\n",
       "      <td>NaN</td>\n",
       "      <td>107</td>\n",
       "      <td>0.053537</td>\n",
       "    </tr>\n",
       "    <tr>\n",
       "      <th>2</th>\n",
       "      <td>127</td>\n",
       "      <td>128</td>\n",
       "      <td>1</td>\n",
       "      <td>3</td>\n",
       "      <td>Madsen, Mr. Fridtjof Arne</td>\n",
       "      <td>male</td>\n",
       "      <td>24.0</td>\n",
       "      <td>0</td>\n",
       "      <td>0</td>\n",
       "      <td>C 17369</td>\n",
       "      <td>0.0000</td>\n",
       "      <td>nan</td>\n",
       "      <td>S</td>\n",
       "      <td>0.0</td>\n",
       "      <td>0</td>\n",
       "      <td>1</td>\n",
       "      <td>1.0</td>\n",
       "      <td>NaN</td>\n",
       "      <td>127</td>\n",
       "      <td>0.051358</td>\n",
       "    </tr>\n",
       "    <tr>\n",
       "      <th>3</th>\n",
       "      <td>271</td>\n",
       "      <td>272</td>\n",
       "      <td>1</td>\n",
       "      <td>3</td>\n",
       "      <td>Tornquist, Mr. William Henry</td>\n",
       "      <td>male</td>\n",
       "      <td>25.0</td>\n",
       "      <td>0</td>\n",
       "      <td>0</td>\n",
       "      <td>LINE</td>\n",
       "      <td>0.0000</td>\n",
       "      <td>nan</td>\n",
       "      <td>S</td>\n",
       "      <td>0.0</td>\n",
       "      <td>0</td>\n",
       "      <td>1</td>\n",
       "      <td>1.0</td>\n",
       "      <td>NaN</td>\n",
       "      <td>271</td>\n",
       "      <td>0.061725</td>\n",
       "    </tr>\n",
       "    <tr>\n",
       "      <th>4</th>\n",
       "      <td>338</td>\n",
       "      <td>339</td>\n",
       "      <td>1</td>\n",
       "      <td>3</td>\n",
       "      <td>Dahl, Mr. Karl Edwart</td>\n",
       "      <td>male</td>\n",
       "      <td>45.0</td>\n",
       "      <td>0</td>\n",
       "      <td>0</td>\n",
       "      <td>7598</td>\n",
       "      <td>8.0500</td>\n",
       "      <td>nan</td>\n",
       "      <td>S</td>\n",
       "      <td>0.0</td>\n",
       "      <td>0</td>\n",
       "      <td>1</td>\n",
       "      <td>2.0</td>\n",
       "      <td>1.0</td>\n",
       "      <td>338</td>\n",
       "      <td>0.049220</td>\n",
       "    </tr>\n",
       "    <tr>\n",
       "      <th>5</th>\n",
       "      <td>391</td>\n",
       "      <td>392</td>\n",
       "      <td>1</td>\n",
       "      <td>3</td>\n",
       "      <td>Jansson, Mr. Carl Olof</td>\n",
       "      <td>male</td>\n",
       "      <td>21.0</td>\n",
       "      <td>0</td>\n",
       "      <td>0</td>\n",
       "      <td>350034</td>\n",
       "      <td>0.0000</td>\n",
       "      <td>nan</td>\n",
       "      <td>S</td>\n",
       "      <td>0.0</td>\n",
       "      <td>0</td>\n",
       "      <td>1</td>\n",
       "      <td>1.0</td>\n",
       "      <td>NaN</td>\n",
       "      <td>391</td>\n",
       "      <td>0.062768</td>\n",
       "    </tr>\n",
       "    <tr>\n",
       "      <th>6</th>\n",
       "      <td>400</td>\n",
       "      <td>401</td>\n",
       "      <td>1</td>\n",
       "      <td>3</td>\n",
       "      <td>Niskanen, Mr. Juha</td>\n",
       "      <td>male</td>\n",
       "      <td>39.0</td>\n",
       "      <td>0</td>\n",
       "      <td>0</td>\n",
       "      <td>STON/O 2. 3101289</td>\n",
       "      <td>7.9250</td>\n",
       "      <td>nan</td>\n",
       "      <td>S</td>\n",
       "      <td>0.0</td>\n",
       "      <td>0</td>\n",
       "      <td>1</td>\n",
       "      <td>2.0</td>\n",
       "      <td>1.0</td>\n",
       "      <td>400</td>\n",
       "      <td>0.064742</td>\n",
       "    </tr>\n",
       "    <tr>\n",
       "      <th>7</th>\n",
       "      <td>444</td>\n",
       "      <td>445</td>\n",
       "      <td>1</td>\n",
       "      <td>3</td>\n",
       "      <td>Johannesen-Bratthammer, Mr. Bernt</td>\n",
       "      <td>male</td>\n",
       "      <td>NaN</td>\n",
       "      <td>0</td>\n",
       "      <td>0</td>\n",
       "      <td>65306</td>\n",
       "      <td>8.1125</td>\n",
       "      <td>nan</td>\n",
       "      <td>S</td>\n",
       "      <td>0.0</td>\n",
       "      <td>0</td>\n",
       "      <td>1</td>\n",
       "      <td>NaN</td>\n",
       "      <td>1.0</td>\n",
       "      <td>444</td>\n",
       "      <td>0.044212</td>\n",
       "    </tr>\n",
       "    <tr>\n",
       "      <th>8</th>\n",
       "      <td>570</td>\n",
       "      <td>571</td>\n",
       "      <td>1</td>\n",
       "      <td>2</td>\n",
       "      <td>Harris, Mr. George</td>\n",
       "      <td>male</td>\n",
       "      <td>62.0</td>\n",
       "      <td>0</td>\n",
       "      <td>0</td>\n",
       "      <td>S.W./PP 752</td>\n",
       "      <td>10.5000</td>\n",
       "      <td>nan</td>\n",
       "      <td>S</td>\n",
       "      <td>0.0</td>\n",
       "      <td>0</td>\n",
       "      <td>1</td>\n",
       "      <td>4.0</td>\n",
       "      <td>1.0</td>\n",
       "      <td>570</td>\n",
       "      <td>0.044627</td>\n",
       "    </tr>\n",
       "    <tr>\n",
       "      <th>9</th>\n",
       "      <td>709</td>\n",
       "      <td>710</td>\n",
       "      <td>1</td>\n",
       "      <td>3</td>\n",
       "      <td>Moubarek, Master. Halim Gonios (\"William George\")</td>\n",
       "      <td>male</td>\n",
       "      <td>NaN</td>\n",
       "      <td>1</td>\n",
       "      <td>1</td>\n",
       "      <td>2661</td>\n",
       "      <td>15.2458</td>\n",
       "      <td>nan</td>\n",
       "      <td>C</td>\n",
       "      <td>0.0</td>\n",
       "      <td>2</td>\n",
       "      <td>0</td>\n",
       "      <td>NaN</td>\n",
       "      <td>2.0</td>\n",
       "      <td>709</td>\n",
       "      <td>0.046397</td>\n",
       "    </tr>\n",
       "  </tbody>\n",
       "</table>\n",
       "</div>"
      ],
      "text/plain": [
       "   key_0  PassengerId  Survived  Pclass  \\\n",
       "0  65     66           1         3        \n",
       "1  107    108          1         3        \n",
       "2  127    128          1         3        \n",
       "3  271    272          1         3        \n",
       "4  338    339          1         3        \n",
       "5  391    392          1         3        \n",
       "6  400    401          1         3        \n",
       "7  444    445          1         3        \n",
       "8  570    571          1         2        \n",
       "9  709    710          1         3        \n",
       "\n",
       "                                                Name   Sex   Age  SibSp  \\\n",
       "0  Moubarek, Master. Gerios                           male NaN    1       \n",
       "1  Moss, Mr. Albert Johan                             male NaN    0       \n",
       "2  Madsen, Mr. Fridtjof Arne                          male  24.0  0       \n",
       "3  Tornquist, Mr. William Henry                       male  25.0  0       \n",
       "4  Dahl, Mr. Karl Edwart                              male  45.0  0       \n",
       "5  Jansson, Mr. Carl Olof                             male  21.0  0       \n",
       "6  Niskanen, Mr. Juha                                 male  39.0  0       \n",
       "7  Johannesen-Bratthammer, Mr. Bernt                  male NaN    0       \n",
       "8  Harris, Mr. George                                 male  62.0  0       \n",
       "9  Moubarek, Master. Halim Gonios (\"William George\")  male NaN    1       \n",
       "\n",
       "   Parch             Ticket     Fare Cabin Embarked Deck  relatives  \\\n",
       "0  1      2661               15.2458  nan   C        0.0  2           \n",
       "1  0      312991             0.0000   nan   S        0.0  0           \n",
       "2  0      C 17369            0.0000   nan   S        0.0  0           \n",
       "3  0      LINE               0.0000   nan   S        0.0  0           \n",
       "4  0      7598               8.0500   nan   S        0.0  0           \n",
       "5  0      350034             0.0000   nan   S        0.0  0           \n",
       "6  0      STON/O 2. 3101289  7.9250   nan   S        0.0  0           \n",
       "7  0      65306              8.1125   nan   S        0.0  0           \n",
       "8  0      S.W./PP 752        10.5000  nan   S        0.0  0           \n",
       "9  1      2661               15.2458  nan   C        0.0  2           \n",
       "\n",
       "   not_alone  Age_fare  Fare_adj  index  preds_proba  \n",
       "0  0         NaN        2.0       65     0.046397     \n",
       "1  1         NaN       NaN        107    0.053537     \n",
       "2  1          1.0      NaN        127    0.051358     \n",
       "3  1          1.0      NaN        271    0.061725     \n",
       "4  1          2.0       1.0       338    0.049220     \n",
       "5  1          1.0      NaN        391    0.062768     \n",
       "6  1          2.0       1.0       400    0.064742     \n",
       "7  1         NaN        1.0       444    0.044212     \n",
       "8  1          4.0       1.0       570    0.044627     \n",
       "9  0         NaN        2.0       709    0.046397     "
      ]
     },
     "execution_count": 63,
     "metadata": {},
     "output_type": "execute_result"
    }
   ],
   "source": [
    "filter_fns_with_prediction"
   ]
  },
  {
   "cell_type": "code",
   "execution_count": null,
   "metadata": {},
   "outputs": [],
   "source": []
  }
 ],
 "metadata": {
  "kernelspec": {
   "display_name": "Python 3",
   "language": "python",
   "name": "python3"
  },
  "language_info": {
   "codemirror_mode": {
    "name": "ipython",
    "version": 3
   },
   "file_extension": ".py",
   "mimetype": "text/x-python",
   "name": "python",
   "nbconvert_exporter": "python",
   "pygments_lexer": "ipython3",
   "version": "3.8.5"
  },
  "toc": {
   "base_numbering": 1,
   "nav_menu": {},
   "number_sections": true,
   "sideBar": true,
   "skip_h1_title": false,
   "title_cell": "Table of Contents",
   "title_sidebar": "Contents",
   "toc_cell": true,
   "toc_position": {
    "height": "calc(100% - 180px)",
    "left": "10px",
    "top": "150px",
    "width": "185.488px"
   },
   "toc_section_display": true,
   "toc_window_display": true
  }
 },
 "nbformat": 4,
 "nbformat_minor": 4
}
